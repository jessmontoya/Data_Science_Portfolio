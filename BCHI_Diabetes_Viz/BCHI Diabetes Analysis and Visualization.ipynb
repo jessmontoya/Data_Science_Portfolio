{
 "cells": [
  {
   "cell_type": "markdown",
   "metadata": {},
   "source": [
    "# Diabetes Analysis and Visualization\n",
    "Data source: Big Cities Health Inventory Data Platform. Big Cities Health Coalition, National Association of County and City Health Officials. http://www.bigcitieshealth.org/city-data accessed 9/1/2019. \n",
    "\n",
    "Import libraries and read in data."
   ]
  },
  {
   "cell_type": "code",
   "execution_count": 1,
   "metadata": {},
   "outputs": [],
   "source": [
    "import pandas as pd\n",
    "import numpy as np\n",
    "from scipy import stats\n",
    "%matplotlib inline\n",
    "import matplotlib.pyplot as plt\n",
    "import seaborn as sns\n",
    "sns.set(\n",
    "    font_scale=1.5,\n",
    "    style=\"whitegrid\",\n",
    "    rc={'figure.figsize':(20,7)}\n",
    ")\n",
    "plt.style.use('ggplot')"
   ]
  },
  {
   "cell_type": "code",
   "execution_count": 2,
   "metadata": {},
   "outputs": [],
   "source": [
    "pd.options.display.max_rows = 1000\n",
    "pd.options.display.max_columns = 1000"
   ]
  },
  {
   "cell_type": "code",
   "execution_count": 3,
   "metadata": {},
   "outputs": [],
   "source": [
    "df = pd.read_csv('BCHI-dataset_2019-03-04.csv')"
   ]
  },
  {
   "cell_type": "markdown",
   "metadata": {},
   "source": [
    "## Exploratory data analysis and cleaning\n",
    "\n",
    "I visualize the first and last five rows of the data using df.head() and df.tail(). I also use df.info() to show the data types and get an idea of how many null values are in each column. The column names are fairly self explanatory. "
   ]
  },
  {
   "cell_type": "code",
   "execution_count": 4,
   "metadata": {},
   "outputs": [
    {
     "data": {
      "text/html": [
       "<div>\n",
       "<style scoped>\n",
       "    .dataframe tbody tr th:only-of-type {\n",
       "        vertical-align: middle;\n",
       "    }\n",
       "\n",
       "    .dataframe tbody tr th {\n",
       "        vertical-align: top;\n",
       "    }\n",
       "\n",
       "    .dataframe thead th {\n",
       "        text-align: right;\n",
       "    }\n",
       "</style>\n",
       "<table border=\"1\" class=\"dataframe\">\n",
       "  <thead>\n",
       "    <tr style=\"text-align: right;\">\n",
       "      <th></th>\n",
       "      <th>Indicator Category</th>\n",
       "      <th>Indicator</th>\n",
       "      <th>Year</th>\n",
       "      <th>Sex</th>\n",
       "      <th>Race/Ethnicity</th>\n",
       "      <th>Value</th>\n",
       "      <th>Place</th>\n",
       "      <th>BCHC Requested Methodology</th>\n",
       "      <th>Source</th>\n",
       "      <th>Methods</th>\n",
       "      <th>Notes</th>\n",
       "      <th>90% Confidence Level - Low</th>\n",
       "      <th>90% Confidence Level - High</th>\n",
       "      <th>95% Confidence Level - Low</th>\n",
       "      <th>95% Confidence Level - High</th>\n",
       "    </tr>\n",
       "  </thead>\n",
       "  <tbody>\n",
       "    <tr>\n",
       "      <th>0</th>\n",
       "      <td>Behavioral Health/Substance Abuse</td>\n",
       "      <td>Opioid-Related Unintentional Drug Overdose Mor...</td>\n",
       "      <td>2010</td>\n",
       "      <td>Both</td>\n",
       "      <td>All</td>\n",
       "      <td>1.7</td>\n",
       "      <td>Washington, DC</td>\n",
       "      <td>Age-Adjusted rate of opioid-related mortality ...</td>\n",
       "      <td>D.C. Department of Health, Center for Policy, ...</td>\n",
       "      <td>NaN</td>\n",
       "      <td>This indicator is not exclusive of other drugs...</td>\n",
       "      <td>NaN</td>\n",
       "      <td>NaN</td>\n",
       "      <td>NaN</td>\n",
       "      <td>NaN</td>\n",
       "    </tr>\n",
       "    <tr>\n",
       "      <th>1</th>\n",
       "      <td>Behavioral Health/Substance Abuse</td>\n",
       "      <td>Opioid-Related Unintentional Drug Overdose Mor...</td>\n",
       "      <td>2010</td>\n",
       "      <td>Both</td>\n",
       "      <td>All</td>\n",
       "      <td>2.2</td>\n",
       "      <td>Fort Worth (Tarrant County), TX</td>\n",
       "      <td>Age-adjusted rate of opioid-related mortality ...</td>\n",
       "      <td>National Center for Health Statistics</td>\n",
       "      <td>NaN</td>\n",
       "      <td>This indicator is not exclusive of other drugs...</td>\n",
       "      <td>NaN</td>\n",
       "      <td>NaN</td>\n",
       "      <td>1.5</td>\n",
       "      <td>3.0</td>\n",
       "    </tr>\n",
       "    <tr>\n",
       "      <th>2</th>\n",
       "      <td>Behavioral Health/Substance Abuse</td>\n",
       "      <td>Opioid-Related Unintentional Drug Overdose Mor...</td>\n",
       "      <td>2010</td>\n",
       "      <td>Both</td>\n",
       "      <td>All</td>\n",
       "      <td>2.3</td>\n",
       "      <td>Oakland (Alameda County), CA</td>\n",
       "      <td>Age-adjusted rate of opioid-related mortality ...</td>\n",
       "      <td>CDC Wonder</td>\n",
       "      <td>Age-adjusted rate of opioid-related mortality ...</td>\n",
       "      <td>Data is for Alameda County. This indicator is ...</td>\n",
       "      <td>NaN</td>\n",
       "      <td>NaN</td>\n",
       "      <td>1.6</td>\n",
       "      <td>3.2</td>\n",
       "    </tr>\n",
       "    <tr>\n",
       "      <th>3</th>\n",
       "      <td>Behavioral Health/Substance Abuse</td>\n",
       "      <td>Opioid-Related Unintentional Drug Overdose Mor...</td>\n",
       "      <td>2010</td>\n",
       "      <td>Both</td>\n",
       "      <td>All</td>\n",
       "      <td>3.0</td>\n",
       "      <td>San Antonio, TX</td>\n",
       "      <td>Age-adjusted rate of opioid-related mortality ...</td>\n",
       "      <td>CDC Wonder</td>\n",
       "      <td>NaN</td>\n",
       "      <td>This indicator is not exclusive of other drugs...</td>\n",
       "      <td>NaN</td>\n",
       "      <td>NaN</td>\n",
       "      <td>2.2</td>\n",
       "      <td>3.9</td>\n",
       "    </tr>\n",
       "    <tr>\n",
       "      <th>4</th>\n",
       "      <td>Behavioral Health/Substance Abuse</td>\n",
       "      <td>Opioid-Related Unintentional Drug Overdose Mor...</td>\n",
       "      <td>2010</td>\n",
       "      <td>Both</td>\n",
       "      <td>All</td>\n",
       "      <td>4.4</td>\n",
       "      <td>U.S. Total, U.S. Total</td>\n",
       "      <td>Age-Adjusted rate of opioid-related mortality ...</td>\n",
       "      <td>CDC WONDER</td>\n",
       "      <td>NaN</td>\n",
       "      <td>This indicator is not exclusive of other drugs...</td>\n",
       "      <td>NaN</td>\n",
       "      <td>NaN</td>\n",
       "      <td>4.4</td>\n",
       "      <td>4.5</td>\n",
       "    </tr>\n",
       "  </tbody>\n",
       "</table>\n",
       "</div>"
      ],
      "text/plain": [
       "                  Indicator Category  \\\n",
       "0  Behavioral Health/Substance Abuse   \n",
       "1  Behavioral Health/Substance Abuse   \n",
       "2  Behavioral Health/Substance Abuse   \n",
       "3  Behavioral Health/Substance Abuse   \n",
       "4  Behavioral Health/Substance Abuse   \n",
       "\n",
       "                                           Indicator  Year   Sex  \\\n",
       "0  Opioid-Related Unintentional Drug Overdose Mor...  2010  Both   \n",
       "1  Opioid-Related Unintentional Drug Overdose Mor...  2010  Both   \n",
       "2  Opioid-Related Unintentional Drug Overdose Mor...  2010  Both   \n",
       "3  Opioid-Related Unintentional Drug Overdose Mor...  2010  Both   \n",
       "4  Opioid-Related Unintentional Drug Overdose Mor...  2010  Both   \n",
       "\n",
       "  Race/Ethnicity  Value                            Place  \\\n",
       "0            All    1.7                   Washington, DC   \n",
       "1            All    2.2  Fort Worth (Tarrant County), TX   \n",
       "2            All    2.3     Oakland (Alameda County), CA   \n",
       "3            All    3.0                  San Antonio, TX   \n",
       "4            All    4.4           U.S. Total, U.S. Total   \n",
       "\n",
       "                          BCHC Requested Methodology  \\\n",
       "0  Age-Adjusted rate of opioid-related mortality ...   \n",
       "1  Age-adjusted rate of opioid-related mortality ...   \n",
       "2  Age-adjusted rate of opioid-related mortality ...   \n",
       "3  Age-adjusted rate of opioid-related mortality ...   \n",
       "4  Age-Adjusted rate of opioid-related mortality ...   \n",
       "\n",
       "                                              Source  \\\n",
       "0  D.C. Department of Health, Center for Policy, ...   \n",
       "1              National Center for Health Statistics   \n",
       "2                                         CDC Wonder   \n",
       "3                                         CDC Wonder   \n",
       "4                                         CDC WONDER   \n",
       "\n",
       "                                             Methods  \\\n",
       "0                                                NaN   \n",
       "1                                                NaN   \n",
       "2  Age-adjusted rate of opioid-related mortality ...   \n",
       "3                                                NaN   \n",
       "4                                                NaN   \n",
       "\n",
       "                                               Notes  \\\n",
       "0  This indicator is not exclusive of other drugs...   \n",
       "1  This indicator is not exclusive of other drugs...   \n",
       "2  Data is for Alameda County. This indicator is ...   \n",
       "3  This indicator is not exclusive of other drugs...   \n",
       "4  This indicator is not exclusive of other drugs...   \n",
       "\n",
       "   90% Confidence Level - Low  90% Confidence Level - High  \\\n",
       "0                         NaN                          NaN   \n",
       "1                         NaN                          NaN   \n",
       "2                         NaN                          NaN   \n",
       "3                         NaN                          NaN   \n",
       "4                         NaN                          NaN   \n",
       "\n",
       "   95% Confidence Level - Low  95% Confidence Level - High  \n",
       "0                         NaN                          NaN  \n",
       "1                         1.5                          3.0  \n",
       "2                         1.6                          3.2  \n",
       "3                         2.2                          3.9  \n",
       "4                         4.4                          4.5  "
      ]
     },
     "execution_count": 4,
     "metadata": {},
     "output_type": "execute_result"
    }
   ],
   "source": [
    "df.head()"
   ]
  },
  {
   "cell_type": "code",
   "execution_count": 5,
   "metadata": {},
   "outputs": [
    {
     "data": {
      "text/html": [
       "<div>\n",
       "<style scoped>\n",
       "    .dataframe tbody tr th:only-of-type {\n",
       "        vertical-align: middle;\n",
       "    }\n",
       "\n",
       "    .dataframe tbody tr th {\n",
       "        vertical-align: top;\n",
       "    }\n",
       "\n",
       "    .dataframe thead th {\n",
       "        text-align: right;\n",
       "    }\n",
       "</style>\n",
       "<table border=\"1\" class=\"dataframe\">\n",
       "  <thead>\n",
       "    <tr style=\"text-align: right;\">\n",
       "      <th></th>\n",
       "      <th>Indicator Category</th>\n",
       "      <th>Indicator</th>\n",
       "      <th>Year</th>\n",
       "      <th>Sex</th>\n",
       "      <th>Race/Ethnicity</th>\n",
       "      <th>Value</th>\n",
       "      <th>Place</th>\n",
       "      <th>BCHC Requested Methodology</th>\n",
       "      <th>Source</th>\n",
       "      <th>Methods</th>\n",
       "      <th>Notes</th>\n",
       "      <th>90% Confidence Level - Low</th>\n",
       "      <th>90% Confidence Level - High</th>\n",
       "      <th>95% Confidence Level - Low</th>\n",
       "      <th>95% Confidence Level - High</th>\n",
       "    </tr>\n",
       "  </thead>\n",
       "  <tbody>\n",
       "    <tr>\n",
       "      <th>34487</th>\n",
       "      <td>Social and Economic Factors</td>\n",
       "      <td>Percent Unemployed</td>\n",
       "      <td>2014</td>\n",
       "      <td>Male</td>\n",
       "      <td>All</td>\n",
       "      <td>9.7</td>\n",
       "      <td>Chicago, Il</td>\n",
       "      <td>Percent of unemployment among population 16 an...</td>\n",
       "      <td>US Census Bureau, American Community Survey 1-...</td>\n",
       "      <td>NaN</td>\n",
       "      <td>Population 20 to 64 years; Place=Chicago was u...</td>\n",
       "      <td>9.1</td>\n",
       "      <td>10.3</td>\n",
       "      <td>NaN</td>\n",
       "      <td>NaN</td>\n",
       "    </tr>\n",
       "    <tr>\n",
       "      <th>34488</th>\n",
       "      <td>Social and Economic Factors</td>\n",
       "      <td>Percent Unemployed</td>\n",
       "      <td>2014</td>\n",
       "      <td>Male</td>\n",
       "      <td>All</td>\n",
       "      <td>13.3</td>\n",
       "      <td>Baltimore, MD</td>\n",
       "      <td>Percent of unemployment among population 16 an...</td>\n",
       "      <td>US Census Bureau, American Community Survey 1-...</td>\n",
       "      <td>NaN</td>\n",
       "      <td>Population 20 to 64 years; FIPS code 2404000 w...</td>\n",
       "      <td>11.8</td>\n",
       "      <td>14.8</td>\n",
       "      <td>NaN</td>\n",
       "      <td>NaN</td>\n",
       "    </tr>\n",
       "    <tr>\n",
       "      <th>34489</th>\n",
       "      <td>Social and Economic Factors</td>\n",
       "      <td>Percent Unemployed</td>\n",
       "      <td>2014</td>\n",
       "      <td>Male</td>\n",
       "      <td>All</td>\n",
       "      <td>14.0</td>\n",
       "      <td>Philadelphia, PA</td>\n",
       "      <td>Percent of unemployment among population 16 an...</td>\n",
       "      <td>US Census Bureau, American Community Survey 1-...</td>\n",
       "      <td>NaN</td>\n",
       "      <td>Population 20 to 64 years; FIPS code 4260000 w...</td>\n",
       "      <td>12.8</td>\n",
       "      <td>15.2</td>\n",
       "      <td>NaN</td>\n",
       "      <td>NaN</td>\n",
       "    </tr>\n",
       "    <tr>\n",
       "      <th>34490</th>\n",
       "      <td>Social and Economic Factors</td>\n",
       "      <td>Percent Unemployed</td>\n",
       "      <td>2014</td>\n",
       "      <td>Male</td>\n",
       "      <td>All</td>\n",
       "      <td>18.7</td>\n",
       "      <td>Cleveland, OH</td>\n",
       "      <td>Percent of unemployment among population 16 an...</td>\n",
       "      <td>US Census Bureau, American Community Survey 1-...</td>\n",
       "      <td>NaN</td>\n",
       "      <td>Population 20 to 64 years; FIPS code 3916000 w...</td>\n",
       "      <td>16.5</td>\n",
       "      <td>20.9</td>\n",
       "      <td>NaN</td>\n",
       "      <td>NaN</td>\n",
       "    </tr>\n",
       "    <tr>\n",
       "      <th>34491</th>\n",
       "      <td>Social and Economic Factors</td>\n",
       "      <td>Percent Unemployed</td>\n",
       "      <td>2014</td>\n",
       "      <td>Male</td>\n",
       "      <td>All</td>\n",
       "      <td>23.0</td>\n",
       "      <td>Detroit, MI</td>\n",
       "      <td>Percent of unemployment among population 16 an...</td>\n",
       "      <td>US Census Bureau, American Community Survey 1-...</td>\n",
       "      <td>NaN</td>\n",
       "      <td>Population 20 to 64 years; FIPS code 2622000 w...</td>\n",
       "      <td>21.0</td>\n",
       "      <td>25.0</td>\n",
       "      <td>NaN</td>\n",
       "      <td>NaN</td>\n",
       "    </tr>\n",
       "  </tbody>\n",
       "</table>\n",
       "</div>"
      ],
      "text/plain": [
       "                Indicator Category           Indicator  Year   Sex  \\\n",
       "34487  Social and Economic Factors  Percent Unemployed  2014  Male   \n",
       "34488  Social and Economic Factors  Percent Unemployed  2014  Male   \n",
       "34489  Social and Economic Factors  Percent Unemployed  2014  Male   \n",
       "34490  Social and Economic Factors  Percent Unemployed  2014  Male   \n",
       "34491  Social and Economic Factors  Percent Unemployed  2014  Male   \n",
       "\n",
       "      Race/Ethnicity  Value             Place  \\\n",
       "34487            All    9.7       Chicago, Il   \n",
       "34488            All   13.3     Baltimore, MD   \n",
       "34489            All   14.0  Philadelphia, PA   \n",
       "34490            All   18.7     Cleveland, OH   \n",
       "34491            All   23.0       Detroit, MI   \n",
       "\n",
       "                              BCHC Requested Methodology  \\\n",
       "34487  Percent of unemployment among population 16 an...   \n",
       "34488  Percent of unemployment among population 16 an...   \n",
       "34489  Percent of unemployment among population 16 an...   \n",
       "34490  Percent of unemployment among population 16 an...   \n",
       "34491  Percent of unemployment among population 16 an...   \n",
       "\n",
       "                                                  Source Methods  \\\n",
       "34487  US Census Bureau, American Community Survey 1-...     NaN   \n",
       "34488  US Census Bureau, American Community Survey 1-...     NaN   \n",
       "34489  US Census Bureau, American Community Survey 1-...     NaN   \n",
       "34490  US Census Bureau, American Community Survey 1-...     NaN   \n",
       "34491  US Census Bureau, American Community Survey 1-...     NaN   \n",
       "\n",
       "                                                   Notes  \\\n",
       "34487  Population 20 to 64 years; Place=Chicago was u...   \n",
       "34488  Population 20 to 64 years; FIPS code 2404000 w...   \n",
       "34489  Population 20 to 64 years; FIPS code 4260000 w...   \n",
       "34490  Population 20 to 64 years; FIPS code 3916000 w...   \n",
       "34491  Population 20 to 64 years; FIPS code 2622000 w...   \n",
       "\n",
       "       90% Confidence Level - Low  90% Confidence Level - High  \\\n",
       "34487                         9.1                         10.3   \n",
       "34488                        11.8                         14.8   \n",
       "34489                        12.8                         15.2   \n",
       "34490                        16.5                         20.9   \n",
       "34491                        21.0                         25.0   \n",
       "\n",
       "       95% Confidence Level - Low  95% Confidence Level - High  \n",
       "34487                         NaN                          NaN  \n",
       "34488                         NaN                          NaN  \n",
       "34489                         NaN                          NaN  \n",
       "34490                         NaN                          NaN  \n",
       "34491                         NaN                          NaN  "
      ]
     },
     "execution_count": 5,
     "metadata": {},
     "output_type": "execute_result"
    }
   ],
   "source": [
    "df.tail()"
   ]
  },
  {
   "cell_type": "code",
   "execution_count": 6,
   "metadata": {},
   "outputs": [
    {
     "name": "stdout",
     "output_type": "stream",
     "text": [
      "<class 'pandas.core.frame.DataFrame'>\n",
      "RangeIndex: 34492 entries, 0 to 34491\n",
      "Data columns (total 15 columns):\n",
      "Indicator Category             34492 non-null object\n",
      "Indicator                      34492 non-null object\n",
      "Year                           34492 non-null int64\n",
      "Sex                            34492 non-null object\n",
      "Race/Ethnicity                 34492 non-null object\n",
      "Value                          31048 non-null float64\n",
      "Place                          34492 non-null object\n",
      "BCHC Requested Methodology     34492 non-null object\n",
      "Source                         29528 non-null object\n",
      "Methods                        7524 non-null object\n",
      "Notes                          14641 non-null object\n",
      "90% Confidence Level - Low     2837 non-null float64\n",
      "90% Confidence Level - High    2837 non-null float64\n",
      "95% Confidence Level - Low     8835 non-null float64\n",
      "95% Confidence Level - High    8876 non-null float64\n",
      "dtypes: float64(5), int64(1), object(9)\n",
      "memory usage: 3.9+ MB\n"
     ]
    }
   ],
   "source": [
    "df.info()"
   ]
  },
  {
   "cell_type": "markdown",
   "metadata": {},
   "source": [
    "I drop the columns with information about how the data was obtained and confidence levels, and rename the columns so they are easier to use throughout the analysis. I can also drop any columns where the 'value' is null. "
   ]
  },
  {
   "cell_type": "code",
   "execution_count": 7,
   "metadata": {},
   "outputs": [
    {
     "data": {
      "text/plain": [
       "array(['Opioid-Related Unintentional Drug Overdose Mortality Rate (Age-Adjusted; Per 100,000 people)',\n",
       "       'Percent of Adults Who Binge Drank',\n",
       "       'Percent of High School Students Who Binge Drank',\n",
       "       'All Types of Cancer Mortality Rate (Age-Adjusted; Per 100,000 people)',\n",
       "       'Female Breast Cancer Mortality Rate (Age-Adjusted; Per 100,000 people)',\n",
       "       'Lung Cancer Mortality Rate (Age-Adjusted; Per 100,000 people)',\n",
       "       'Asthma Emergency Department Visit Rate (Age-Adjusted; Per 10,000)',\n",
       "       'Diabetes Mortality Rate (Age-Adjusted; Per 100,000 people)',\n",
       "       'Heart Disease Mortality Rate (Age-Adjusted; Per 100,000 people)',\n",
       "       'Percent of Adults Who Are Obese',\n",
       "       'Percent of Adults Who Currently Smoke',\n",
       "       'Percent of Adults Who Meet CDC-Recommended Physical Activity Levels',\n",
       "       'Percent of High School Students Who Are Obese',\n",
       "       'Percent of High School Students Who Currently Smoke',\n",
       "       'Percent of High School Students Who Meet CDC-Recommended Physical Activity Levels',\n",
       "       'Percent Foreign Born', 'Percent of Population 65 and Over',\n",
       "       'Percent of Population Under 18',\n",
       "       'Percent of Population with a Disability',\n",
       "       'Percent Who Only Speak English at Home',\n",
       "       'Percent Who Speak Spanish at Home', 'Race/Ethnicity (Percent)',\n",
       "       'Sex (Percent)', 'Total Population (People)', 'Bike Score',\n",
       "       'Percent of Children (Tested) Under Age 6 with Elevated Blood Lead Levels',\n",
       "       'Transit Score', 'Walkability',\n",
       "       'Rate of Laboratory Confirmed Infections Caused by Salmonella (Per 100,000 people)',\n",
       "       'Rate of Laboratory Confirmed Infections Caused by Shiga Toxin-Producing E-Coli (Per 100,000 people)',\n",
       "       'AIDS Diagnoses Rate (Per 100,000 people)',\n",
       "       'HIV Diagnoses Rate (Per 100,000 people)',\n",
       "       'HIV-Related Mortality Rate (Age-Adjusted; Per 100,000 people)',\n",
       "       'Persons Living with HIV/AIDS Rate (Per 100,000 people)',\n",
       "       'Percent of Adults 65 and Over Who Received Pneumonia Vaccine',\n",
       "       'Percent of Adults Who Received Seasonal Flu Shot',\n",
       "       'Percent of Children Who Received Seasonal Flu Shot',\n",
       "       'Pneumonia and Influenza Mortality Rate (Age-Adjusted; Per 100,000 people)',\n",
       "       'Tuberculosis Incidence Rate (Per 100,000 people)',\n",
       "       'Firearm-Related Emergency Department Visit Rate (Age-Adjusted; Per 10,000 people)',\n",
       "       'Firearm-Related Mortality Rate (Age-Adjusted; Per 100,000 people)',\n",
       "       'Homicide Rate (Age-Adjusted; Per 100,000 people)',\n",
       "       'Motor Vehicle Mortality Rate (Age-Adjusted; Per 100,000 people)',\n",
       "       'Suicide Rate (Age-Adjusted; Per 100,000 people)',\n",
       "       'All-Cause Mortality Rate (Age-Adjusted; Per 100,000 people)',\n",
       "       'Life Expectancy at Birth (Years)',\n",
       "       'Infant Mortality Rate (Per 1,000 live births)',\n",
       "       'Percent of Low Birth Weight Babies Born',\n",
       "       'Percent of Mothers Under Age 20',\n",
       "       'Chlamydia Rate (Per 100,000 People)',\n",
       "       'Congenital Syphilis Rate (Per 100,000 Live Births)',\n",
       "       'Gonorrhea Rate (Per 100,000 People)',\n",
       "       'Primary and Secondary Syphilis Rate (Per 100,000 People)',\n",
       "       'Median Household Income (Dollars)',\n",
       "       'Percent Living Below 200% Poverty Level',\n",
       "       'Percent of 3 and 4 Year Olds Currently Enrolled in Preschool',\n",
       "       'Percent of Children Living in Poverty',\n",
       "       'Percent of High School Graduates (Over Age 18)',\n",
       "       'Percent of Households Whose Housing Costs Exceed 35% of Income',\n",
       "       'Percent of Population Uninsured', 'Percent Unemployed'],\n",
       "      dtype=object)"
      ]
     },
     "execution_count": 7,
     "metadata": {},
     "output_type": "execute_result"
    }
   ],
   "source": [
    "df['Indicator'].unique()"
   ]
  },
  {
   "cell_type": "code",
   "execution_count": 8,
   "metadata": {},
   "outputs": [],
   "source": [
    "df = df.drop(['Indicator Category','BCHC Requested Methodology', 'Source', 'Methods',\n",
    "       'Notes', '90% Confidence Level - Low', '90% Confidence Level - High',\n",
    "       '95% Confidence Level - Low', '95% Confidence Level - High'], axis=1)"
   ]
  },
  {
   "cell_type": "code",
   "execution_count": 9,
   "metadata": {},
   "outputs": [],
   "source": [
    "df.columns = ['indicator', 'year', 'sex', 'race', 'value', 'place']"
   ]
  },
  {
   "cell_type": "code",
   "execution_count": 10,
   "metadata": {},
   "outputs": [],
   "source": [
    "df = df.dropna(subset=['value'])"
   ]
  },
  {
   "cell_type": "markdown",
   "metadata": {},
   "source": [
    "Becuase I'm interested in diabetes across race, I pull a list of indicators with no data for specific races. These indicators only have data in the 'All' category. "
   ]
  },
  {
   "cell_type": "code",
   "execution_count": 11,
   "metadata": {},
   "outputs": [],
   "source": [
    "race_indicators = df.loc[df['race'] != 'All', 'indicator'].value_counts().index.to_list()\n",
    "no_race_indicators = [x for x in df['indicator'].unique() if x not in race_indicators]"
   ]
  },
  {
   "cell_type": "code",
   "execution_count": 12,
   "metadata": {},
   "outputs": [
    {
     "data": {
      "text/plain": [
       "['Percent Foreign Born',\n",
       " 'Percent of Population 65 and Over',\n",
       " 'Percent of Population Under 18',\n",
       " 'Percent Who Only Speak English at Home',\n",
       " 'Percent Who Speak Spanish at Home',\n",
       " 'Sex (Percent)',\n",
       " 'Total Population (People)',\n",
       " 'Bike Score',\n",
       " 'Transit Score',\n",
       " 'Walkability',\n",
       " 'Median Household Income (Dollars)',\n",
       " 'Percent Living Below 200% Poverty Level',\n",
       " 'Percent of 3 and 4 Year Olds Currently Enrolled in Preschool',\n",
       " 'Percent of Children Living in Poverty',\n",
       " 'Percent of High School Graduates (Over Age 18)',\n",
       " 'Percent of Households Whose Housing Costs Exceed 35% of Income']"
      ]
     },
     "execution_count": 12,
     "metadata": {},
     "output_type": "execute_result"
    }
   ],
   "source": [
    "no_race_indicators"
   ]
  },
  {
   "cell_type": "markdown",
   "metadata": {},
   "source": [
    "## Diabetes data exploration and cleaning\n",
    "I narrow the data to only show rows related to the Diabetes Mortality Rate (per 100,000 people), and review the number rows across year, race, and sex in order to get an idea of how complete the data is.  "
   ]
  },
  {
   "cell_type": "code",
   "execution_count": 13,
   "metadata": {},
   "outputs": [],
   "source": [
    "diabetes = df[df['indicator'] == 'Diabetes Mortality Rate (Age-Adjusted; Per 100,000 people)']"
   ]
  },
  {
   "cell_type": "code",
   "execution_count": 14,
   "metadata": {},
   "outputs": [
    {
     "data": {
      "text/plain": [
       "2012    168\n",
       "2011    166\n",
       "2013    154\n",
       "2010    141\n",
       "2014    122\n",
       "2015    107\n",
       "2016     54\n",
       "Name: year, dtype: int64"
      ]
     },
     "execution_count": 14,
     "metadata": {},
     "output_type": "execute_result"
    }
   ],
   "source": [
    "diabetes['year'].value_counts()"
   ]
  },
  {
   "cell_type": "code",
   "execution_count": 15,
   "metadata": {},
   "outputs": [
    {
     "data": {
      "text/plain": [
       "All                              420\n",
       "White                            138\n",
       "Black                            138\n",
       "Hispanic                          96\n",
       "Asian/PI                          73\n",
       "American Indian/Alaska Native     22\n",
       "Other                             17\n",
       "Multiracial                        8\n",
       "Name: race, dtype: int64"
      ]
     },
     "execution_count": 15,
     "metadata": {},
     "output_type": "execute_result"
    }
   ],
   "source": [
    "diabetes['race'].value_counts()"
   ]
  },
  {
   "cell_type": "code",
   "execution_count": 16,
   "metadata": {},
   "outputs": [
    {
     "data": {
      "text/plain": [
       "Both      634\n",
       "Male      140\n",
       "Female    138\n",
       "Name: sex, dtype: int64"
      ]
     },
     "execution_count": 16,
     "metadata": {},
     "output_type": "execute_result"
    }
   ],
   "source": [
    "diabetes['sex'].value_counts()"
   ]
  },
  {
   "cell_type": "code",
   "execution_count": 17,
   "metadata": {},
   "outputs": [
    {
     "data": {
      "text/html": [
       "<div>\n",
       "<style scoped>\n",
       "    .dataframe tbody tr th:only-of-type {\n",
       "        vertical-align: middle;\n",
       "    }\n",
       "\n",
       "    .dataframe tbody tr th {\n",
       "        vertical-align: top;\n",
       "    }\n",
       "\n",
       "    .dataframe thead th {\n",
       "        text-align: right;\n",
       "    }\n",
       "</style>\n",
       "<table border=\"1\" class=\"dataframe\">\n",
       "  <thead>\n",
       "    <tr style=\"text-align: right;\">\n",
       "      <th></th>\n",
       "      <th>indicator</th>\n",
       "      <th>year</th>\n",
       "      <th>sex</th>\n",
       "      <th>race</th>\n",
       "      <th>value</th>\n",
       "      <th>place</th>\n",
       "    </tr>\n",
       "  </thead>\n",
       "  <tbody>\n",
       "    <tr>\n",
       "      <th>4454</th>\n",
       "      <td>Diabetes Mortality Rate (Age-Adjusted; Per 100...</td>\n",
       "      <td>2010</td>\n",
       "      <td>Both</td>\n",
       "      <td>All</td>\n",
       "      <td>10.4</td>\n",
       "      <td>Las Vegas (Clark County), NV</td>\n",
       "    </tr>\n",
       "    <tr>\n",
       "      <th>4455</th>\n",
       "      <td>Diabetes Mortality Rate (Age-Adjusted; Per 100...</td>\n",
       "      <td>2010</td>\n",
       "      <td>Both</td>\n",
       "      <td>All</td>\n",
       "      <td>12.0</td>\n",
       "      <td>San Francisco, CA</td>\n",
       "    </tr>\n",
       "    <tr>\n",
       "      <th>4456</th>\n",
       "      <td>Diabetes Mortality Rate (Age-Adjusted; Per 100...</td>\n",
       "      <td>2010</td>\n",
       "      <td>Both</td>\n",
       "      <td>All</td>\n",
       "      <td>12.9</td>\n",
       "      <td>Boston, MA</td>\n",
       "    </tr>\n",
       "    <tr>\n",
       "      <th>4457</th>\n",
       "      <td>Diabetes Mortality Rate (Age-Adjusted; Per 100...</td>\n",
       "      <td>2010</td>\n",
       "      <td>Both</td>\n",
       "      <td>All</td>\n",
       "      <td>14.2</td>\n",
       "      <td>Los Angeles, CA</td>\n",
       "    </tr>\n",
       "    <tr>\n",
       "      <th>4458</th>\n",
       "      <td>Diabetes Mortality Rate (Age-Adjusted; Per 100...</td>\n",
       "      <td>2010</td>\n",
       "      <td>Both</td>\n",
       "      <td>All</td>\n",
       "      <td>16.3</td>\n",
       "      <td>Phoenix, AZ</td>\n",
       "    </tr>\n",
       "  </tbody>\n",
       "</table>\n",
       "</div>"
      ],
      "text/plain": [
       "                                              indicator  year   sex race  \\\n",
       "4454  Diabetes Mortality Rate (Age-Adjusted; Per 100...  2010  Both  All   \n",
       "4455  Diabetes Mortality Rate (Age-Adjusted; Per 100...  2010  Both  All   \n",
       "4456  Diabetes Mortality Rate (Age-Adjusted; Per 100...  2010  Both  All   \n",
       "4457  Diabetes Mortality Rate (Age-Adjusted; Per 100...  2010  Both  All   \n",
       "4458  Diabetes Mortality Rate (Age-Adjusted; Per 100...  2010  Both  All   \n",
       "\n",
       "      value                         place  \n",
       "4454   10.4  Las Vegas (Clark County), NV  \n",
       "4455   12.0             San Francisco, CA  \n",
       "4456   12.9                    Boston, MA  \n",
       "4457   14.2               Los Angeles, CA  \n",
       "4458   16.3                   Phoenix, AZ  "
      ]
     },
     "execution_count": 17,
     "metadata": {},
     "output_type": "execute_result"
    }
   ],
   "source": [
    "diabetes.head()"
   ]
  },
  {
   "cell_type": "code",
   "execution_count": 18,
   "metadata": {},
   "outputs": [
    {
     "data": {
      "text/html": [
       "<div>\n",
       "<style scoped>\n",
       "    .dataframe tbody tr th:only-of-type {\n",
       "        vertical-align: middle;\n",
       "    }\n",
       "\n",
       "    .dataframe tbody tr th {\n",
       "        vertical-align: top;\n",
       "    }\n",
       "\n",
       "    .dataframe thead th {\n",
       "        text-align: right;\n",
       "    }\n",
       "</style>\n",
       "<table border=\"1\" class=\"dataframe\">\n",
       "  <thead>\n",
       "    <tr style=\"text-align: right;\">\n",
       "      <th></th>\n",
       "      <th>year</th>\n",
       "      <th>value</th>\n",
       "    </tr>\n",
       "  </thead>\n",
       "  <tbody>\n",
       "    <tr>\n",
       "      <th>count</th>\n",
       "      <td>912.000000</td>\n",
       "      <td>912.000000</td>\n",
       "    </tr>\n",
       "    <tr>\n",
       "      <th>mean</th>\n",
       "      <td>2012.533991</td>\n",
       "      <td>25.122917</td>\n",
       "    </tr>\n",
       "    <tr>\n",
       "      <th>std</th>\n",
       "      <td>1.796125</td>\n",
       "      <td>15.274026</td>\n",
       "    </tr>\n",
       "    <tr>\n",
       "      <th>min</th>\n",
       "      <td>2010.000000</td>\n",
       "      <td>0.000000</td>\n",
       "    </tr>\n",
       "    <tr>\n",
       "      <th>25%</th>\n",
       "      <td>2011.000000</td>\n",
       "      <td>16.800000</td>\n",
       "    </tr>\n",
       "    <tr>\n",
       "      <th>50%</th>\n",
       "      <td>2012.000000</td>\n",
       "      <td>22.400000</td>\n",
       "    </tr>\n",
       "    <tr>\n",
       "      <th>75%</th>\n",
       "      <td>2014.000000</td>\n",
       "      <td>29.625000</td>\n",
       "    </tr>\n",
       "    <tr>\n",
       "      <th>max</th>\n",
       "      <td>2016.000000</td>\n",
       "      <td>224.700000</td>\n",
       "    </tr>\n",
       "  </tbody>\n",
       "</table>\n",
       "</div>"
      ],
      "text/plain": [
       "              year       value\n",
       "count   912.000000  912.000000\n",
       "mean   2012.533991   25.122917\n",
       "std       1.796125   15.274026\n",
       "min    2010.000000    0.000000\n",
       "25%    2011.000000   16.800000\n",
       "50%    2012.000000   22.400000\n",
       "75%    2014.000000   29.625000\n",
       "max    2016.000000  224.700000"
      ]
     },
     "execution_count": 18,
     "metadata": {},
     "output_type": "execute_result"
    }
   ],
   "source": [
    "diabetes.describe()"
   ]
  },
  {
   "cell_type": "markdown",
   "metadata": {},
   "source": [
    "## Data Analysis and Visualization"
   ]
  },
  {
   "cell_type": "markdown",
   "metadata": {},
   "source": [
    "I use df.groupby() to show the average diabetes mortality rate across different racial/ethnic groups and genders. I also use a box plot to visualize the distribution of values. "
   ]
  },
  {
   "cell_type": "code",
   "execution_count": 19,
   "metadata": {},
   "outputs": [
    {
     "data": {
      "text/html": [
       "<div>\n",
       "<style scoped>\n",
       "    .dataframe tbody tr th:only-of-type {\n",
       "        vertical-align: middle;\n",
       "    }\n",
       "\n",
       "    .dataframe tbody tr th {\n",
       "        vertical-align: top;\n",
       "    }\n",
       "\n",
       "    .dataframe thead th {\n",
       "        text-align: right;\n",
       "    }\n",
       "</style>\n",
       "<table border=\"1\" class=\"dataframe\">\n",
       "  <thead>\n",
       "    <tr style=\"text-align: right;\">\n",
       "      <th></th>\n",
       "      <th>value</th>\n",
       "    </tr>\n",
       "    <tr>\n",
       "      <th>race</th>\n",
       "      <th></th>\n",
       "    </tr>\n",
       "  </thead>\n",
       "  <tbody>\n",
       "    <tr>\n",
       "      <th>American Indian/Alaska Native</th>\n",
       "      <td>52.695455</td>\n",
       "    </tr>\n",
       "    <tr>\n",
       "      <th>Black</th>\n",
       "      <td>39.514493</td>\n",
       "    </tr>\n",
       "    <tr>\n",
       "      <th>Multiracial</th>\n",
       "      <td>34.212500</td>\n",
       "    </tr>\n",
       "    <tr>\n",
       "      <th>Hispanic</th>\n",
       "      <td>24.813542</td>\n",
       "    </tr>\n",
       "    <tr>\n",
       "      <th>All</th>\n",
       "      <td>23.063571</td>\n",
       "    </tr>\n",
       "    <tr>\n",
       "      <th>Asian/PI</th>\n",
       "      <td>19.184932</td>\n",
       "    </tr>\n",
       "    <tr>\n",
       "      <th>White</th>\n",
       "      <td>17.386232</td>\n",
       "    </tr>\n",
       "    <tr>\n",
       "      <th>Other</th>\n",
       "      <td>9.264706</td>\n",
       "    </tr>\n",
       "  </tbody>\n",
       "</table>\n",
       "</div>"
      ],
      "text/plain": [
       "                                   value\n",
       "race                                    \n",
       "American Indian/Alaska Native  52.695455\n",
       "Black                          39.514493\n",
       "Multiracial                    34.212500\n",
       "Hispanic                       24.813542\n",
       "All                            23.063571\n",
       "Asian/PI                       19.184932\n",
       "White                          17.386232\n",
       "Other                           9.264706"
      ]
     },
     "execution_count": 19,
     "metadata": {},
     "output_type": "execute_result"
    }
   ],
   "source": [
    "diabetes.groupby('race')[['race', 'value']].mean().sort_values('value', ascending=False)"
   ]
  },
  {
   "cell_type": "code",
   "execution_count": 20,
   "metadata": {},
   "outputs": [
    {
     "ename": "NameError",
     "evalue": "name 'strp' is not defined",
     "output_type": "error",
     "traceback": [
      "\u001b[1;31m---------------------------------------------------------------------------\u001b[0m",
      "\u001b[1;31mNameError\u001b[0m                                 Traceback (most recent call last)",
      "\u001b[1;32m<ipython-input-20-f92dc81835f6>\u001b[0m in \u001b[0;36m<module>\u001b[1;34m\u001b[0m\n\u001b[0;32m      1\u001b[0m \u001b[0mplt\u001b[0m \u001b[1;33m=\u001b[0m \u001b[0msns\u001b[0m\u001b[1;33m.\u001b[0m\u001b[0mboxplot\u001b[0m\u001b[1;33m(\u001b[0m\u001b[0mx\u001b[0m\u001b[1;33m=\u001b[0m\u001b[1;34m'race'\u001b[0m\u001b[1;33m,\u001b[0m \u001b[0my\u001b[0m\u001b[1;33m=\u001b[0m\u001b[1;34m'value'\u001b[0m\u001b[1;33m,\u001b[0m \u001b[0mdata\u001b[0m\u001b[1;33m=\u001b[0m\u001b[0mdiabetes\u001b[0m\u001b[1;33m)\u001b[0m\u001b[1;33m\u001b[0m\u001b[1;33m\u001b[0m\u001b[0m\n\u001b[1;32m----> 2\u001b[1;33m \u001b[0mplt\u001b[0m\u001b[1;33m.\u001b[0m\u001b[0mset_xticklabels\u001b[0m\u001b[1;33m(\u001b[0m\u001b[0mstrp\u001b[0m\u001b[1;33m.\u001b[0m\u001b[0mget_xticklabels\u001b[0m\u001b[1;33m(\u001b[0m\u001b[1;33m)\u001b[0m\u001b[1;33m,\u001b[0m \u001b[0mrotation\u001b[0m\u001b[1;33m=\u001b[0m\u001b[1;36m60\u001b[0m\u001b[1;33m,\u001b[0m \u001b[0mha\u001b[0m\u001b[1;33m=\u001b[0m\u001b[1;34m'right'\u001b[0m\u001b[1;33m)\u001b[0m\u001b[1;33m\u001b[0m\u001b[1;33m\u001b[0m\u001b[0m\n\u001b[0m\u001b[0;32m      3\u001b[0m \u001b[0mplt\u001b[0m\u001b[1;33m.\u001b[0m\u001b[0mset_title\u001b[0m\u001b[1;33m(\u001b[0m\u001b[1;34m'Diabetes Mortality Rate by Race'\u001b[0m\u001b[1;33m)\u001b[0m\u001b[1;33m\u001b[0m\u001b[1;33m\u001b[0m\u001b[0m\n\u001b[0;32m      4\u001b[0m \u001b[0mplt\u001b[0m\u001b[1;33m.\u001b[0m\u001b[0mset\u001b[0m\u001b[1;33m(\u001b[0m\u001b[0mylabel\u001b[0m\u001b[1;33m=\u001b[0m\u001b[1;34m'Diabetes Mortality Rate (per 100,000 people)'\u001b[0m\u001b[1;33m)\u001b[0m\u001b[1;33m\u001b[0m\u001b[1;33m\u001b[0m\u001b[0m\n",
      "\u001b[1;31mNameError\u001b[0m: name 'strp' is not defined"
     ]
    },
    {
     "data": {
      "image/png": "[encoded data removed]",
      "text/plain": [
       "<Figure size 432x288 with 1 Axes>"
      ]
     },
     "metadata": {
      "needs_background": "light"
     },
     "output_type": "display_data"
    }
   ],
   "source": [
    "plt = sns.boxplot(x='race', y='value', data=diabetes)\n",
    "plt.set_xticklabels(strp.get_xticklabels(), rotation=60, ha='right')\n",
    "plt.set_title('Diabetes Mortality Rate by Race')\n",
    "plt.set(ylabel='Diabetes Mortality Rate (per 100,000 people)')"
   ]
  },
  {
   "cell_type": "code",
   "execution_count": null,
   "metadata": {},
   "outputs": [],
   "source": [
    "diabetes.groupby('sex')[['sex', 'value']].mean().sort_values('value', ascending=False)"
   ]
  },
  {
   "cell_type": "code",
   "execution_count": null,
   "metadata": {},
   "outputs": [],
   "source": [
    "strp = sns.boxplot(x='sex', y='value', data=diabetes)\n",
    "strp.set_xticklabels(strp.get_xticklabels(), rotation=60, ha='right')"
   ]
  },
  {
   "cell_type": "code",
   "execution_count": null,
   "metadata": {},
   "outputs": [],
   "source": [
    "diabetes.groupby('year').mean()"
   ]
  },
  {
   "cell_type": "markdown",
   "metadata": {},
   "source": [
    "The Other and Multiracial categories have limited data so I remove those from the analysis. The gendered data is only availabe for the race category 'All', so I remove this as well. "
   ]
  },
  {
   "cell_type": "code",
   "execution_count": null,
   "metadata": {},
   "outputs": [],
   "source": [
    "diabetes = diabetes[diabetes['sex'] == 'Both']\n",
    "diabetes = diabetes[diabetes['race'] != 'Other']\n",
    "diabetes = diabetes[diabetes['race'] != 'Multiracial']"
   ]
  },
  {
   "cell_type": "code",
   "execution_count": null,
   "metadata": {},
   "outputs": [],
   "source": [
    "diabetes = diabetes.drop(['sex', 'indicator'], axis=1)"
   ]
  },
  {
   "cell_type": "markdown",
   "metadata": {},
   "source": [
    "### Diabetes mortality from 2010 to 2015\n",
    "\n",
    "I narrow the data to only show the rows that reflect all of the US in order to identify patterns over time, and pivot the table so the rows are years and columns are the race."
   ]
  },
  {
   "cell_type": "code",
   "execution_count": null,
   "metadata": {},
   "outputs": [],
   "source": [
    "diabetes_us = diabetes[diabetes['place'] == 'U.S. Total, U.S. Total']\n",
    "diabetes_us = diabetes_us.drop('place', axis=1)"
   ]
  },
  {
   "cell_type": "code",
   "execution_count": null,
   "metadata": {},
   "outputs": [],
   "source": [
    "diabetes_us_piv = diabetes_us.pivot(index='year', columns='race', values='value')"
   ]
  },
  {
   "cell_type": "code",
   "execution_count": null,
   "metadata": {
    "scrolled": true
   },
   "outputs": [],
   "source": [
    "diabetes_us_piv"
   ]
  },
  {
   "cell_type": "code",
   "execution_count": null,
   "metadata": {},
   "outputs": [],
   "source": [
    "diabetes_us_piv.plot(kind='line', y=['All', 'American Indian/Alaska Native', 'Asian/PI', 'Black', 'Hispanic', 'White'], figsize=(15,8), linewidth=3, fontsize=16)\n",
    "\n",
    "# Title, labels and legend\n",
    "plt.legend(labels=['All', 'American Indian/Alaska Native', 'Asian/PI', 'Black', 'Hispanic', 'White'],fontsize=16, loc=5)\n",
    "plt.xlabel('Year',fontsize=16)\n",
    "plt.ylabel('Mortalities (per 100,000 people)',fontsize=16)\n",
    "plt.title('Average Diabetes Mortality Rates in the US from 2010 to 2015',fontsize=20)"
   ]
  },
  {
   "cell_type": "markdown",
   "metadata": {},
   "source": [
    "We see that Black, Hispanic, and American Indian/Alaska Native populations have above average diabetes mortality rates, while White and Asian/PI people have below average rates. The data shows a recent decrease in mortalities due to diabetes in populations with above average diabetes mortality rates. "
   ]
  },
  {
   "cell_type": "markdown",
   "metadata": {},
   "source": [
    "### Diabetes mortality by city and race"
   ]
  },
  {
   "cell_type": "markdown",
   "metadata": {},
   "source": [
    "To visualize the diabetes mortality rate by race across various US cities I pivot the table and average the values from 2010 to 2016 by city. "
   ]
  },
  {
   "cell_type": "code",
   "execution_count": null,
   "metadata": {},
   "outputs": [],
   "source": [
    "db_pv = pd.pivot_table(diabetes, values = 'value', index=['place', 'race'], columns='year', aggfunc=np.sum)"
   ]
  },
  {
   "cell_type": "code",
   "execution_count": null,
   "metadata": {},
   "outputs": [],
   "source": [
    "db_pv['Average'] = db_pv.mean(axis=1).round(decimals=1)"
   ]
  },
  {
   "cell_type": "code",
   "execution_count": null,
   "metadata": {},
   "outputs": [],
   "source": [
    "db_pv = db_pv.drop([2010, 2011, 2012, 2013, 2014, 2015, 2016], axis=1)"
   ]
  },
  {
   "cell_type": "code",
   "execution_count": null,
   "metadata": {},
   "outputs": [],
   "source": [
    "db_avg = db_pv.reset_index()"
   ]
  },
  {
   "cell_type": "code",
   "execution_count": null,
   "metadata": {},
   "outputs": [],
   "source": [
    "db_avg.head()"
   ]
  },
  {
   "cell_type": "code",
   "execution_count": null,
   "metadata": {},
   "outputs": [],
   "source": [
    "db_1 = db_avg.pivot(columns='race', values='Average')"
   ]
  },
  {
   "cell_type": "code",
   "execution_count": null,
   "metadata": {},
   "outputs": [],
   "source": [
    "db_1.head()"
   ]
  },
  {
   "cell_type": "code",
   "execution_count": null,
   "metadata": {},
   "outputs": [],
   "source": [
    "#merge to add place as index\n",
    "db_clean = pd.merge(db_avg, db_1, how='outer', left_index=True, right_index=True)"
   ]
  },
  {
   "cell_type": "code",
   "execution_count": null,
   "metadata": {},
   "outputs": [],
   "source": [
    "db_clean.head()"
   ]
  },
  {
   "cell_type": "code",
   "execution_count": null,
   "metadata": {},
   "outputs": [],
   "source": [
    "#groupby to combine rows based on place\n",
    "db_clean = db_clean.groupby(['place']).mean()"
   ]
  },
  {
   "cell_type": "code",
   "execution_count": null,
   "metadata": {},
   "outputs": [],
   "source": [
    "db_clean = db_clean.reset_index()\n",
    "db_clean = db_clean.drop(['Average'], axis=1)"
   ]
  },
  {
   "cell_type": "code",
   "execution_count": null,
   "metadata": {},
   "outputs": [],
   "source": [
    "db_clean = db_clean.replace(0, np.nan)"
   ]
  },
  {
   "cell_type": "code",
   "execution_count": null,
   "metadata": {},
   "outputs": [],
   "source": [
    "db_clean = db_clean.dropna(thresh=6) "
   ]
  },
  {
   "cell_type": "code",
   "execution_count": null,
   "metadata": {},
   "outputs": [],
   "source": [
    "california = ['Los Angeles, CA', 'Oakland (Alameda County), CA', 'San Francisco, CA', 'Long Beach, CA']\n",
    "db_clean = db_clean[~db_clean['place'].isin(california)]"
   ]
  },
  {
   "cell_type": "code",
   "execution_count": null,
   "metadata": {},
   "outputs": [],
   "source": [
    "db_clean.set_index('place', inplace=True)"
   ]
  },
  {
   "cell_type": "markdown",
   "metadata": {},
   "source": [
    "I plot the diabetes mortality rate by race across the 11 cities with complete data across races. "
   ]
  },
  {
   "cell_type": "code",
   "execution_count": null,
   "metadata": {},
   "outputs": [],
   "source": [
    "db_clean[['All', 'American Indian/Alaska Native', 'Asian/PI', 'Black', 'Hispanic', 'White']].plot(kind='bar',figsize=(14, 10))\n",
    "\n",
    "plt.xticks(rotation=60, ha='right')\n",
    "plt.title('Average Diabetes Mortality Rate, 2010-2016', fontsize=18, y=1.01)\n",
    "plt.xlabel('City', labelpad=15)\n",
    "plt.ylabel('Diabetes Mortalities (per 100,000 people)', labelpad=15)\n",
    "plt.legend(['All', 'American Indian/Alaska Native', 'Asian/PI', 'Black', 'Hispanic', 'White'], fontsize=16, title=\"Race/Ethnicity\")\n",
    "plt.axhline(diabetes.loc[(diabetes['place'] == 'U.S. Total, U.S. Total') & (diabetes['race'] == 'All'), 'value'].mean())"
   ]
  },
  {
   "cell_type": "markdown",
   "metadata": {},
   "source": [
    "The diabetes mortality rate for the Black population is above the national average for all races in every city shown. The rate for the Hispanic population is above the national average for all races in more than half of cities shown. The rate for Asian/PI is above the national average for all races in only two cities. Although only three cities have data for American Indians/Alaska Natives, the diabetes mortality rate is extremely high in two of the cities. It's lower than the national average in Phoenix, AZ, however. The mortality rate among the White population is only above the national average in San Jose, CA, where the rate for all populations is higher than the national average. "
   ]
  },
  {
   "cell_type": "markdown",
   "metadata": {},
   "source": [
    "## Correlation with other health indicators"
   ]
  },
  {
   "cell_type": "markdown",
   "metadata": {},
   "source": [
    "Now I include other health indicators from the original data set to look for relationships between variables. I select a few variables that reflect the health, activity, education, and wealth of the population in each city. I also selected some variables based on their availability across race categories. I pivot the table to place indicators in the columns for use in the scatter plot and correlation heatmap. "
   ]
  },
  {
   "cell_type": "code",
   "execution_count": null,
   "metadata": {},
   "outputs": [],
   "source": [
    "db_indicators = ['Diabetes Mortality Rate (Age-Adjusted; Per 100,000 people)', 'Percent of Adults Who Are Obese',\n",
    "       'Percent of Adults Who Meet CDC-Recommended Physical Activity Levels',\n",
    "       'Percent of High School Graduates (Over Age 18)',\n",
    "       'Percent Living Below 200% Poverty Level',\n",
    "       'Percent of Population Uninsured', 'Percent Unemployed', 'Percent of Adults Who Received Seasonal Flu Shot', \n",
    "       'Heart Disease Mortality Rate (Age-Adjusted; Per 100,000 people)']\n",
    "\n",
    "df_db = df[df['indicator'].isin(db_indicators)]"
   ]
  },
  {
   "cell_type": "code",
   "execution_count": null,
   "metadata": {},
   "outputs": [],
   "source": [
    "df_db.head()"
   ]
  },
  {
   "cell_type": "code",
   "execution_count": null,
   "metadata": {},
   "outputs": [],
   "source": [
    "df_pv = pd.pivot_table(df_db, values = 'value', index=['year', 'place', 'race'], columns='indicator', aggfunc=np.sum)"
   ]
  },
  {
   "cell_type": "code",
   "execution_count": null,
   "metadata": {},
   "outputs": [],
   "source": [
    "df_pv = df_pv.reset_index()"
   ]
  },
  {
   "cell_type": "code",
   "execution_count": null,
   "metadata": {},
   "outputs": [],
   "source": [
    "df_pv.head()"
   ]
  },
  {
   "cell_type": "code",
   "execution_count": null,
   "metadata": {},
   "outputs": [],
   "source": [
    "df_pv.columns"
   ]
  },
  {
   "cell_type": "code",
   "execution_count": null,
   "metadata": {},
   "outputs": [],
   "source": [
    "df_pv.columns = ['year', 'place', 'race', 'Diabetes Mortality Rate',\n",
    "       'Heart Disease Mortality Rate',\n",
    "       'Percent Living Below 200% Poverty Level', 'Percent Unemployed',\n",
    "       'Percent of Adults Who Are Obese',\n",
    "       'Percent of Adults Who Are Active',\n",
    "       'Percent of Adults Who Received Seasonal Flu Shot',\n",
    "       'Percent of High School Graduates',\n",
    "       'Percent of Population Uninsured']"
   ]
  },
  {
   "cell_type": "code",
   "execution_count": null,
   "metadata": {},
   "outputs": [],
   "source": [
    "vars = ['Heart Disease Mortality Rate',\n",
    "       'Percent Living Below 200% Poverty Level', 'Percent Unemployed',\n",
    "       'Percent of Adults Who Are Obese',\n",
    "       'Percent of Adults Who Are Active',\n",
    "       'Percent of Adults Who Received Seasonal Flu Shot',\n",
    "       'Percent of High School Graduates',\n",
    "       'Percent of Population Uninsured']"
   ]
  },
  {
   "cell_type": "code",
   "execution_count": null,
   "metadata": {},
   "outputs": [],
   "source": [
    "fig = plt.figure(figsize = (20,20))\n",
    "\n",
    "for i in range(8):\n",
    "    ax = fig.add_subplot(4,4,i+1)\n",
    "    ax.scatter(df_pv[vars[i]], df_pv['Diabetes Mortality Rate'])\n",
    "    ax.set_title(vars[i])\n",
    "\n",
    "fig.tight_layout()\n",
    "fig.subplots_adjust(top=0.93)\n",
    "fig.suptitle('Correlation with Diabetes Mortality Rate', fontsize=24)\n",
    "plt.show()"
   ]
  },
  {
   "cell_type": "markdown",
   "metadata": {},
   "source": [
    "The scatter plots show some level correlation between the diabetes mortality rate and all variables except the population living below the poverty level and percent of high school graduates. The strongest correlation is between diabetes mortality and obesity. "
   ]
  },
  {
   "cell_type": "markdown",
   "metadata": {},
   "source": [
    "I also create a correlation heatmap to quantify the correlation between the variables."
   ]
  },
  {
   "cell_type": "code",
   "execution_count": null,
   "metadata": {},
   "outputs": [],
   "source": [
    "corr = df_pv.corr()"
   ]
  },
  {
   "cell_type": "code",
   "execution_count": null,
   "metadata": {},
   "outputs": [],
   "source": [
    "mask = np.zeros_like(corr, dtype=np.bool)\n",
    "mask[np.triu_indices_from(mask)] = True\n",
    "plt.figure(figsize=(20,12))\n",
    "sns.heatmap(corr,\n",
    "            vmin=-1,\n",
    "            cmap='GnBu',\n",
    "            annot=True,\n",
    "            mask = mask);"
   ]
  },
  {
   "cell_type": "markdown",
   "metadata": {},
   "source": [
    "As expected, heart disease mortality and obesity are correlated with diabetes mortality. Unemployment also correlates with diabetes mortality rate, which could indicate that low income populations are more affected, or that people with severe diabetes are not able to work. Surprisingly the percent of adults who get a flu shot is also correlated, perhaps because older populations and populations with more illness are more susceptible to the flu so they are more likely to get the vaccine. "
   ]
  },
  {
   "cell_type": "markdown",
   "metadata": {},
   "source": [
    "Finally, I create the same scatter plots and heatmap for the Black population. "
   ]
  },
  {
   "cell_type": "code",
   "execution_count": null,
   "metadata": {},
   "outputs": [],
   "source": [
    "df_black = df_pv[df_pv['race'] == 'Black']"
   ]
  },
  {
   "cell_type": "code",
   "execution_count": null,
   "metadata": {},
   "outputs": [],
   "source": [
    "fig = plt.figure(figsize = (20,20))\n",
    "\n",
    "for i in range(8):\n",
    "    ax = fig.add_subplot(4,4,i+1)\n",
    "    ax.scatter(df_black[vars[i]], df_black['Diabetes Mortality Rate'])\n",
    "    ax.set_title(vars[i])\n",
    "    \n",
    "fig.tight_layout()\n",
    "fig.subplots_adjust(top=0.93)\n",
    "fig.suptitle('Correlation with Diabetes Mortality Rate Among Black Population', fontsize=24)\n",
    "plt.show()"
   ]
  },
  {
   "cell_type": "code",
   "execution_count": null,
   "metadata": {},
   "outputs": [],
   "source": [
    "black_corr = df_black.corr()"
   ]
  },
  {
   "cell_type": "code",
   "execution_count": null,
   "metadata": {},
   "outputs": [],
   "source": [
    "mask = np.zeros_like(black_corr, dtype=np.bool)\n",
    "mask[np.triu_indices_from(mask)] = True\n",
    "plt.figure(figsize=(20,12))\n",
    "sns.heatmap(black_corr,\n",
    "            vmin=-1,\n",
    "            cmap='GnBu',\n",
    "            annot=True,\n",
    "            mask = mask);"
   ]
  },
  {
   "cell_type": "markdown",
   "metadata": {},
   "source": [
    "While we see a weak correlation between diabetes mortality and obesity and the flu shot, most variables don't show a strong relationship only in this category. Perhaps this is due to a smaller sample size.  "
   ]
  },
  {
   "cell_type": "code",
   "execution_count": null,
   "metadata": {},
   "outputs": [],
   "source": []
  }
 ],
 "metadata": {
  "kernelspec": {
   "display_name": "Python 3",
   "language": "python",
   "name": "python3"
  },
  "language_info": {
   "codemirror_mode": {
    "name": "ipython",
    "version": 3
   },
   "file_extension": ".py",
   "mimetype": "text/x-python",
   "name": "python",
   "nbconvert_exporter": "python",
   "pygments_lexer": "ipython3",
   "version": "3.7.3"
  }
 },
 "nbformat": 4,
 "nbformat_minor": 2
}
