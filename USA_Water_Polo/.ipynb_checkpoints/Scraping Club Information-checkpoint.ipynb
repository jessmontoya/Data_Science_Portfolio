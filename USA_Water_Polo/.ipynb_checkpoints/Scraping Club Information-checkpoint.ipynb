{
 "cells": [
  {
   "cell_type": "code",
   "execution_count": 1,
   "metadata": {},
   "outputs": [],
   "source": [
    "from requests import get\n",
    "from requests.exceptions import RequestException\n",
    "from contextlib import closing\n",
    "from bs4 import BeautifulSoup\n",
    "import pandas as pd"
   ]
  },
  {
   "cell_type": "code",
   "execution_count": 2,
   "metadata": {},
   "outputs": [],
   "source": [
    "import requests\n",
    "import re"
   ]
  },
  {
   "cell_type": "code",
   "execution_count": 3,
   "metadata": {},
   "outputs": [],
   "source": [
    "url = 'https://webpoint.usawaterpolo.com/wp15/Companies/Clubs.wp'\n",
    "response = get(url)"
   ]
  },
  {
   "cell_type": "code",
   "execution_count": 4,
   "metadata": {},
   "outputs": [
    {
     "name": "stdout",
     "output_type": "stream",
     "text": [
      "<!DOCTYPE html>\r\n",
      "<html>\r\n",
      "<head>\r\n",
      "<title>USA Water Polo Clubs</title>\r\n",
      "<meta charset=\"utf-8\" />\r\n",
      "<meta name=\"keywords\" content=\"\">\r\n",
      "<meta name=\"description\" content=\"\">\r\n",
      "<meta name=\"apple-mobile-web-app-capable\" content=\"yes\">\r\n",
      "<meta name=\"apple-mobile-web-app-status-bar-style\" content=\"black\">\r\n",
      "<meta name=\"viewport\" content=\"width=device-width, initial-scale=1.0\">\r\n",
      "<meta http-equiv=\"X-UA-Compatible\" content=\"IE=edge\" />\t\r\n",
      "<link rel=\"stylesheet\" type=\"text/css\" media=\"screen\" href=\"/wp_Media/css/\n"
     ]
    }
   ],
   "source": [
    "print(response.text[:500])"
   ]
  },
  {
   "cell_type": "code",
   "execution_count": 5,
   "metadata": {},
   "outputs": [
    {
     "data": {
      "text/plain": [
       "bs4.BeautifulSoup"
      ]
     },
     "execution_count": 5,
     "metadata": {},
     "output_type": "execute_result"
    }
   ],
   "source": [
    "html_soup = BeautifulSoup(response.text, 'html.parser')\n",
    "type(html_soup)"
   ]
  },
  {
   "cell_type": "code",
   "execution_count": 7,
   "metadata": {},
   "outputs": [
    {
     "name": "stdout",
     "output_type": "stream",
     "text": [
      "<title>USA Water Polo Clubs</title>\n"
     ]
    }
   ],
   "source": [
    "print(html_soup.title)"
   ]
  },
  {
   "cell_type": "code",
   "execution_count": 8,
   "metadata": {},
   "outputs": [],
   "source": [
    "options = html_soup.find(\"select\", attrs={\"id\":\"CompanyParentID\"})\n",
    "option_list = options.find_all(\"option\")"
   ]
  },
  {
   "cell_type": "code",
   "execution_count": 9,
   "metadata": {},
   "outputs": [
    {
     "data": {
      "text/plain": [
       "[<option value=\"\">-Select One-</option>,\n",
       " <option value=\"10008\">Central California Zone</option>,\n",
       " <option value=\"10011\">Coastal California Zone</option>,\n",
       " <option value=\"17972\">International Zone</option>,\n",
       " <option value=\"10003\">Midwest Zone</option>,\n",
       " <option value=\"10010\">Mountain Zone</option>,\n",
       " <option value=\"1795\">Northeast Zone</option>,\n",
       " <option value=\"10005\">Pacific Northwest &amp; Hawaii Zone</option>,\n",
       " <option value=\"10009\">Pacific Southwest Zone</option>,\n",
       " <option value=\"10006\">Pacific Zone</option>,\n",
       " <option value=\"10002\">Southeast Zone</option>,\n",
       " <option value=\"10007\">Southern Pacific Zone</option>,\n",
       " <option value=\"10004\">Southwest Zone</option>]"
      ]
     },
     "execution_count": 9,
     "metadata": {},
     "output_type": "execute_result"
    }
   ],
   "source": [
    "option_list"
   ]
  },
  {
   "cell_type": "code",
   "execution_count": 15,
   "metadata": {},
   "outputs": [],
   "source": [
    "zones = []\n",
    "for option in option_list[1:]:\n",
    "    zones.append(option.attrs['value'])"
   ]
  },
  {
   "cell_type": "code",
   "execution_count": 36,
   "metadata": {},
   "outputs": [],
   "source": [
    "zone_dict = {}\n",
    "\n",
    "for option in option_list[1:]:\n",
    "    zone_dict[option.attrs['value']] = option.text"
   ]
  },
  {
   "cell_type": "code",
   "execution_count": 37,
   "metadata": {},
   "outputs": [
    {
     "data": {
      "text/plain": [
       "{'10008': 'Central California Zone',\n",
       " '10011': 'Coastal California Zone',\n",
       " '17972': 'International Zone',\n",
       " '10003': 'Midwest Zone',\n",
       " '10010': 'Mountain Zone',\n",
       " '1795': 'Northeast Zone',\n",
       " '10005': 'Pacific Northwest & Hawaii Zone',\n",
       " '10009': 'Pacific Southwest Zone',\n",
       " '10006': 'Pacific Zone',\n",
       " '10002': 'Southeast Zone',\n",
       " '10007': 'Southern Pacific Zone',\n",
       " '10004': 'Southwest Zone'}"
      ]
     },
     "execution_count": 37,
     "metadata": {},
     "output_type": "execute_result"
    }
   ],
   "source": [
    "zone_dict"
   ]
  },
  {
   "cell_type": "code",
   "execution_count": 18,
   "metadata": {},
   "outputs": [
    {
     "data": {
      "text/plain": [
       "['10008',\n",
       " '10011',\n",
       " '17972',\n",
       " '10003',\n",
       " '10010',\n",
       " '1795',\n",
       " '10005',\n",
       " '10009',\n",
       " '10006',\n",
       " '10002',\n",
       " '10007',\n",
       " '10004']"
      ]
     },
     "execution_count": 18,
     "metadata": {},
     "output_type": "execute_result"
    }
   ],
   "source": [
    "zones"
   ]
  },
  {
   "cell_type": "code",
   "execution_count": 19,
   "metadata": {},
   "outputs": [],
   "source": [
    "clubs = []\n",
    "\n",
    "for zone in zones:\n",
    "    payload = {\n",
    "    'CompanyParentID': zone,\n",
    "    'CompanyName':'',\n",
    "    'CompanyState':'',\n",
    "    'geo_Zip':'',\n",
    "    'geo_Miles':'',\n",
    "    'CustomCompanyGroup1':'',\n",
    "    'Submit':'Go'\n",
    "    }\n",
    "    \n",
    "    r = requests.post(url, data=payload)\n",
    "    r_soup = BeautifulSoup(r.text, 'html.parser')\n",
    "    \n",
    "    club_info = r_soup.find(\"div\", attrs={\"class\":\"mobilelist fe-list-clubs\"})\n",
    "    \n",
    "    for li in club_info.find_all(\"li\"):\n",
    "        club = {}\n",
    "        club['club_name'] = li.h3.text\n",
    "        if li.find(\"p\", attrs={\"class\":None}):\n",
    "            club['club_loc'] = li.find(\"p\", attrs={\"class\":None}).text\n",
    "        else: \n",
    "            club['club_loc'] = \"Unknown\"\n",
    "        club['club_id'] = li.find(\"div\", attrs={\"class\":\"pad-5 org-icons-container\"}).text\n",
    "        club['club_zone'] = zone\n",
    "        clubs.append(club)"
   ]
  },
  {
   "cell_type": "code",
   "execution_count": 39,
   "metadata": {},
   "outputs": [],
   "source": [
    "clubs_df = pd.DataFrame(clubs)"
   ]
  },
  {
   "cell_type": "code",
   "execution_count": 42,
   "metadata": {},
   "outputs": [
    {
     "data": {
      "text/html": [
       "<div>\n",
       "<style scoped>\n",
       "    .dataframe tbody tr th:only-of-type {\n",
       "        vertical-align: middle;\n",
       "    }\n",
       "\n",
       "    .dataframe tbody tr th {\n",
       "        vertical-align: top;\n",
       "    }\n",
       "\n",
       "    .dataframe thead th {\n",
       "        text-align: right;\n",
       "    }\n",
       "</style>\n",
       "<table border=\"1\" class=\"dataframe\">\n",
       "  <thead>\n",
       "    <tr style=\"text-align: right;\">\n",
       "      <th></th>\n",
       "      <th>club_name</th>\n",
       "      <th>club_loc</th>\n",
       "      <th>club_id</th>\n",
       "      <th>club_zone</th>\n",
       "    </tr>\n",
       "  </thead>\n",
       "  <tbody>\n",
       "    <tr>\n",
       "      <th>0</th>\n",
       "      <td>209 Water Polo Club</td>\n",
       "      <td>Primary Pool:\\r\\n\\t\\t\\t\\tBuhach Colony High Sc...</td>\n",
       "      <td>\\r\\n\\t\\t\\t\\t \\r\\n\\t\\t\\t\\t\\tClub ID: 31318\\n \\r...</td>\n",
       "      <td>Central California Zone</td>\n",
       "    </tr>\n",
       "    <tr>\n",
       "      <th>1</th>\n",
       "      <td>A-Town Water Polo Club</td>\n",
       "      <td>Primary Pool:\\r\\n\\t\\t\\t\\tAtascadero High Schoo...</td>\n",
       "      <td>\\r\\n\\t\\t\\t\\t \\r\\n\\t\\t\\t\\t\\tClub ID: 30234\\n \\r...</td>\n",
       "      <td>Central California Zone</td>\n",
       "    </tr>\n",
       "    <tr>\n",
       "      <th>2</th>\n",
       "      <td>Alumni Water Polo Club</td>\n",
       "      <td>Primary Pool:\\r\\n\\t\\t\\t\\tGranite Bay High Scho...</td>\n",
       "      <td>\\r\\n\\t\\t\\t\\t \\r\\n\\t\\t\\t\\t\\tClub ID: 23883\\n \\r...</td>\n",
       "      <td>Central California Zone</td>\n",
       "    </tr>\n",
       "    <tr>\n",
       "      <th>3</th>\n",
       "      <td>American River Water Polo Club</td>\n",
       "      <td>Primary Pool:\\r\\n\\t\\t\\t\\tRio Americano High Sc...</td>\n",
       "      <td>\\r\\n\\t\\t\\t\\t \\r\\n\\t\\t\\t\\t\\tClub ID: 85\\n \\r\\n\\...</td>\n",
       "      <td>Central California Zone</td>\n",
       "    </tr>\n",
       "    <tr>\n",
       "      <th>4</th>\n",
       "      <td>Arroyo Grande Water Polo</td>\n",
       "      <td>Primary Pool:\\r\\n\\t\\t\\t\\tArroyo Grande High Sc...</td>\n",
       "      <td>\\r\\n\\t\\t\\t\\t \\r\\n\\t\\t\\t\\t\\tClub ID: 21063\\n \\r...</td>\n",
       "      <td>Central California Zone</td>\n",
       "    </tr>\n",
       "    <tr>\n",
       "      <th>5</th>\n",
       "      <td>Asa Aquatics</td>\n",
       "      <td>Primary Pool:\\r\\n\\t\\t\\t\\tEl Capitan High Schoo...</td>\n",
       "      <td>\\r\\n\\t\\t\\t\\t \\r\\n\\t\\t\\t\\t\\tClub ID: 19513\\n \\r...</td>\n",
       "      <td>Central California Zone</td>\n",
       "    </tr>\n",
       "    <tr>\n",
       "      <th>6</th>\n",
       "      <td>Bakersfield Water Polo Club</td>\n",
       "      <td>Primary Pool:\\r\\n\\t\\t\\t\\tGarces Memorial High ...</td>\n",
       "      <td>\\r\\n\\t\\t\\t\\t \\r\\n\\t\\t\\t\\t\\tClub ID: 16629\\n \\r...</td>\n",
       "      <td>Central California Zone</td>\n",
       "    </tr>\n",
       "    <tr>\n",
       "      <th>7</th>\n",
       "      <td>BarDown Water Polo Academy</td>\n",
       "      <td>Primary Pool:\\r\\n\\t\\t\\t\\tCSU Stanislaus\\r\\n\\t\\...</td>\n",
       "      <td>\\r\\n\\t\\t\\t\\t \\r\\n\\t\\t\\t\\t\\tClub ID: 31674\\n \\r...</td>\n",
       "      <td>Central California Zone</td>\n",
       "    </tr>\n",
       "    <tr>\n",
       "      <th>8</th>\n",
       "      <td>Blazer Water Polo Club</td>\n",
       "      <td>Primary Pool:\\r\\n\\t\\t\\t\\tGolden West High Scho...</td>\n",
       "      <td>\\r\\n\\t\\t\\t\\t \\r\\n\\t\\t\\t\\t\\tClub ID: 16120\\n \\r...</td>\n",
       "      <td>Central California Zone</td>\n",
       "    </tr>\n",
       "    <tr>\n",
       "      <th>9</th>\n",
       "      <td>Bulldog Water Polo Club</td>\n",
       "      <td>Primary Pool:\\r\\n\\t\\t\\t\\tFresno State Aquatics...</td>\n",
       "      <td>\\r\\n\\t\\t\\t\\t \\r\\n\\t\\t\\t\\t\\tClub ID: 31612\\n \\r...</td>\n",
       "      <td>Central California Zone</td>\n",
       "    </tr>\n",
       "    <tr>\n",
       "      <th>10</th>\n",
       "      <td>California Gold</td>\n",
       "      <td>Primary Pool:\\r\\n\\t\\t\\t\\tTracy High School\\r\\n...</td>\n",
       "      <td>\\r\\n\\t\\t\\t\\t \\r\\n\\t\\t\\t\\t\\tClub ID: 33546\\n \\r...</td>\n",
       "      <td>Central California Zone</td>\n",
       "    </tr>\n",
       "    <tr>\n",
       "      <th>11</th>\n",
       "      <td>California Republic SC</td>\n",
       "      <td>Primary Pool:\\r\\n\\t\\t\\t\\tAmerican River Colleg...</td>\n",
       "      <td>\\r\\n\\t\\t\\t\\t \\r\\n\\t\\t\\t\\t\\tClub ID: 26152\\n \\r...</td>\n",
       "      <td>Central California Zone</td>\n",
       "    </tr>\n",
       "    <tr>\n",
       "      <th>12</th>\n",
       "      <td>Capital City Masters Water Polo Club</td>\n",
       "      <td>Primary Pool:\\r\\n\\t\\t\\t\\tAmerican River Colleg...</td>\n",
       "      <td>\\r\\n\\t\\t\\t\\t \\r\\n\\t\\t\\t\\t\\tClub ID: 34421\\n \\r...</td>\n",
       "      <td>Central California Zone</td>\n",
       "    </tr>\n",
       "    <tr>\n",
       "      <th>13</th>\n",
       "      <td>Central Tsunami Aquatic Club</td>\n",
       "      <td>Primary Pool:\\r\\n\\t\\t\\t\\tCentral Unified Aquat...</td>\n",
       "      <td>\\r\\n\\t\\t\\t\\t \\r\\n\\t\\t\\t\\t\\tClub ID: 34208\\n \\r...</td>\n",
       "      <td>Central California Zone</td>\n",
       "    </tr>\n",
       "    <tr>\n",
       "      <th>14</th>\n",
       "      <td>Central Valley Water Polo Club</td>\n",
       "      <td>Primary Pool:\\r\\n\\t\\t\\t\\tSunnyside High School...</td>\n",
       "      <td>\\r\\n\\t\\t\\t\\t \\r\\n\\t\\t\\t\\t\\tClub ID: 1675\\n \\r\\...</td>\n",
       "      <td>Central California Zone</td>\n",
       "    </tr>\n",
       "    <tr>\n",
       "      <th>15</th>\n",
       "      <td>Clovis Water Polo Club</td>\n",
       "      <td>Primary Pool:\\r\\n\\t\\t\\t\\tClovis West High Scho...</td>\n",
       "      <td>\\r\\n\\t\\t\\t\\t \\r\\n\\t\\t\\t\\t\\tClub ID: 47\\n \\r\\n\\...</td>\n",
       "      <td>Central California Zone</td>\n",
       "    </tr>\n",
       "    <tr>\n",
       "      <th>16</th>\n",
       "      <td>Concord Aquatics</td>\n",
       "      <td>Primary Pool:\\r\\n\\t\\t\\t\\tDe La Salle High Scho...</td>\n",
       "      <td>\\r\\n\\t\\t\\t\\t \\r\\n\\t\\t\\t\\t\\tClub ID: 33982\\n \\r...</td>\n",
       "      <td>Central California Zone</td>\n",
       "    </tr>\n",
       "    <tr>\n",
       "      <th>17</th>\n",
       "      <td>Davis Water Polo Club</td>\n",
       "      <td>Primary Pool:\\r\\n\\t\\t\\t\\tUC Davis Schaal Aquat...</td>\n",
       "      <td>\\r\\n\\t\\t\\t\\t \\r\\n\\t\\t\\t\\t\\tClub ID: 79\\n \\r\\n\\...</td>\n",
       "      <td>Central California Zone</td>\n",
       "    </tr>\n",
       "    <tr>\n",
       "      <th>18</th>\n",
       "      <td>Dixon Water Polo Club</td>\n",
       "      <td>Primary Pool:\\r\\n\\t\\t\\t\\tDixon Community Pool\\...</td>\n",
       "      <td>\\r\\n\\t\\t\\t\\t \\r\\n\\t\\t\\t\\t\\tClub ID: 18313\\n \\r...</td>\n",
       "      <td>Central California Zone</td>\n",
       "    </tr>\n",
       "    <tr>\n",
       "      <th>19</th>\n",
       "      <td>Echo Aquatics</td>\n",
       "      <td>Primary Pool:\\r\\n\\t\\t\\t\\tFresno High School\\r\\...</td>\n",
       "      <td>\\r\\n\\t\\t\\t\\t \\r\\n\\t\\t\\t\\t\\tClub ID: 34492\\n \\r...</td>\n",
       "      <td>Central California Zone</td>\n",
       "    </tr>\n",
       "  </tbody>\n",
       "</table>\n",
       "</div>"
      ],
      "text/plain": [
       "                                club_name  \\\n",
       "0                     209 Water Polo Club   \n",
       "1                  A-Town Water Polo Club   \n",
       "2                  Alumni Water Polo Club   \n",
       "3          American River Water Polo Club   \n",
       "4                Arroyo Grande Water Polo   \n",
       "5                            Asa Aquatics   \n",
       "6             Bakersfield Water Polo Club   \n",
       "7              BarDown Water Polo Academy   \n",
       "8                  Blazer Water Polo Club   \n",
       "9                 Bulldog Water Polo Club   \n",
       "10                        California Gold   \n",
       "11                 California Republic SC   \n",
       "12   Capital City Masters Water Polo Club   \n",
       "13           Central Tsunami Aquatic Club   \n",
       "14         Central Valley Water Polo Club   \n",
       "15                 Clovis Water Polo Club   \n",
       "16                       Concord Aquatics   \n",
       "17                  Davis Water Polo Club   \n",
       "18                  Dixon Water Polo Club   \n",
       "19                          Echo Aquatics   \n",
       "\n",
       "                                             club_loc  \\\n",
       "0   Primary Pool:\\r\\n\\t\\t\\t\\tBuhach Colony High Sc...   \n",
       "1   Primary Pool:\\r\\n\\t\\t\\t\\tAtascadero High Schoo...   \n",
       "2   Primary Pool:\\r\\n\\t\\t\\t\\tGranite Bay High Scho...   \n",
       "3   Primary Pool:\\r\\n\\t\\t\\t\\tRio Americano High Sc...   \n",
       "4   Primary Pool:\\r\\n\\t\\t\\t\\tArroyo Grande High Sc...   \n",
       "5   Primary Pool:\\r\\n\\t\\t\\t\\tEl Capitan High Schoo...   \n",
       "6   Primary Pool:\\r\\n\\t\\t\\t\\tGarces Memorial High ...   \n",
       "7   Primary Pool:\\r\\n\\t\\t\\t\\tCSU Stanislaus\\r\\n\\t\\...   \n",
       "8   Primary Pool:\\r\\n\\t\\t\\t\\tGolden West High Scho...   \n",
       "9   Primary Pool:\\r\\n\\t\\t\\t\\tFresno State Aquatics...   \n",
       "10  Primary Pool:\\r\\n\\t\\t\\t\\tTracy High School\\r\\n...   \n",
       "11  Primary Pool:\\r\\n\\t\\t\\t\\tAmerican River Colleg...   \n",
       "12  Primary Pool:\\r\\n\\t\\t\\t\\tAmerican River Colleg...   \n",
       "13  Primary Pool:\\r\\n\\t\\t\\t\\tCentral Unified Aquat...   \n",
       "14  Primary Pool:\\r\\n\\t\\t\\t\\tSunnyside High School...   \n",
       "15  Primary Pool:\\r\\n\\t\\t\\t\\tClovis West High Scho...   \n",
       "16  Primary Pool:\\r\\n\\t\\t\\t\\tDe La Salle High Scho...   \n",
       "17  Primary Pool:\\r\\n\\t\\t\\t\\tUC Davis Schaal Aquat...   \n",
       "18  Primary Pool:\\r\\n\\t\\t\\t\\tDixon Community Pool\\...   \n",
       "19  Primary Pool:\\r\\n\\t\\t\\t\\tFresno High School\\r\\...   \n",
       "\n",
       "                                              club_id                club_zone  \n",
       "0   \\r\\n\\t\\t\\t\\t \\r\\n\\t\\t\\t\\t\\tClub ID: 31318\\n \\r...  Central California Zone  \n",
       "1   \\r\\n\\t\\t\\t\\t \\r\\n\\t\\t\\t\\t\\tClub ID: 30234\\n \\r...  Central California Zone  \n",
       "2   \\r\\n\\t\\t\\t\\t \\r\\n\\t\\t\\t\\t\\tClub ID: 23883\\n \\r...  Central California Zone  \n",
       "3   \\r\\n\\t\\t\\t\\t \\r\\n\\t\\t\\t\\t\\tClub ID: 85\\n \\r\\n\\...  Central California Zone  \n",
       "4   \\r\\n\\t\\t\\t\\t \\r\\n\\t\\t\\t\\t\\tClub ID: 21063\\n \\r...  Central California Zone  \n",
       "5   \\r\\n\\t\\t\\t\\t \\r\\n\\t\\t\\t\\t\\tClub ID: 19513\\n \\r...  Central California Zone  \n",
       "6   \\r\\n\\t\\t\\t\\t \\r\\n\\t\\t\\t\\t\\tClub ID: 16629\\n \\r...  Central California Zone  \n",
       "7   \\r\\n\\t\\t\\t\\t \\r\\n\\t\\t\\t\\t\\tClub ID: 31674\\n \\r...  Central California Zone  \n",
       "8   \\r\\n\\t\\t\\t\\t \\r\\n\\t\\t\\t\\t\\tClub ID: 16120\\n \\r...  Central California Zone  \n",
       "9   \\r\\n\\t\\t\\t\\t \\r\\n\\t\\t\\t\\t\\tClub ID: 31612\\n \\r...  Central California Zone  \n",
       "10  \\r\\n\\t\\t\\t\\t \\r\\n\\t\\t\\t\\t\\tClub ID: 33546\\n \\r...  Central California Zone  \n",
       "11  \\r\\n\\t\\t\\t\\t \\r\\n\\t\\t\\t\\t\\tClub ID: 26152\\n \\r...  Central California Zone  \n",
       "12  \\r\\n\\t\\t\\t\\t \\r\\n\\t\\t\\t\\t\\tClub ID: 34421\\n \\r...  Central California Zone  \n",
       "13  \\r\\n\\t\\t\\t\\t \\r\\n\\t\\t\\t\\t\\tClub ID: 34208\\n \\r...  Central California Zone  \n",
       "14  \\r\\n\\t\\t\\t\\t \\r\\n\\t\\t\\t\\t\\tClub ID: 1675\\n \\r\\...  Central California Zone  \n",
       "15  \\r\\n\\t\\t\\t\\t \\r\\n\\t\\t\\t\\t\\tClub ID: 47\\n \\r\\n\\...  Central California Zone  \n",
       "16  \\r\\n\\t\\t\\t\\t \\r\\n\\t\\t\\t\\t\\tClub ID: 33982\\n \\r...  Central California Zone  \n",
       "17  \\r\\n\\t\\t\\t\\t \\r\\n\\t\\t\\t\\t\\tClub ID: 79\\n \\r\\n\\...  Central California Zone  \n",
       "18  \\r\\n\\t\\t\\t\\t \\r\\n\\t\\t\\t\\t\\tClub ID: 18313\\n \\r...  Central California Zone  \n",
       "19  \\r\\n\\t\\t\\t\\t \\r\\n\\t\\t\\t\\t\\tClub ID: 34492\\n \\r...  Central California Zone  "
      ]
     },
     "execution_count": 42,
     "metadata": {},
     "output_type": "execute_result"
    }
   ],
   "source": [
    "clubs_df.head(20)"
   ]
  },
  {
   "cell_type": "code",
   "execution_count": 41,
   "metadata": {},
   "outputs": [],
   "source": [
    "clubs_df['club_zone'] = clubs_df['club_zone'].map(zone_dict)"
   ]
  },
  {
   "cell_type": "code",
   "execution_count": 43,
   "metadata": {},
   "outputs": [],
   "source": [
    "clubs_df.to_csv('club_info.csv')"
   ]
  }
 ],
 "metadata": {
  "kernelspec": {
   "display_name": "usawp",
   "language": "python",
   "name": "usawp"
  },
  "language_info": {
   "codemirror_mode": {
    "name": "ipython",
    "version": 3
   },
   "file_extension": ".py",
   "mimetype": "text/x-python",
   "name": "python",
   "nbconvert_exporter": "python",
   "pygments_lexer": "ipython3",
   "version": "3.6.9"
  }
 },
 "nbformat": 4,
 "nbformat_minor": 2
}
