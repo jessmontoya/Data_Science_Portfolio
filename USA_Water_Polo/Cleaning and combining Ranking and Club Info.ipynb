{
 "cells": [
  {
   "cell_type": "code",
   "execution_count": 1,
   "metadata": {},
   "outputs": [],
   "source": [
    "import pandas as pd\n",
    "import re\n",
    "import numpy as np\n",
    "from fuzzywuzzy import fuzz"
   ]
  },
  {
   "cell_type": "code",
   "execution_count": 2,
   "metadata": {},
   "outputs": [],
   "source": [
    "clubs = pd.read_csv('club_info.csv', index_col=0)\n",
    "rankings = pd.read_csv('rankings.csv', index_col=0)"
   ]
  },
  {
   "cell_type": "code",
   "execution_count": 3,
   "metadata": {},
   "outputs": [],
   "source": [
    "pd.set_option('display.max_rows', None)"
   ]
  },
  {
   "cell_type": "code",
   "execution_count": 4,
   "metadata": {},
   "outputs": [
    {
     "data": {
      "text/html": [
       "<div>\n",
       "<style scoped>\n",
       "    .dataframe tbody tr th:only-of-type {\n",
       "        vertical-align: middle;\n",
       "    }\n",
       "\n",
       "    .dataframe tbody tr th {\n",
       "        vertical-align: top;\n",
       "    }\n",
       "\n",
       "    .dataframe thead th {\n",
       "        text-align: right;\n",
       "    }\n",
       "</style>\n",
       "<table border=\"1\" class=\"dataframe\">\n",
       "  <thead>\n",
       "    <tr style=\"text-align: right;\">\n",
       "      <th></th>\n",
       "      <th>club_name</th>\n",
       "      <th>club_loc</th>\n",
       "      <th>club_id</th>\n",
       "      <th>club_zone</th>\n",
       "    </tr>\n",
       "  </thead>\n",
       "  <tbody>\n",
       "    <tr>\n",
       "      <th>0</th>\n",
       "      <td>209 Water Polo Club</td>\n",
       "      <td>Primary Pool:\\r\\n\\t\\t\\t\\tBuhach Colony High Sc...</td>\n",
       "      <td>\\r\\n\\t\\t\\t\\t \\r\\n\\t\\t\\t\\t\\tClub ID: 31318\\n \\r...</td>\n",
       "      <td>Central California Zone</td>\n",
       "    </tr>\n",
       "    <tr>\n",
       "      <th>1</th>\n",
       "      <td>A-Town Water Polo Club</td>\n",
       "      <td>Primary Pool:\\r\\n\\t\\t\\t\\tAtascadero High Schoo...</td>\n",
       "      <td>\\r\\n\\t\\t\\t\\t \\r\\n\\t\\t\\t\\t\\tClub ID: 30234\\n \\r...</td>\n",
       "      <td>Central California Zone</td>\n",
       "    </tr>\n",
       "    <tr>\n",
       "      <th>2</th>\n",
       "      <td>Alumni Water Polo Club</td>\n",
       "      <td>Primary Pool:\\r\\n\\t\\t\\t\\tGranite Bay High Scho...</td>\n",
       "      <td>\\r\\n\\t\\t\\t\\t \\r\\n\\t\\t\\t\\t\\tClub ID: 23883\\n \\r...</td>\n",
       "      <td>Central California Zone</td>\n",
       "    </tr>\n",
       "    <tr>\n",
       "      <th>3</th>\n",
       "      <td>American River Water Polo Club</td>\n",
       "      <td>Primary Pool:\\r\\n\\t\\t\\t\\tRio Americano High Sc...</td>\n",
       "      <td>\\r\\n\\t\\t\\t\\t \\r\\n\\t\\t\\t\\t\\tClub ID: 85\\n \\r\\n\\...</td>\n",
       "      <td>Central California Zone</td>\n",
       "    </tr>\n",
       "    <tr>\n",
       "      <th>4</th>\n",
       "      <td>Arroyo Grande Water Polo</td>\n",
       "      <td>Primary Pool:\\r\\n\\t\\t\\t\\tArroyo Grande High Sc...</td>\n",
       "      <td>\\r\\n\\t\\t\\t\\t \\r\\n\\t\\t\\t\\t\\tClub ID: 21063\\n \\r...</td>\n",
       "      <td>Central California Zone</td>\n",
       "    </tr>\n",
       "  </tbody>\n",
       "</table>\n",
       "</div>"
      ],
      "text/plain": [
       "                         club_name  \\\n",
       "0              209 Water Polo Club   \n",
       "1           A-Town Water Polo Club   \n",
       "2           Alumni Water Polo Club   \n",
       "3   American River Water Polo Club   \n",
       "4         Arroyo Grande Water Polo   \n",
       "\n",
       "                                            club_loc  \\\n",
       "0  Primary Pool:\\r\\n\\t\\t\\t\\tBuhach Colony High Sc...   \n",
       "1  Primary Pool:\\r\\n\\t\\t\\t\\tAtascadero High Schoo...   \n",
       "2  Primary Pool:\\r\\n\\t\\t\\t\\tGranite Bay High Scho...   \n",
       "3  Primary Pool:\\r\\n\\t\\t\\t\\tRio Americano High Sc...   \n",
       "4  Primary Pool:\\r\\n\\t\\t\\t\\tArroyo Grande High Sc...   \n",
       "\n",
       "                                             club_id                club_zone  \n",
       "0  \\r\\n\\t\\t\\t\\t \\r\\n\\t\\t\\t\\t\\tClub ID: 31318\\n \\r...  Central California Zone  \n",
       "1  \\r\\n\\t\\t\\t\\t \\r\\n\\t\\t\\t\\t\\tClub ID: 30234\\n \\r...  Central California Zone  \n",
       "2  \\r\\n\\t\\t\\t\\t \\r\\n\\t\\t\\t\\t\\tClub ID: 23883\\n \\r...  Central California Zone  \n",
       "3  \\r\\n\\t\\t\\t\\t \\r\\n\\t\\t\\t\\t\\tClub ID: 85\\n \\r\\n\\...  Central California Zone  \n",
       "4  \\r\\n\\t\\t\\t\\t \\r\\n\\t\\t\\t\\t\\tClub ID: 21063\\n \\r...  Central California Zone  "
      ]
     },
     "execution_count": 4,
     "metadata": {},
     "output_type": "execute_result"
    }
   ],
   "source": [
    "clubs.head()"
   ]
  },
  {
   "cell_type": "code",
   "execution_count": 5,
   "metadata": {},
   "outputs": [
    {
     "data": {
      "text/html": [
       "<div>\n",
       "<style scoped>\n",
       "    .dataframe tbody tr th:only-of-type {\n",
       "        vertical-align: middle;\n",
       "    }\n",
       "\n",
       "    .dataframe tbody tr th {\n",
       "        vertical-align: top;\n",
       "    }\n",
       "\n",
       "    .dataframe thead th {\n",
       "        text-align: right;\n",
       "    }\n",
       "</style>\n",
       "<table border=\"1\" class=\"dataframe\">\n",
       "  <thead>\n",
       "    <tr style=\"text-align: right;\">\n",
       "      <th></th>\n",
       "      <th>Finish</th>\n",
       "      <th>Team</th>\n",
       "      <th>Age</th>\n",
       "      <th>Sex</th>\n",
       "      <th>Year</th>\n",
       "    </tr>\n",
       "  </thead>\n",
       "  <tbody>\n",
       "    <tr>\n",
       "      <th>0</th>\n",
       "      <td>1</td>\n",
       "      <td>LAGUNA BEACH WATER POLO</td>\n",
       "      <td>10</td>\n",
       "      <td>Girls</td>\n",
       "      <td>2016</td>\n",
       "    </tr>\n",
       "    <tr>\n",
       "      <th>1</th>\n",
       "      <td>1</td>\n",
       "      <td>VANGUARD AQUATICS</td>\n",
       "      <td>12</td>\n",
       "      <td>Boys</td>\n",
       "      <td>2016</td>\n",
       "    </tr>\n",
       "    <tr>\n",
       "      <th>2</th>\n",
       "      <td>1</td>\n",
       "      <td>LOS ANGELES PREMIER</td>\n",
       "      <td>14</td>\n",
       "      <td>Boys</td>\n",
       "      <td>2016</td>\n",
       "    </tr>\n",
       "    <tr>\n",
       "      <th>3</th>\n",
       "      <td>1</td>\n",
       "      <td>STANFORD WATER POLO FOUNDATION</td>\n",
       "      <td>16</td>\n",
       "      <td>Boys</td>\n",
       "      <td>2016</td>\n",
       "    </tr>\n",
       "    <tr>\n",
       "      <th>4</th>\n",
       "      <td>1</td>\n",
       "      <td>REGENCY WATER POLO CLUB</td>\n",
       "      <td>18</td>\n",
       "      <td>Boys</td>\n",
       "      <td>2016</td>\n",
       "    </tr>\n",
       "  </tbody>\n",
       "</table>\n",
       "</div>"
      ],
      "text/plain": [
       "   Finish                            Team  Age    Sex  Year\n",
       "0       1         LAGUNA BEACH WATER POLO   10  Girls  2016\n",
       "1       1               VANGUARD AQUATICS   12   Boys  2016\n",
       "2       1             LOS ANGELES PREMIER   14   Boys  2016\n",
       "3       1  STANFORD WATER POLO FOUNDATION   16   Boys  2016\n",
       "4       1         REGENCY WATER POLO CLUB   18   Boys  2016"
      ]
     },
     "execution_count": 5,
     "metadata": {},
     "output_type": "execute_result"
    }
   ],
   "source": [
    "rankings.head()"
   ]
  },
  {
   "cell_type": "markdown",
   "metadata": {},
   "source": [
    "## Cleaning club data"
   ]
  },
  {
   "cell_type": "code",
   "execution_count": 6,
   "metadata": {},
   "outputs": [
    {
     "data": {
      "text/html": [
       "<div>\n",
       "<style scoped>\n",
       "    .dataframe tbody tr th:only-of-type {\n",
       "        vertical-align: middle;\n",
       "    }\n",
       "\n",
       "    .dataframe tbody tr th {\n",
       "        vertical-align: top;\n",
       "    }\n",
       "\n",
       "    .dataframe thead th {\n",
       "        text-align: right;\n",
       "    }\n",
       "</style>\n",
       "<table border=\"1\" class=\"dataframe\">\n",
       "  <thead>\n",
       "    <tr style=\"text-align: right;\">\n",
       "      <th></th>\n",
       "      <th>club_name</th>\n",
       "      <th>club_loc</th>\n",
       "      <th>club_id</th>\n",
       "      <th>club_zone</th>\n",
       "    </tr>\n",
       "  </thead>\n",
       "  <tbody>\n",
       "    <tr>\n",
       "      <th>117</th>\n",
       "      <td>Test Club 4</td>\n",
       "      <td>Primary Pool:\\r\\n\\t\\t\\t\\tCitrus College\\r\\n\\t\\...</td>\n",
       "      <td>\\r\\n\\t\\t\\t\\t \\r\\n\\t\\t\\t\\t\\tClub ID: 34056\\n \\r...</td>\n",
       "      <td>Coastal California Zone</td>\n",
       "    </tr>\n",
       "    <tr>\n",
       "      <th>242</th>\n",
       "      <td>Test Club 3</td>\n",
       "      <td>Primary Pool:\\r\\n\\t\\t\\t\\tMountain View High Sc...</td>\n",
       "      <td>\\r\\n\\t\\t\\t\\t \\r\\n\\t\\t\\t\\t\\tClub ID: 17901\\n \\r...</td>\n",
       "      <td>Northeast Zone</td>\n",
       "    </tr>\n",
       "    <tr>\n",
       "      <th>330</th>\n",
       "      <td>Test Club 3</td>\n",
       "      <td>Primary Pool:\\r\\n\\t\\t\\t\\tMountain View High Sc...</td>\n",
       "      <td>\\r\\n\\t\\t\\t\\t \\r\\n\\t\\t\\t\\t\\tClub ID: 34435\\n \\r...</td>\n",
       "      <td>Pacific Southwest Zone</td>\n",
       "    </tr>\n",
       "    <tr>\n",
       "      <th>331</th>\n",
       "      <td>Test Club 3</td>\n",
       "      <td>Primary Pool:\\r\\n\\t\\t\\t\\tMountain View High Sc...</td>\n",
       "      <td>\\r\\n\\t\\t\\t\\t \\r\\n\\t\\t\\t\\t\\tClub ID: 34434\\n \\r...</td>\n",
       "      <td>Pacific Southwest Zone</td>\n",
       "    </tr>\n",
       "    <tr>\n",
       "      <th>504</th>\n",
       "      <td>testingclub22</td>\n",
       "      <td>Primary Pool:\\r\\n\\t\\t\\t\\tTBD\\r\\n\\t\\t\\t\\tPacifi...</td>\n",
       "      <td>\\r\\n\\t\\t\\t\\t \\r\\n\\t\\t\\t\\t\\tClub ID: 34313\\n \\r...</td>\n",
       "      <td>Southern Pacific Zone</td>\n",
       "    </tr>\n",
       "  </tbody>\n",
       "</table>\n",
       "</div>"
      ],
      "text/plain": [
       "          club_name                                           club_loc  \\\n",
       "117     Test Club 4  Primary Pool:\\r\\n\\t\\t\\t\\tCitrus College\\r\\n\\t\\...   \n",
       "242     Test Club 3  Primary Pool:\\r\\n\\t\\t\\t\\tMountain View High Sc...   \n",
       "330     Test Club 3  Primary Pool:\\r\\n\\t\\t\\t\\tMountain View High Sc...   \n",
       "331     Test Club 3  Primary Pool:\\r\\n\\t\\t\\t\\tMountain View High Sc...   \n",
       "504   testingclub22  Primary Pool:\\r\\n\\t\\t\\t\\tTBD\\r\\n\\t\\t\\t\\tPacifi...   \n",
       "\n",
       "                                               club_id  \\\n",
       "117  \\r\\n\\t\\t\\t\\t \\r\\n\\t\\t\\t\\t\\tClub ID: 34056\\n \\r...   \n",
       "242  \\r\\n\\t\\t\\t\\t \\r\\n\\t\\t\\t\\t\\tClub ID: 17901\\n \\r...   \n",
       "330  \\r\\n\\t\\t\\t\\t \\r\\n\\t\\t\\t\\t\\tClub ID: 34435\\n \\r...   \n",
       "331  \\r\\n\\t\\t\\t\\t \\r\\n\\t\\t\\t\\t\\tClub ID: 34434\\n \\r...   \n",
       "504  \\r\\n\\t\\t\\t\\t \\r\\n\\t\\t\\t\\t\\tClub ID: 34313\\n \\r...   \n",
       "\n",
       "                   club_zone  \n",
       "117  Coastal California Zone  \n",
       "242           Northeast Zone  \n",
       "330   Pacific Southwest Zone  \n",
       "331   Pacific Southwest Zone  \n",
       "504    Southern Pacific Zone  "
      ]
     },
     "execution_count": 6,
     "metadata": {},
     "output_type": "execute_result"
    }
   ],
   "source": [
    "clubs[clubs['club_name'].str.contains('Test', flags=re.I)]"
   ]
  },
  {
   "cell_type": "code",
   "execution_count": 7,
   "metadata": {},
   "outputs": [],
   "source": [
    "clubs = clubs[~clubs['club_name'].str.contains('Test', flags=re.I)].copy()"
   ]
  },
  {
   "cell_type": "code",
   "execution_count": 8,
   "metadata": {},
   "outputs": [],
   "source": [
    "clubs['club_id'] = clubs['club_id'].str.replace('Club ID:','').str.strip()\n",
    "clubs['club_id'] = clubs['club_id'].str.replace('\\r','').str.strip()\n",
    "clubs['club_id'] = clubs['club_id'].str.replace('\\n','').str.strip()\n",
    "clubs['club_id'] = clubs['club_id'].str.replace('\\t','').str.strip()\n",
    "clubs.replace(u'\\xa0',u'', regex=True, inplace=True)\n",
    "clubs.replace(u'\\r',u'', regex=True, inplace=True)\n",
    "clubs.replace(u'\\n',u'', regex=True, inplace=True)"
   ]
  },
  {
   "cell_type": "code",
   "execution_count": 9,
   "metadata": {},
   "outputs": [
    {
     "data": {
      "text/html": [
       "<div>\n",
       "<style scoped>\n",
       "    .dataframe tbody tr th:only-of-type {\n",
       "        vertical-align: middle;\n",
       "    }\n",
       "\n",
       "    .dataframe tbody tr th {\n",
       "        vertical-align: top;\n",
       "    }\n",
       "\n",
       "    .dataframe thead th {\n",
       "        text-align: right;\n",
       "    }\n",
       "</style>\n",
       "<table border=\"1\" class=\"dataframe\">\n",
       "  <thead>\n",
       "    <tr style=\"text-align: right;\">\n",
       "      <th></th>\n",
       "      <th>club_name</th>\n",
       "      <th>club_loc</th>\n",
       "      <th>club_id</th>\n",
       "      <th>club_zone</th>\n",
       "    </tr>\n",
       "  </thead>\n",
       "  <tbody>\n",
       "    <tr>\n",
       "      <th>231</th>\n",
       "      <td>Navy Aquatic Club</td>\n",
       "      <td>Primary Pool:\\t\\t\\t\\tNaval Academy-Scott Nat\\t...</td>\n",
       "      <td>200</td>\n",
       "      <td>Northeast Zone</td>\n",
       "    </tr>\n",
       "  </tbody>\n",
       "</table>\n",
       "</div>"
      ],
      "text/plain": [
       "              club_name                                           club_loc  \\\n",
       "231   Navy Aquatic Club  Primary Pool:\\t\\t\\t\\tNaval Academy-Scott Nat\\t...   \n",
       "\n",
       "    club_id       club_zone  \n",
       "231     200  Northeast Zone  "
      ]
     },
     "execution_count": 9,
     "metadata": {},
     "output_type": "execute_result"
    }
   ],
   "source": [
    "clubs[clubs['club_name'].str.contains('Navy')]"
   ]
  },
  {
   "cell_type": "code",
   "execution_count": 10,
   "metadata": {},
   "outputs": [],
   "source": [
    "clubs['og_loc'] = clubs['club_loc']\n",
    "clubs['pool_name'] = clubs['club_loc'].str.split('\\t\\t\\t\\t', ).str.get(1)"
   ]
  },
  {
   "cell_type": "code",
   "execution_count": 11,
   "metadata": {},
   "outputs": [],
   "source": [
    "clubs['club_loc'] = clubs['club_loc'].str.split('\\t\\t\\t\\t', ).str.get(2)"
   ]
  },
  {
   "cell_type": "code",
   "execution_count": 12,
   "metadata": {},
   "outputs": [],
   "source": [
    "clubs['club_loc'] = clubs['club_loc'].str.replace('(\\d+St)', lambda m: m.group(1).lower())\n",
    "clubs['club_loc'] = clubs['club_loc'].str.replace('(\\d+Nd)', lambda m: m.group(1).lower())\n",
    "clubs['club_loc'] = clubs['club_loc'].str.replace('(\\d+Rd)', lambda m: m.group(1).lower())\n",
    "clubs['club_loc'] = clubs['club_loc'].str.replace('(\\d+Th)', lambda m: m.group(1).lower())\n",
    "\n",
    "clubs['club_loc'] = clubs['club_loc'].str.replace('M/S NG27', '')\n",
    "clubs['club_loc'] = clubs['club_loc'].str.replace('.', '')\n",
    "clubs['club_loc'] = clubs['club_loc'].str.replace(' ,', ',')\n",
    "clubs['club_loc'] = clubs['club_loc'].str.replace('\\([\\w\\s]+\\)', '')\n",
    "\n",
    "clubs['club_loc'] = clubs['club_loc'].str.replace('Dr, ', 'Dr')\n",
    "clubs['club_loc'] = clubs['club_loc'].str.replace('DR', 'Dr')\n",
    "clubs['club_loc'] = clubs['club_loc'].str.replace('RD', 'Rd')\n",
    "clubs['club_loc'] = clubs['club_loc'].str.replace('Blvd ', 'Blvd')\n",
    "clubs['club_loc'] = clubs['club_loc'].str.replace('Rd ', 'Rd')\n",
    "clubs['club_loc'] = clubs['club_loc'].str.replace('RdSw', 'Rd Sw')\n",
    "clubs['club_loc'] = clubs['club_loc'].str.replace('BlvdSw', 'Blvd Sw')\n",
    "clubs['club_loc'] = clubs['club_loc'].str.replace('Dr ', 'Dr')\n",
    "clubs['club_loc'] = clubs['club_loc'].str.replace('St, ', 'St')\n",
    "clubs['club_loc'] = clubs['club_loc'].str.replace('St ', 'St')\n",
    "clubs['club_loc'] = clubs['club_loc'].str.replace('StW', 'St W')\n",
    "clubs['club_loc'] = clubs['club_loc'].str.replace('St Wi', 'StWi')\n",
    "clubs['club_loc'] = clubs['club_loc'].str.replace('Lincoln ', 'Lincoln')\n",
    "clubs['club_loc'] = clubs['club_loc'].str.replace('OPlaine ', 'Oplaine')\n",
    "clubs['club_loc'] = clubs['club_loc'].str.replace('SMain St Walnut', 'S Main StWalnut')\n",
    "clubs['club_loc'] = clubs['club_loc'].str.replace('MacDonough Hall', '121 Blake Rd')\n",
    "\n",
    "clubs['club_loc'] = clubs['club_loc'].str.replace('PO', 'Po')\n",
    "clubs['club_loc'] = clubs['club_loc'].str.replace('US', 'Us')\n",
    "clubs['club_loc'] = clubs['club_loc'].str.replace('NW', 'Nw')\n",
    "clubs['club_loc'] = clubs['club_loc'].str.replace('NE', 'Ne')\n",
    "clubs['club_loc'] = clubs['club_loc'].str.replace('SW', 'Sw')\n",
    "clubs['club_loc'] = clubs['club_loc'].str.replace('SE', 'Se')\n",
    "\n",
    "clubs['club_loc'] = clubs['club_loc'].str.replace('&', ' ')\n",
    "clubs['club_loc'] = clubs['club_loc'].str.replace('-', ' ')\n",
    "clubs['club_loc'] = clubs['club_loc'].str.replace('/', ' ')\n",
    "clubs['club_loc'] = clubs['club_loc'].str.replace('\\/', ' ')\n",
    "clubs['club_loc'] = clubs['club_loc'].str.replace(':', ' ')\n",
    "clubs['club_loc'] = clubs['club_loc'].str.replace('\\'', '')\n",
    "clubs['club_loc'] = clubs['club_loc'].str.replace('#', '')"
   ]
  },
  {
   "cell_type": "code",
   "execution_count": 13,
   "metadata": {},
   "outputs": [],
   "source": [
    "clubs['address'] = clubs['club_loc'].str.extract('(.+?)(?=\\B[A-Z,])')"
   ]
  },
  {
   "cell_type": "code",
   "execution_count": 14,
   "metadata": {},
   "outputs": [],
   "source": [
    "clubs['address'] = clubs['address'].str.replace('North East Corner Of The Palm Desert Civic Center', '43900 San Pablo Ave')"
   ]
  },
  {
   "cell_type": "code",
   "execution_count": 15,
   "metadata": {},
   "outputs": [],
   "source": [
    "clubs['club_loc'] = clubs['club_loc'].str.replace('ESeattle', 'eSeattle')\n",
    "clubs['club_loc'] = clubs['club_loc'].str.replace('ESeattle', 'eSeattle')\n",
    "clubs['club_loc'] = clubs['club_loc'].str.replace('NSeattle', 'nSeattle')\n",
    "clubs['club_loc'] = clubs['club_loc'].str.replace('ESalt', 'eSalt')\n",
    "clubs['club_loc'] = clubs['club_loc'].str.replace('2700 ESlc', 'eCottonwood Heights')\n",
    "clubs['club_loc'] = clubs['club_loc'].str.replace('WKearns', 'wKearns')\n",
    "clubs['club_loc'] = clubs['club_loc'].str.replace('WBountiful', 'wBountiful')\n",
    "clubs['club_loc'] = clubs['club_loc'].str.replace('WUniversity', 'wUniversity')\n",
    "clubs['club_loc'] = clubs['club_loc'].str.replace('McAlister', 'Mcalister')\n",
    "clubs['club_loc'] = clubs['club_loc'].str.replace('MacDonough', 'Macdonough')\n",
    "clubs['club_loc'] = clubs['club_loc'].str.replace('MacArthur', 'Macarthur')\n",
    "clubs['club_loc'] = clubs['club_loc'].str.replace('WayPo', 'Way Po')\n",
    "clubs['club_loc'] = clubs['club_loc'].str.replace('StLouis', 'St Louis')\n",
    "clubs['club_loc'] = clubs['club_loc'].str.replace('StGeorge', 'St George')\n",
    "clubs['club_loc'] = clubs['club_loc'].str.replace('StCharles', 'St Charles')\n",
    "clubs['club_loc'] = clubs['club_loc'].str.replace('StPeters', 'St Peters')\n",
    "clubs['club_loc'] = clubs['club_loc'].str.replace('thousand', 'Thousand')\n",
    "clubs['club_loc'] = clubs['club_loc'].str.replace('BlvdSw', 'Blvd Sw')"
   ]
  },
  {
   "cell_type": "code",
   "execution_count": 16,
   "metadata": {},
   "outputs": [],
   "source": [
    "clubs['state'] = clubs['club_loc'].str.extract('([A-Z]{2})')\n",
    "\n",
    "clubs['city'] = clubs['club_loc'].str.extract('[a-z0-9]([A-Z][a-z]+\\s*\\w*\\s*\\w*),')"
   ]
  },
  {
   "cell_type": "code",
   "execution_count": 17,
   "metadata": {},
   "outputs": [],
   "source": [
    "clubs.replace(u'\\t',u'', regex=True, inplace=True)\n",
    "clubs.replace(u'\\r',u'', regex=True, inplace=True)\n",
    "clubs.replace(u'\\n',u'', regex=True, inplace=True)"
   ]
  },
  {
   "cell_type": "code",
   "execution_count": 18,
   "metadata": {},
   "outputs": [],
   "source": [
    "clubs['city'] = clubs['city'].str.replace('NeSeattle', 'Seattle')\n",
    "clubs['city'] = clubs['city'].str.replace('Central High SchoolErie', 'Erie')\n",
    "clubs['state'] = clubs['state'].str.replace('OP', 'RD')"
   ]
  },
  {
   "cell_type": "code",
   "execution_count": 19,
   "metadata": {},
   "outputs": [],
   "source": [
    "clubs['zip'] = np.nan\n",
    "clubs['zip'] = clubs['club_loc'].str.extract('([0-9]{5})\\s?[0-9]*$')"
   ]
  },
  {
   "cell_type": "code",
   "execution_count": 20,
   "metadata": {},
   "outputs": [
    {
     "data": {
      "text/plain": [
       "'Primary Pool:Roosevelt High School1120 Nehoa StreetHonolulu, HI96822'"
      ]
     },
     "execution_count": 20,
     "metadata": {},
     "output_type": "execute_result"
    }
   ],
   "source": [
    "clubs.iloc[250, 4]"
   ]
  },
  {
   "cell_type": "code",
   "execution_count": 21,
   "metadata": {},
   "outputs": [
    {
     "data": {
      "text/html": [
       "<div>\n",
       "<style scoped>\n",
       "    .dataframe tbody tr th:only-of-type {\n",
       "        vertical-align: middle;\n",
       "    }\n",
       "\n",
       "    .dataframe tbody tr th {\n",
       "        vertical-align: top;\n",
       "    }\n",
       "\n",
       "    .dataframe thead th {\n",
       "        text-align: right;\n",
       "    }\n",
       "</style>\n",
       "<table border=\"1\" class=\"dataframe\">\n",
       "  <thead>\n",
       "    <tr style=\"text-align: right;\">\n",
       "      <th></th>\n",
       "      <th>club_name</th>\n",
       "      <th>club_loc</th>\n",
       "      <th>club_id</th>\n",
       "      <th>club_zone</th>\n",
       "      <th>og_loc</th>\n",
       "      <th>pool_name</th>\n",
       "      <th>address</th>\n",
       "      <th>state</th>\n",
       "      <th>city</th>\n",
       "      <th>zip</th>\n",
       "    </tr>\n",
       "  </thead>\n",
       "  <tbody>\n",
       "  </tbody>\n",
       "</table>\n",
       "</div>"
      ],
      "text/plain": [
       "Empty DataFrame\n",
       "Columns: [club_name, club_loc, club_id, club_zone, og_loc, pool_name, address, state, city, zip]\n",
       "Index: []"
      ]
     },
     "execution_count": 21,
     "metadata": {},
     "output_type": "execute_result"
    }
   ],
   "source": [
    "clubs[clubs['city'].str.contains('SwAlbany', na=False, flags=re.I)]"
   ]
  },
  {
   "cell_type": "code",
   "execution_count": 22,
   "metadata": {},
   "outputs": [
    {
     "data": {
      "text/html": [
       "<div>\n",
       "<style scoped>\n",
       "    .dataframe tbody tr th:only-of-type {\n",
       "        vertical-align: middle;\n",
       "    }\n",
       "\n",
       "    .dataframe tbody tr th {\n",
       "        vertical-align: top;\n",
       "    }\n",
       "\n",
       "    .dataframe thead th {\n",
       "        text-align: right;\n",
       "    }\n",
       "</style>\n",
       "<table border=\"1\" class=\"dataframe\">\n",
       "  <thead>\n",
       "    <tr style=\"text-align: right;\">\n",
       "      <th></th>\n",
       "      <th>club_name</th>\n",
       "      <th>club_loc</th>\n",
       "      <th>club_id</th>\n",
       "      <th>club_zone</th>\n",
       "      <th>og_loc</th>\n",
       "      <th>pool_name</th>\n",
       "      <th>address</th>\n",
       "      <th>state</th>\n",
       "      <th>city</th>\n",
       "      <th>zip</th>\n",
       "    </tr>\n",
       "  </thead>\n",
       "  <tbody>\n",
       "    <tr>\n",
       "      <th>131</th>\n",
       "      <td>Calgary Masters</td>\n",
       "      <td>NaN</td>\n",
       "      <td>19401</td>\n",
       "      <td>International Zone</td>\n",
       "      <td>Unknown</td>\n",
       "      <td>NaN</td>\n",
       "      <td>NaN</td>\n",
       "      <td>NaN</td>\n",
       "      <td>NaN</td>\n",
       "      <td>NaN</td>\n",
       "    </tr>\n",
       "    <tr>\n",
       "      <th>132</th>\n",
       "      <td>Calgary Polo Splash</td>\n",
       "      <td>NaN</td>\n",
       "      <td>17376</td>\n",
       "      <td>International Zone</td>\n",
       "      <td>Unknown</td>\n",
       "      <td>NaN</td>\n",
       "      <td>NaN</td>\n",
       "      <td>NaN</td>\n",
       "      <td>NaN</td>\n",
       "      <td>NaN</td>\n",
       "    </tr>\n",
       "    <tr>\n",
       "      <th>212</th>\n",
       "      <td>Barcelona International Water Polo Association</td>\n",
       "      <td>NaN</td>\n",
       "      <td>34590</td>\n",
       "      <td>Northeast Zone</td>\n",
       "      <td>Unknown</td>\n",
       "      <td>NaN</td>\n",
       "      <td>NaN</td>\n",
       "      <td>NaN</td>\n",
       "      <td>NaN</td>\n",
       "      <td>NaN</td>\n",
       "    </tr>\n",
       "    <tr>\n",
       "      <th>394</th>\n",
       "      <td>Soda Moms</td>\n",
       "      <td>NaN</td>\n",
       "      <td>34704</td>\n",
       "      <td>Pacific Zone</td>\n",
       "      <td>Unknown</td>\n",
       "      <td>NaN</td>\n",
       "      <td>NaN</td>\n",
       "      <td>NaN</td>\n",
       "      <td>NaN</td>\n",
       "      <td>NaN</td>\n",
       "    </tr>\n",
       "  </tbody>\n",
       "</table>\n",
       "</div>"
      ],
      "text/plain": [
       "                                           club_name club_loc club_id  \\\n",
       "131                                  Calgary Masters      NaN   19401   \n",
       "132                              Calgary Polo Splash      NaN   17376   \n",
       "212   Barcelona International Water Polo Association      NaN   34590   \n",
       "394                                        Soda Moms      NaN   34704   \n",
       "\n",
       "              club_zone   og_loc pool_name address state city  zip  \n",
       "131  International Zone  Unknown       NaN     NaN   NaN  NaN  NaN  \n",
       "132  International Zone  Unknown       NaN     NaN   NaN  NaN  NaN  \n",
       "212      Northeast Zone  Unknown       NaN     NaN   NaN  NaN  NaN  \n",
       "394        Pacific Zone  Unknown       NaN     NaN   NaN  NaN  NaN  "
      ]
     },
     "execution_count": 22,
     "metadata": {},
     "output_type": "execute_result"
    }
   ],
   "source": [
    "clubs[clubs['city'].isnull()]"
   ]
  },
  {
   "cell_type": "code",
   "execution_count": 23,
   "metadata": {},
   "outputs": [],
   "source": [
    "clubs = clubs.drop(['club_loc'], axis=1)"
   ]
  },
  {
   "cell_type": "code",
   "execution_count": 24,
   "metadata": {},
   "outputs": [],
   "source": [
    "clubs.loc[clubs['address'] == '1800 Buhach Road', 'zip'] = '95301'"
   ]
  },
  {
   "cell_type": "code",
   "execution_count": 25,
   "metadata": {},
   "outputs": [],
   "source": [
    "clubs['loc'] = clubs['address'] + \", \" + clubs['city'] + \", \" + clubs['state'] + \" \" + clubs['zip']"
   ]
  },
  {
   "cell_type": "code",
   "execution_count": 26,
   "metadata": {},
   "outputs": [
    {
     "data": {
      "text/plain": [
       "(535, 10)"
      ]
     },
     "execution_count": 26,
     "metadata": {},
     "output_type": "execute_result"
    }
   ],
   "source": [
    "clubs.shape"
   ]
  },
  {
   "cell_type": "code",
   "execution_count": 27,
   "metadata": {},
   "outputs": [
    {
     "data": {
      "text/html": [
       "<div>\n",
       "<style scoped>\n",
       "    .dataframe tbody tr th:only-of-type {\n",
       "        vertical-align: middle;\n",
       "    }\n",
       "\n",
       "    .dataframe tbody tr th {\n",
       "        vertical-align: top;\n",
       "    }\n",
       "\n",
       "    .dataframe thead th {\n",
       "        text-align: right;\n",
       "    }\n",
       "</style>\n",
       "<table border=\"1\" class=\"dataframe\">\n",
       "  <thead>\n",
       "    <tr style=\"text-align: right;\">\n",
       "      <th></th>\n",
       "      <th>club_name</th>\n",
       "      <th>club_id</th>\n",
       "      <th>club_zone</th>\n",
       "      <th>og_loc</th>\n",
       "      <th>pool_name</th>\n",
       "      <th>address</th>\n",
       "      <th>state</th>\n",
       "      <th>city</th>\n",
       "      <th>zip</th>\n",
       "      <th>loc</th>\n",
       "    </tr>\n",
       "  </thead>\n",
       "  <tbody>\n",
       "    <tr>\n",
       "      <th>131</th>\n",
       "      <td>Calgary Masters</td>\n",
       "      <td>19401</td>\n",
       "      <td>International Zone</td>\n",
       "      <td>Unknown</td>\n",
       "      <td>NaN</td>\n",
       "      <td>NaN</td>\n",
       "      <td>NaN</td>\n",
       "      <td>NaN</td>\n",
       "      <td>NaN</td>\n",
       "      <td>NaN</td>\n",
       "    </tr>\n",
       "    <tr>\n",
       "      <th>132</th>\n",
       "      <td>Calgary Polo Splash</td>\n",
       "      <td>17376</td>\n",
       "      <td>International Zone</td>\n",
       "      <td>Unknown</td>\n",
       "      <td>NaN</td>\n",
       "      <td>NaN</td>\n",
       "      <td>NaN</td>\n",
       "      <td>NaN</td>\n",
       "      <td>NaN</td>\n",
       "      <td>NaN</td>\n",
       "    </tr>\n",
       "    <tr>\n",
       "      <th>212</th>\n",
       "      <td>Barcelona International Water Polo Association</td>\n",
       "      <td>34590</td>\n",
       "      <td>Northeast Zone</td>\n",
       "      <td>Unknown</td>\n",
       "      <td>NaN</td>\n",
       "      <td>NaN</td>\n",
       "      <td>NaN</td>\n",
       "      <td>NaN</td>\n",
       "      <td>NaN</td>\n",
       "      <td>NaN</td>\n",
       "    </tr>\n",
       "    <tr>\n",
       "      <th>394</th>\n",
       "      <td>Soda Moms</td>\n",
       "      <td>34704</td>\n",
       "      <td>Pacific Zone</td>\n",
       "      <td>Unknown</td>\n",
       "      <td>NaN</td>\n",
       "      <td>NaN</td>\n",
       "      <td>NaN</td>\n",
       "      <td>NaN</td>\n",
       "      <td>NaN</td>\n",
       "      <td>NaN</td>\n",
       "    </tr>\n",
       "  </tbody>\n",
       "</table>\n",
       "</div>"
      ],
      "text/plain": [
       "                                           club_name club_id  \\\n",
       "131                                  Calgary Masters   19401   \n",
       "132                              Calgary Polo Splash   17376   \n",
       "212   Barcelona International Water Polo Association   34590   \n",
       "394                                        Soda Moms   34704   \n",
       "\n",
       "              club_zone   og_loc pool_name address state city  zip  loc  \n",
       "131  International Zone  Unknown       NaN     NaN   NaN  NaN  NaN  NaN  \n",
       "132  International Zone  Unknown       NaN     NaN   NaN  NaN  NaN  NaN  \n",
       "212      Northeast Zone  Unknown       NaN     NaN   NaN  NaN  NaN  NaN  \n",
       "394        Pacific Zone  Unknown       NaN     NaN   NaN  NaN  NaN  NaN  "
      ]
     },
     "execution_count": 27,
     "metadata": {},
     "output_type": "execute_result"
    }
   ],
   "source": [
    "clubs[clubs['loc'].isnull()]"
   ]
  },
  {
   "cell_type": "code",
   "execution_count": 28,
   "metadata": {},
   "outputs": [],
   "source": [
    "clubs = clubs.fillna('Unknown')"
   ]
  },
  {
   "cell_type": "code",
   "execution_count": 29,
   "metadata": {},
   "outputs": [],
   "source": [
    "clubs['club_name'] = clubs['club_name'].str.replace(',', '').str.strip()\n",
    "clubs['club_name'] = clubs['club_name'].str.replace('.', '').str.strip()\n",
    "clubs['club_name'] = clubs['club_name'].str.replace(')', '').str.strip()\n",
    "clubs['club_name'] = clubs['club_name'].str.replace('(', '').str.strip()\n",
    "\n",
    "clubs['club_name'] = clubs['club_name'].str.lstrip()\n",
    "clubs['club_name'] = clubs['club_name'].str.upper().str.strip()"
   ]
  },
  {
   "cell_type": "code",
   "execution_count": 30,
   "metadata": {},
   "outputs": [],
   "source": [
    "remove_wp = ['AQUATICS', 'AQUATIC', 'WATER POLO', 'CLUB', 'FEDERATION', 'TEAM', 'WP', 'WPC', 'WATERPOLO', 'POLO', 'POL', 'AQ', 'SUMMER', \n",
    "           'ORGANIZATION', 'ACADEMY', 'ORG', 'SWIM', 'AC', 'INC', 'FOUNDATION']\n",
    "pat_wp = r'\\b(?:{})\\b'.format('|'.join(remove_wp))\n",
    "clubs['club_short'] = clubs['club_name'].str.replace(pat_wp, '').str.strip()"
   ]
  },
  {
   "cell_type": "code",
   "execution_count": 31,
   "metadata": {},
   "outputs": [],
   "source": [
    "clubs.loc[clubs['club_name'].str.contains('ACADEMY WATER POLO'), 'club_short'] = 'ACADEMY'\n",
    "clubs.loc[clubs['club_name'] == 'EAST', 'club_short'] = 'EAST'\n",
    "clubs['club_short'] = clubs['club_short'].replace('\\s+', ' ', regex=True)"
   ]
  },
  {
   "cell_type": "code",
   "execution_count": 32,
   "metadata": {},
   "outputs": [
    {
     "data": {
      "text/html": [
       "<div>\n",
       "<style scoped>\n",
       "    .dataframe tbody tr th:only-of-type {\n",
       "        vertical-align: middle;\n",
       "    }\n",
       "\n",
       "    .dataframe tbody tr th {\n",
       "        vertical-align: top;\n",
       "    }\n",
       "\n",
       "    .dataframe thead th {\n",
       "        text-align: right;\n",
       "    }\n",
       "</style>\n",
       "<table border=\"1\" class=\"dataframe\">\n",
       "  <thead>\n",
       "    <tr style=\"text-align: right;\">\n",
       "      <th></th>\n",
       "      <th>club_name</th>\n",
       "      <th>club_id</th>\n",
       "      <th>club_zone</th>\n",
       "      <th>og_loc</th>\n",
       "      <th>pool_name</th>\n",
       "      <th>address</th>\n",
       "      <th>state</th>\n",
       "      <th>city</th>\n",
       "      <th>zip</th>\n",
       "      <th>loc</th>\n",
       "      <th>club_short</th>\n",
       "    </tr>\n",
       "  </thead>\n",
       "  <tbody>\n",
       "    <tr>\n",
       "      <th>0</th>\n",
       "      <td>209 WATER POLO CLUB</td>\n",
       "      <td>31318</td>\n",
       "      <td>Central California Zone</td>\n",
       "      <td>Primary Pool:Buhach Colony High School1800 Buh...</td>\n",
       "      <td>Buhach Colony High School</td>\n",
       "      <td>1800 Buhach Road</td>\n",
       "      <td>CA</td>\n",
       "      <td>Atwater</td>\n",
       "      <td>95301</td>\n",
       "      <td>1800 Buhach Road, Atwater, CA 95301</td>\n",
       "      <td>209</td>\n",
       "    </tr>\n",
       "    <tr>\n",
       "      <th>1</th>\n",
       "      <td>A-TOWN WATER POLO CLUB</td>\n",
       "      <td>30234</td>\n",
       "      <td>Central California Zone</td>\n",
       "      <td>Primary Pool:Atascadero High School1 High Scho...</td>\n",
       "      <td>Atascadero High School</td>\n",
       "      <td>1 High School Hill</td>\n",
       "      <td>CA</td>\n",
       "      <td>Atascadero</td>\n",
       "      <td>93422</td>\n",
       "      <td>1 High School Hill, Atascadero, CA 93422</td>\n",
       "      <td>A-TOWN</td>\n",
       "    </tr>\n",
       "    <tr>\n",
       "      <th>2</th>\n",
       "      <td>ALUMNI WATER POLO CLUB</td>\n",
       "      <td>23883</td>\n",
       "      <td>Central California Zone</td>\n",
       "      <td>Primary Pool:Granite Bay High School Pool1 Gri...</td>\n",
       "      <td>Granite Bay High School Pool</td>\n",
       "      <td>1 Grizzly Way</td>\n",
       "      <td>CA</td>\n",
       "      <td>Granite Bay</td>\n",
       "      <td>95746</td>\n",
       "      <td>1 Grizzly Way, Granite Bay, CA 95746</td>\n",
       "      <td>ALUMNI</td>\n",
       "    </tr>\n",
       "    <tr>\n",
       "      <th>3</th>\n",
       "      <td>AMERICAN RIVER WATER POLO CLUB</td>\n",
       "      <td>85</td>\n",
       "      <td>Central California Zone</td>\n",
       "      <td>Primary Pool:Rio Americano High School4540 Ame...</td>\n",
       "      <td>Rio Americano High School</td>\n",
       "      <td>4540 American River Dr</td>\n",
       "      <td>CA</td>\n",
       "      <td>Sacramento</td>\n",
       "      <td>95864</td>\n",
       "      <td>4540 American River Dr, Sacramento, CA 95864</td>\n",
       "      <td>AMERICAN RIVER</td>\n",
       "    </tr>\n",
       "    <tr>\n",
       "      <th>4</th>\n",
       "      <td>ARROYO GRANDE WATER POLO</td>\n",
       "      <td>21063</td>\n",
       "      <td>Central California Zone</td>\n",
       "      <td>Primary Pool:Arroyo Grande High School495 Vall...</td>\n",
       "      <td>Arroyo Grande High School</td>\n",
       "      <td>495 Valley Rd</td>\n",
       "      <td>CA</td>\n",
       "      <td>Arroyo Grande</td>\n",
       "      <td>93420</td>\n",
       "      <td>495 Valley Rd, Arroyo Grande, CA 93420</td>\n",
       "      <td>ARROYO GRANDE</td>\n",
       "    </tr>\n",
       "  </tbody>\n",
       "</table>\n",
       "</div>"
      ],
      "text/plain": [
       "                        club_name club_id                club_zone  \\\n",
       "0             209 WATER POLO CLUB   31318  Central California Zone   \n",
       "1          A-TOWN WATER POLO CLUB   30234  Central California Zone   \n",
       "2          ALUMNI WATER POLO CLUB   23883  Central California Zone   \n",
       "3  AMERICAN RIVER WATER POLO CLUB      85  Central California Zone   \n",
       "4        ARROYO GRANDE WATER POLO   21063  Central California Zone   \n",
       "\n",
       "                                              og_loc  \\\n",
       "0  Primary Pool:Buhach Colony High School1800 Buh...   \n",
       "1  Primary Pool:Atascadero High School1 High Scho...   \n",
       "2  Primary Pool:Granite Bay High School Pool1 Gri...   \n",
       "3  Primary Pool:Rio Americano High School4540 Ame...   \n",
       "4  Primary Pool:Arroyo Grande High School495 Vall...   \n",
       "\n",
       "                      pool_name                 address state           city  \\\n",
       "0     Buhach Colony High School        1800 Buhach Road    CA        Atwater   \n",
       "1        Atascadero High School      1 High School Hill    CA     Atascadero   \n",
       "2  Granite Bay High School Pool           1 Grizzly Way    CA    Granite Bay   \n",
       "3     Rio Americano High School  4540 American River Dr    CA     Sacramento   \n",
       "4     Arroyo Grande High School           495 Valley Rd    CA  Arroyo Grande   \n",
       "\n",
       "     zip                                           loc      club_short  \n",
       "0  95301           1800 Buhach Road, Atwater, CA 95301             209  \n",
       "1  93422      1 High School Hill, Atascadero, CA 93422          A-TOWN  \n",
       "2  95746          1 Grizzly Way, Granite Bay, CA 95746          ALUMNI  \n",
       "3  95864  4540 American River Dr, Sacramento, CA 95864  AMERICAN RIVER  \n",
       "4  93420        495 Valley Rd, Arroyo Grande, CA 93420   ARROYO GRANDE  "
      ]
     },
     "execution_count": 32,
     "metadata": {},
     "output_type": "execute_result"
    }
   ],
   "source": [
    "clubs.head()"
   ]
  },
  {
   "cell_type": "code",
   "execution_count": 33,
   "metadata": {},
   "outputs": [
    {
     "data": {
      "text/html": [
       "<div>\n",
       "<style scoped>\n",
       "    .dataframe tbody tr th:only-of-type {\n",
       "        vertical-align: middle;\n",
       "    }\n",
       "\n",
       "    .dataframe tbody tr th {\n",
       "        vertical-align: top;\n",
       "    }\n",
       "\n",
       "    .dataframe thead th {\n",
       "        text-align: right;\n",
       "    }\n",
       "</style>\n",
       "<table border=\"1\" class=\"dataframe\">\n",
       "  <thead>\n",
       "    <tr style=\"text-align: right;\">\n",
       "      <th></th>\n",
       "      <th>club_name</th>\n",
       "      <th>club_id</th>\n",
       "      <th>club_zone</th>\n",
       "      <th>og_loc</th>\n",
       "      <th>pool_name</th>\n",
       "      <th>address</th>\n",
       "      <th>state</th>\n",
       "      <th>city</th>\n",
       "      <th>zip</th>\n",
       "      <th>loc</th>\n",
       "      <th>club_short</th>\n",
       "    </tr>\n",
       "  </thead>\n",
       "  <tbody>\n",
       "  </tbody>\n",
       "</table>\n",
       "</div>"
      ],
      "text/plain": [
       "Empty DataFrame\n",
       "Columns: [club_name, club_id, club_zone, og_loc, pool_name, address, state, city, zip, loc, club_short]\n",
       "Index: []"
      ]
     },
     "execution_count": 33,
     "metadata": {},
     "output_type": "execute_result"
    }
   ],
   "source": [
    "clubs[clubs['club_short'].isnull()]"
   ]
  },
  {
   "cell_type": "code",
   "execution_count": 34,
   "metadata": {},
   "outputs": [],
   "source": [
    "clubs = clubs[clubs['club_name']!='BULLDOG WATER POLO CLUB']\n",
    "clubs = clubs[clubs['club_name']!='LONG BEACH WATER POLO CLUB']\n",
    "clubs = clubs[clubs['club_name']!='ORANGE COUNTY WATER POLO FOUNDATION']"
   ]
  },
  {
   "cell_type": "code",
   "execution_count": 35,
   "metadata": {},
   "outputs": [
    {
     "data": {
      "text/html": [
       "<div>\n",
       "<style scoped>\n",
       "    .dataframe tbody tr th:only-of-type {\n",
       "        vertical-align: middle;\n",
       "    }\n",
       "\n",
       "    .dataframe tbody tr th {\n",
       "        vertical-align: top;\n",
       "    }\n",
       "\n",
       "    .dataframe thead th {\n",
       "        text-align: right;\n",
       "    }\n",
       "</style>\n",
       "<table border=\"1\" class=\"dataframe\">\n",
       "  <thead>\n",
       "    <tr style=\"text-align: right;\">\n",
       "      <th></th>\n",
       "      <th>club_name</th>\n",
       "      <th>club_id</th>\n",
       "      <th>club_zone</th>\n",
       "      <th>og_loc</th>\n",
       "      <th>pool_name</th>\n",
       "      <th>address</th>\n",
       "      <th>state</th>\n",
       "      <th>city</th>\n",
       "      <th>zip</th>\n",
       "      <th>loc</th>\n",
       "      <th>club_short</th>\n",
       "    </tr>\n",
       "  </thead>\n",
       "  <tbody>\n",
       "  </tbody>\n",
       "</table>\n",
       "</div>"
      ],
      "text/plain": [
       "Empty DataFrame\n",
       "Columns: [club_name, club_id, club_zone, og_loc, pool_name, address, state, city, zip, loc, club_short]\n",
       "Index: []"
      ]
     },
     "execution_count": 35,
     "metadata": {},
     "output_type": "execute_result"
    }
   ],
   "source": [
    "clubs[clubs['club_short'].duplicated(keep=False)]"
   ]
  },
  {
   "cell_type": "markdown",
   "metadata": {},
   "source": [
    "## Cleaning ranking data"
   ]
  },
  {
   "cell_type": "code",
   "execution_count": 36,
   "metadata": {},
   "outputs": [],
   "source": [
    "rankings['Sex'] = rankings['Sex'].str.replace('Bcoys','Boys')\n",
    "rankings['Sex'] = rankings['Sex'].str.replace('ip','Boys')\n",
    "rankings['Sex'] = rankings['Sex'].fillna('Mixed')"
   ]
  },
  {
   "cell_type": "code",
   "execution_count": 37,
   "metadata": {},
   "outputs": [],
   "source": [
    "rankings['Team'] = rankings['Team'].str.strip(r'\\\\r')\n",
    "rankings['Team'] = rankings['Team'].str.replace('\\t\\r', '')\n",
    "rankings['Team'] = rankings['Team'].str.replace('\\r', ' ')"
   ]
  },
  {
   "cell_type": "code",
   "execution_count": 38,
   "metadata": {},
   "outputs": [],
   "source": [
    "rankings['og_name'] = rankings['Team']"
   ]
  },
  {
   "cell_type": "code",
   "execution_count": 39,
   "metadata": {},
   "outputs": [],
   "source": [
    "rankings['Squad'] = rankings['Team'].str.extract(r'\\b([A-F])\\b')\n",
    "rankings['Squad'] = rankings['Squad'].fillna('A')"
   ]
  },
  {
   "cell_type": "code",
   "execution_count": 40,
   "metadata": {},
   "outputs": [],
   "source": [
    "rankings['Team'] = rankings['Team'].str.replace('ORAGNE', 'ORANGE')"
   ]
  },
  {
   "cell_type": "code",
   "execution_count": 41,
   "metadata": {},
   "outputs": [],
   "source": [
    "remove_words = ['[0-9]{2}', '[UBG][0-9]{2}', '[0-9]{2}[UBGS]' '20[0-9]{2}' 'GIRL', 'BOY', 'COED',\n",
    "                'GIRLS', 'BOYS', 'COEDS', 'JO', 'JOQ', 'JOS', '[A-E]', '&', 'AND', 'UNDER', 'BLACK', 'GREEN', 'BLUE', \n",
    "                'BLU', 'RED', 'WHITE', 'YELLOW', 'PINK', 'MAROON', 'GOLD', 'SILVER', 'BRONZE', 'PURPLE', 'BLK', 'GREY', 'U', 'B', 'G',]\n",
    "\n",
    "pattern = r'\\b(?:{})\\b'.format('|'.join(remove_words))\n",
    "rankings['Team'] = rankings['Team'].str.replace(pattern, '')"
   ]
  },
  {
   "cell_type": "code",
   "execution_count": 42,
   "metadata": {},
   "outputs": [],
   "source": [
    "rankings['Team'] = rankings['Team'].str.replace('\\s+', ' ', regex=True)\n",
    "rankings['Team'] = rankings['Team'].str.replace(r'\\(TIED.+\\)', '')\n",
    "rankings['Team'] = rankings['Team'].str.replace(r'\\(TIED.+', '')\n",
    "rankings['Team'] = rankings['Team'].str.replace(r\"[\\\"\\'.,\\\\\\(\\)&/]\", '')\n",
    "rankings['Team'] = rankings['Team'].str.replace('\\t\\r', '')\n",
    "rankings['Team'] = rankings['Team'].str.replace('xad', '')\n",
    "rankings['Team'] = rankings['Team'].str.replace('\\\\xad', '')\n",
    "rankings['Team'] = rankings['Team'].str.replace('‐', '')\n",
    "rankings['Team'] = rankings['Team'].str.replace('-', '')\n",
    "rankings['Team'] = rankings['Team'].str.replace(r'[0-9]{2}[UBGS]', '')\n",
    "rankings['Team'] = rankings['Team'].str.replace(r'20[0-9]{2}', '')\n",
    "rankings['Team'] = rankings['Team'].str.replace('ORANGE COUNTY', 'ORANGECOUNTY')\n",
    "rankings['Team'] = rankings['Team'].str.replace(r'\\b(ORANGE)\\b', '')\n",
    "rankings['Team'] = rankings['Team'].str.replace('NORTHWOOD NAVY', 'NORTHWOOD')\n",
    "rankings['Team'] = rankings['Team'].str.replace('CHAWPWHITE', 'CHAWP')\n",
    "rankings['Team'] = rankings['Team'].str.replace('IRLS', '')\n",
    "rankings['Team'] = rankings['Team'].str.replace('\\s+', ' ', regex=True)\n",
    "rankings['Team'] = rankings['Team'].str.strip()"
   ]
  },
  {
   "cell_type": "code",
   "execution_count": 43,
   "metadata": {},
   "outputs": [],
   "source": [
    "rankings.loc[rankings['og_name'].str.contains('TIED'), 'Tie'] = 1\n",
    "rankings['Tie'] = rankings['Tie'].fillna(0)"
   ]
  },
  {
   "cell_type": "code",
   "execution_count": 44,
   "metadata": {},
   "outputs": [],
   "source": [
    "rankings.columns = ['finish', 'club_name', 'age', 'sex', 'year', 'og_name', 'squad', 'tie']"
   ]
  },
  {
   "cell_type": "code",
   "execution_count": 45,
   "metadata": {},
   "outputs": [],
   "source": [
    "rankings['club_short'] = rankings['club_name'].str.replace(pat_wp, '').str.strip()\n",
    "rankings.loc[rankings['club_name'].str.contains('ACADEMY WATER POLO'), 'club_short'] = 'ACADEMY'\n",
    "rankings.loc[rankings['club_name'] == 'EAST', 'club_short'] = 'EAST'\n",
    "rankings.loc[rankings['club_name'].str.contains('GOLD COAST'), 'club_short'] = 'GOLD COAST'\n",
    "rankings.loc[rankings['club_name'].str.contains('NWCWATER'), 'club_short'] = 'NWC'\n",
    "rankings.loc[rankings['club_name'].str.contains('CDM'), 'club_short'] = 'CDM'\n",
    "rankings['club_short'] = rankings['club_short'].str.lstrip()"
   ]
  },
  {
   "cell_type": "code",
   "execution_count": 46,
   "metadata": {},
   "outputs": [
    {
     "data": {
      "text/html": [
       "<div>\n",
       "<style scoped>\n",
       "    .dataframe tbody tr th:only-of-type {\n",
       "        vertical-align: middle;\n",
       "    }\n",
       "\n",
       "    .dataframe tbody tr th {\n",
       "        vertical-align: top;\n",
       "    }\n",
       "\n",
       "    .dataframe thead th {\n",
       "        text-align: right;\n",
       "    }\n",
       "</style>\n",
       "<table border=\"1\" class=\"dataframe\">\n",
       "  <thead>\n",
       "    <tr style=\"text-align: right;\">\n",
       "      <th></th>\n",
       "      <th>finish</th>\n",
       "      <th>club_name</th>\n",
       "      <th>age</th>\n",
       "      <th>sex</th>\n",
       "      <th>year</th>\n",
       "      <th>og_name</th>\n",
       "      <th>squad</th>\n",
       "      <th>tie</th>\n",
       "      <th>club_short</th>\n",
       "    </tr>\n",
       "  </thead>\n",
       "  <tbody>\n",
       "    <tr>\n",
       "      <th>0</th>\n",
       "      <td>1</td>\n",
       "      <td>LAGUNA BEACH WATER POLO</td>\n",
       "      <td>10</td>\n",
       "      <td>Girls</td>\n",
       "      <td>2016</td>\n",
       "      <td>LAGUNA BEACH WATER POLO</td>\n",
       "      <td>A</td>\n",
       "      <td>0.0</td>\n",
       "      <td>LAGUNA BEACH</td>\n",
       "    </tr>\n",
       "    <tr>\n",
       "      <th>1</th>\n",
       "      <td>1</td>\n",
       "      <td>VANGUARD AQUATICS</td>\n",
       "      <td>12</td>\n",
       "      <td>Boys</td>\n",
       "      <td>2016</td>\n",
       "      <td>VANGUARD AQUATICS</td>\n",
       "      <td>A</td>\n",
       "      <td>0.0</td>\n",
       "      <td>VANGUARD</td>\n",
       "    </tr>\n",
       "    <tr>\n",
       "      <th>2</th>\n",
       "      <td>1</td>\n",
       "      <td>LOS ANGELES PREMIER</td>\n",
       "      <td>14</td>\n",
       "      <td>Boys</td>\n",
       "      <td>2016</td>\n",
       "      <td>LOS ANGELES PREMIER</td>\n",
       "      <td>A</td>\n",
       "      <td>0.0</td>\n",
       "      <td>LOS ANGELES PREMIER</td>\n",
       "    </tr>\n",
       "    <tr>\n",
       "      <th>3</th>\n",
       "      <td>1</td>\n",
       "      <td>STANFORD WATER POLO FOUNDATION</td>\n",
       "      <td>16</td>\n",
       "      <td>Boys</td>\n",
       "      <td>2016</td>\n",
       "      <td>STANFORD WATER POLO FOUNDATION</td>\n",
       "      <td>A</td>\n",
       "      <td>0.0</td>\n",
       "      <td>STANFORD</td>\n",
       "    </tr>\n",
       "    <tr>\n",
       "      <th>4</th>\n",
       "      <td>1</td>\n",
       "      <td>REGENCY WATER POLO CLUB</td>\n",
       "      <td>18</td>\n",
       "      <td>Boys</td>\n",
       "      <td>2016</td>\n",
       "      <td>REGENCY WATER POLO CLUB</td>\n",
       "      <td>A</td>\n",
       "      <td>0.0</td>\n",
       "      <td>REGENCY</td>\n",
       "    </tr>\n",
       "  </tbody>\n",
       "</table>\n",
       "</div>"
      ],
      "text/plain": [
       "   finish                       club_name  age    sex  year  \\\n",
       "0       1         LAGUNA BEACH WATER POLO   10  Girls  2016   \n",
       "1       1               VANGUARD AQUATICS   12   Boys  2016   \n",
       "2       1             LOS ANGELES PREMIER   14   Boys  2016   \n",
       "3       1  STANFORD WATER POLO FOUNDATION   16   Boys  2016   \n",
       "4       1         REGENCY WATER POLO CLUB   18   Boys  2016   \n",
       "\n",
       "                          og_name squad  tie           club_short  \n",
       "0         LAGUNA BEACH WATER POLO     A  0.0         LAGUNA BEACH  \n",
       "1               VANGUARD AQUATICS     A  0.0             VANGUARD  \n",
       "2             LOS ANGELES PREMIER     A  0.0  LOS ANGELES PREMIER  \n",
       "3  STANFORD WATER POLO FOUNDATION     A  0.0             STANFORD  \n",
       "4         REGENCY WATER POLO CLUB     A  0.0              REGENCY  "
      ]
     },
     "execution_count": 46,
     "metadata": {},
     "output_type": "execute_result"
    }
   ],
   "source": [
    "rankings.head()"
   ]
  },
  {
   "cell_type": "markdown",
   "metadata": {},
   "source": [
    "## Matching club names"
   ]
  },
  {
   "cell_type": "code",
   "execution_count": 47,
   "metadata": {},
   "outputs": [
    {
     "data": {
      "text/html": [
       "<div>\n",
       "<style scoped>\n",
       "    .dataframe tbody tr th:only-of-type {\n",
       "        vertical-align: middle;\n",
       "    }\n",
       "\n",
       "    .dataframe tbody tr th {\n",
       "        vertical-align: top;\n",
       "    }\n",
       "\n",
       "    .dataframe thead th {\n",
       "        text-align: right;\n",
       "    }\n",
       "</style>\n",
       "<table border=\"1\" class=\"dataframe\">\n",
       "  <thead>\n",
       "    <tr style=\"text-align: right;\">\n",
       "      <th></th>\n",
       "      <th>club_name</th>\n",
       "      <th>club_id</th>\n",
       "      <th>club_zone</th>\n",
       "      <th>og_loc</th>\n",
       "      <th>pool_name</th>\n",
       "      <th>address</th>\n",
       "      <th>state</th>\n",
       "      <th>city</th>\n",
       "      <th>zip</th>\n",
       "      <th>loc</th>\n",
       "      <th>club_short</th>\n",
       "    </tr>\n",
       "  </thead>\n",
       "  <tbody>\n",
       "  </tbody>\n",
       "</table>\n",
       "</div>"
      ],
      "text/plain": [
       "Empty DataFrame\n",
       "Columns: [club_name, club_id, club_zone, og_loc, pool_name, address, state, city, zip, loc, club_short]\n",
       "Index: []"
      ]
     },
     "execution_count": 47,
     "metadata": {},
     "output_type": "execute_result"
    }
   ],
   "source": [
    "clubs[clubs['club_name'].str.contains('DACA')]"
   ]
  },
  {
   "cell_type": "code",
   "execution_count": 48,
   "metadata": {},
   "outputs": [],
   "source": [
    "data = rankings.merge(clubs[['club_short', 'club_id', 'club_zone', 'loc', 'state']], on='club_short', how='left')"
   ]
  },
  {
   "cell_type": "code",
   "execution_count": 49,
   "metadata": {},
   "outputs": [
    {
     "data": {
      "text/plain": [
       "(4206, 13)"
      ]
     },
     "execution_count": 49,
     "metadata": {},
     "output_type": "execute_result"
    }
   ],
   "source": [
    "data[data['club_id'].notnull()].shape"
   ]
  },
  {
   "cell_type": "code",
   "execution_count": 50,
   "metadata": {},
   "outputs": [
    {
     "data": {
      "text/html": [
       "<div>\n",
       "<style scoped>\n",
       "    .dataframe tbody tr th:only-of-type {\n",
       "        vertical-align: middle;\n",
       "    }\n",
       "\n",
       "    .dataframe tbody tr th {\n",
       "        vertical-align: top;\n",
       "    }\n",
       "\n",
       "    .dataframe thead th {\n",
       "        text-align: right;\n",
       "    }\n",
       "</style>\n",
       "<table border=\"1\" class=\"dataframe\">\n",
       "  <thead>\n",
       "    <tr style=\"text-align: right;\">\n",
       "      <th></th>\n",
       "      <th>finish</th>\n",
       "      <th>club_name</th>\n",
       "      <th>age</th>\n",
       "      <th>sex</th>\n",
       "      <th>year</th>\n",
       "      <th>og_name</th>\n",
       "      <th>squad</th>\n",
       "      <th>tie</th>\n",
       "      <th>club_short</th>\n",
       "      <th>club_id</th>\n",
       "      <th>club_zone</th>\n",
       "      <th>loc</th>\n",
       "      <th>state</th>\n",
       "    </tr>\n",
       "  </thead>\n",
       "  <tbody>\n",
       "    <tr>\n",
       "      <th>0</th>\n",
       "      <td>1</td>\n",
       "      <td>LAGUNA BEACH WATER POLO</td>\n",
       "      <td>10</td>\n",
       "      <td>Girls</td>\n",
       "      <td>2016</td>\n",
       "      <td>LAGUNA BEACH WATER POLO</td>\n",
       "      <td>A</td>\n",
       "      <td>0.0</td>\n",
       "      <td>LAGUNA BEACH</td>\n",
       "      <td>717</td>\n",
       "      <td>Southern Pacific Zone</td>\n",
       "      <td>625 Park Ave, Laguna Beach, CA 92651</td>\n",
       "      <td>CA</td>\n",
       "    </tr>\n",
       "    <tr>\n",
       "      <th>1</th>\n",
       "      <td>1</td>\n",
       "      <td>VANGUARD AQUATICS</td>\n",
       "      <td>12</td>\n",
       "      <td>Boys</td>\n",
       "      <td>2016</td>\n",
       "      <td>VANGUARD AQUATICS</td>\n",
       "      <td>A</td>\n",
       "      <td>0.0</td>\n",
       "      <td>VANGUARD</td>\n",
       "      <td>17185</td>\n",
       "      <td>Southern Pacific Zone</td>\n",
       "      <td>2301 W Mac, Santa Ana, CA 92704</td>\n",
       "      <td>CA</td>\n",
       "    </tr>\n",
       "    <tr>\n",
       "      <th>2</th>\n",
       "      <td>1</td>\n",
       "      <td>LOS ANGELES PREMIER</td>\n",
       "      <td>14</td>\n",
       "      <td>Boys</td>\n",
       "      <td>2016</td>\n",
       "      <td>LOS ANGELES PREMIER</td>\n",
       "      <td>A</td>\n",
       "      <td>0.0</td>\n",
       "      <td>LOS ANGELES PREMIER</td>\n",
       "      <td>22230</td>\n",
       "      <td>Coastal California Zone</td>\n",
       "      <td>3700 Coldwater Cayon, Studio City, CA 91604</td>\n",
       "      <td>CA</td>\n",
       "    </tr>\n",
       "    <tr>\n",
       "      <th>3</th>\n",
       "      <td>1</td>\n",
       "      <td>STANFORD WATER POLO FOUNDATION</td>\n",
       "      <td>16</td>\n",
       "      <td>Boys</td>\n",
       "      <td>2016</td>\n",
       "      <td>STANFORD WATER POLO FOUNDATION</td>\n",
       "      <td>A</td>\n",
       "      <td>0.0</td>\n",
       "      <td>STANFORD</td>\n",
       "      <td>570</td>\n",
       "      <td>Pacific Zone</td>\n",
       "      <td>Avery Aquatic Center, Stanford, CA 94305</td>\n",
       "      <td>CA</td>\n",
       "    </tr>\n",
       "    <tr>\n",
       "      <th>4</th>\n",
       "      <td>1</td>\n",
       "      <td>REGENCY WATER POLO CLUB</td>\n",
       "      <td>18</td>\n",
       "      <td>Boys</td>\n",
       "      <td>2016</td>\n",
       "      <td>REGENCY WATER POLO CLUB</td>\n",
       "      <td>A</td>\n",
       "      <td>0.0</td>\n",
       "      <td>REGENCY</td>\n",
       "      <td>NaN</td>\n",
       "      <td>NaN</td>\n",
       "      <td>NaN</td>\n",
       "      <td>NaN</td>\n",
       "    </tr>\n",
       "  </tbody>\n",
       "</table>\n",
       "</div>"
      ],
      "text/plain": [
       "   finish                       club_name  age    sex  year  \\\n",
       "0       1         LAGUNA BEACH WATER POLO   10  Girls  2016   \n",
       "1       1               VANGUARD AQUATICS   12   Boys  2016   \n",
       "2       1             LOS ANGELES PREMIER   14   Boys  2016   \n",
       "3       1  STANFORD WATER POLO FOUNDATION   16   Boys  2016   \n",
       "4       1         REGENCY WATER POLO CLUB   18   Boys  2016   \n",
       "\n",
       "                          og_name squad  tie           club_short club_id  \\\n",
       "0         LAGUNA BEACH WATER POLO     A  0.0         LAGUNA BEACH     717   \n",
       "1               VANGUARD AQUATICS     A  0.0             VANGUARD   17185   \n",
       "2             LOS ANGELES PREMIER     A  0.0  LOS ANGELES PREMIER   22230   \n",
       "3  STANFORD WATER POLO FOUNDATION     A  0.0             STANFORD     570   \n",
       "4         REGENCY WATER POLO CLUB     A  0.0              REGENCY     NaN   \n",
       "\n",
       "                 club_zone                                          loc state  \n",
       "0    Southern Pacific Zone         625 Park Ave, Laguna Beach, CA 92651    CA  \n",
       "1    Southern Pacific Zone              2301 W Mac, Santa Ana, CA 92704    CA  \n",
       "2  Coastal California Zone  3700 Coldwater Cayon, Studio City, CA 91604    CA  \n",
       "3             Pacific Zone     Avery Aquatic Center, Stanford, CA 94305    CA  \n",
       "4                      NaN                                          NaN   NaN  "
      ]
     },
     "execution_count": 50,
     "metadata": {},
     "output_type": "execute_result"
    }
   ],
   "source": [
    "data.head()"
   ]
  },
  {
   "cell_type": "code",
   "execution_count": 51,
   "metadata": {},
   "outputs": [
    {
     "data": {
      "text/plain": [
       "(6255, 13)"
      ]
     },
     "execution_count": 51,
     "metadata": {},
     "output_type": "execute_result"
    }
   ],
   "source": [
    "data.shape"
   ]
  },
  {
   "cell_type": "code",
   "execution_count": 52,
   "metadata": {},
   "outputs": [
    {
     "data": {
      "text/plain": [
       "(6255, 9)"
      ]
     },
     "execution_count": 52,
     "metadata": {},
     "output_type": "execute_result"
    }
   ],
   "source": [
    "rankings.shape"
   ]
  },
  {
   "cell_type": "code",
   "execution_count": 53,
   "metadata": {},
   "outputs": [
    {
     "data": {
      "text/plain": [
       "(2049, 13)"
      ]
     },
     "execution_count": 53,
     "metadata": {},
     "output_type": "execute_result"
    }
   ],
   "source": [
    "data[data['club_id'].isnull()].shape"
   ]
  },
  {
   "cell_type": "code",
   "execution_count": 54,
   "metadata": {},
   "outputs": [],
   "source": [
    "missing_clubs = data[data['club_id'].isnull()].copy()"
   ]
  },
  {
   "cell_type": "markdown",
   "metadata": {},
   "source": [
    "### Fuzzy matching club names"
   ]
  },
  {
   "cell_type": "code",
   "execution_count": 55,
   "metadata": {},
   "outputs": [],
   "source": [
    "def match_name(name, list_names, min_score=0):\n",
    "    max_score = -1\n",
    "    max_name = \"\"\n",
    "    for name2 in list_names:\n",
    "        score = fuzz.ratio(name, name2)\n",
    "        if (score > min_score) & (score > max_score):\n",
    "            max_name = name2\n",
    "            max_score = score\n",
    "    return (max_name, max_score)"
   ]
  },
  {
   "cell_type": "code",
   "execution_count": 56,
   "metadata": {},
   "outputs": [
    {
     "data": {
      "text/html": [
       "<div>\n",
       "<style scoped>\n",
       "    .dataframe tbody tr th:only-of-type {\n",
       "        vertical-align: middle;\n",
       "    }\n",
       "\n",
       "    .dataframe tbody tr th {\n",
       "        vertical-align: top;\n",
       "    }\n",
       "\n",
       "    .dataframe thead th {\n",
       "        text-align: right;\n",
       "    }\n",
       "</style>\n",
       "<table border=\"1\" class=\"dataframe\">\n",
       "  <thead>\n",
       "    <tr style=\"text-align: right;\">\n",
       "      <th></th>\n",
       "      <th>club_name</th>\n",
       "      <th>match_name</th>\n",
       "      <th>match amount</th>\n",
       "    </tr>\n",
       "  </thead>\n",
       "  <tbody>\n",
       "    <tr>\n",
       "      <th>0</th>\n",
       "      <td>REGENCY</td>\n",
       "      <td></td>\n",
       "      <td>-1</td>\n",
       "    </tr>\n",
       "    <tr>\n",
       "      <th>1</th>\n",
       "      <td>TROJAN  CA</td>\n",
       "      <td>TROJAN CA</td>\n",
       "      <td>95</td>\n",
       "    </tr>\n",
       "    <tr>\n",
       "      <th>2</th>\n",
       "      <td>ORANGECOUNTY</td>\n",
       "      <td>ORANGE COUNTY</td>\n",
       "      <td>96</td>\n",
       "    </tr>\n",
       "    <tr>\n",
       "      <th>3</th>\n",
       "      <td>ORANGECOUNTY</td>\n",
       "      <td>ORANGE COUNTY</td>\n",
       "      <td>96</td>\n",
       "    </tr>\n",
       "    <tr>\n",
       "      <th>4</th>\n",
       "      <td>ORANGECOUNTY</td>\n",
       "      <td>ORANGE COUNTY</td>\n",
       "      <td>96</td>\n",
       "    </tr>\n",
       "  </tbody>\n",
       "</table>\n",
       "</div>"
      ],
      "text/plain": [
       "      club_name     match_name  match amount\n",
       "0       REGENCY                           -1\n",
       "1    TROJAN  CA      TROJAN CA            95\n",
       "2  ORANGECOUNTY  ORANGE COUNTY            96\n",
       "3  ORANGECOUNTY  ORANGE COUNTY            96\n",
       "4  ORANGECOUNTY  ORANGE COUNTY            96"
      ]
     },
     "execution_count": 56,
     "metadata": {},
     "output_type": "execute_result"
    }
   ],
   "source": [
    "dict_list = []\n",
    "for club in missing_clubs['club_short']:\n",
    "    match = match_name(club, clubs['club_short'], 75)\n",
    "    \n",
    "    dict_ = {}\n",
    "    dict_.update({\"club_name\" : club})\n",
    "    dict_.update({\"match_name\" : match[0]})\n",
    "    dict_.update({\"match amount\" : match[1]})\n",
    "    dict_list.append(dict_)\n",
    "    \n",
    "merge_table = pd.DataFrame(dict_list)\n",
    "merge_table.head()"
   ]
  },
  {
   "cell_type": "code",
   "execution_count": 57,
   "metadata": {},
   "outputs": [],
   "source": [
    "map1 = merge_table[merge_table['match_name'] != ''].copy()"
   ]
  },
  {
   "cell_type": "code",
   "execution_count": 58,
   "metadata": {},
   "outputs": [],
   "source": [
    "map1.drop_duplicates(subset=['club_name'], inplace=True)"
   ]
  },
  {
   "cell_type": "code",
   "execution_count": 59,
   "metadata": {},
   "outputs": [
    {
     "data": {
      "text/plain": [
       "(99, 3)"
      ]
     },
     "execution_count": 59,
     "metadata": {},
     "output_type": "execute_result"
    }
   ],
   "source": [
    "map1.shape"
   ]
  },
  {
   "cell_type": "code",
   "execution_count": 60,
   "metadata": {},
   "outputs": [
    {
     "data": {
      "text/html": [
       "<div>\n",
       "<style scoped>\n",
       "    .dataframe tbody tr th:only-of-type {\n",
       "        vertical-align: middle;\n",
       "    }\n",
       "\n",
       "    .dataframe tbody tr th {\n",
       "        vertical-align: top;\n",
       "    }\n",
       "\n",
       "    .dataframe thead th {\n",
       "        text-align: right;\n",
       "    }\n",
       "</style>\n",
       "<table border=\"1\" class=\"dataframe\">\n",
       "  <thead>\n",
       "    <tr style=\"text-align: right;\">\n",
       "      <th></th>\n",
       "      <th>club_name</th>\n",
       "      <th>match_name</th>\n",
       "      <th>match amount</th>\n",
       "    </tr>\n",
       "  </thead>\n",
       "  <tbody>\n",
       "    <tr>\n",
       "      <th>1</th>\n",
       "      <td>TROJAN  CA</td>\n",
       "      <td>TROJAN CA</td>\n",
       "      <td>95</td>\n",
       "    </tr>\n",
       "    <tr>\n",
       "      <th>2</th>\n",
       "      <td>ORANGECOUNTY</td>\n",
       "      <td>ORANGE COUNTY</td>\n",
       "      <td>96</td>\n",
       "    </tr>\n",
       "    <tr>\n",
       "      <th>11</th>\n",
       "      <td>SPARTAN   MI</td>\n",
       "      <td>SPARTAN MI</td>\n",
       "      <td>91</td>\n",
       "    </tr>\n",
       "    <tr>\n",
       "      <th>16</th>\n",
       "      <td>INTERNATIONAL</td>\n",
       "      <td>ORLANDO INTERNATIONAL</td>\n",
       "      <td>76</td>\n",
       "    </tr>\n",
       "    <tr>\n",
       "      <th>22</th>\n",
       "      <td>IRVINE   KAHUNA</td>\n",
       "      <td>IRVINE KAHUNA</td>\n",
       "      <td>93</td>\n",
       "    </tr>\n",
       "  </tbody>\n",
       "</table>\n",
       "</div>"
      ],
      "text/plain": [
       "          club_name             match_name  match amount\n",
       "1        TROJAN  CA              TROJAN CA            95\n",
       "2      ORANGECOUNTY          ORANGE COUNTY            96\n",
       "11     SPARTAN   MI             SPARTAN MI            91\n",
       "16    INTERNATIONAL  ORLANDO INTERNATIONAL            76\n",
       "22  IRVINE   KAHUNA          IRVINE KAHUNA            93"
      ]
     },
     "execution_count": 60,
     "metadata": {},
     "output_type": "execute_result"
    }
   ],
   "source": [
    "map1.head()"
   ]
  },
  {
   "cell_type": "code",
   "execution_count": 61,
   "metadata": {},
   "outputs": [],
   "source": [
    "map2 = merge_table[merge_table['match_name'] == ''].copy()\n",
    "map2.drop_duplicates(subset=['club_name'], inplace=True)"
   ]
  },
  {
   "cell_type": "code",
   "execution_count": 62,
   "metadata": {},
   "outputs": [
    {
     "data": {
      "text/html": [
       "<div>\n",
       "<style scoped>\n",
       "    .dataframe tbody tr th:only-of-type {\n",
       "        vertical-align: middle;\n",
       "    }\n",
       "\n",
       "    .dataframe tbody tr th {\n",
       "        vertical-align: top;\n",
       "    }\n",
       "\n",
       "    .dataframe thead th {\n",
       "        text-align: right;\n",
       "    }\n",
       "</style>\n",
       "<table border=\"1\" class=\"dataframe\">\n",
       "  <thead>\n",
       "    <tr style=\"text-align: right;\">\n",
       "      <th></th>\n",
       "      <th>club_name</th>\n",
       "      <th>match_name</th>\n",
       "      <th>match amount</th>\n",
       "    </tr>\n",
       "  </thead>\n",
       "  <tbody>\n",
       "    <tr>\n",
       "      <th>0</th>\n",
       "      <td>REGENCY</td>\n",
       "      <td></td>\n",
       "      <td>-1</td>\n",
       "    </tr>\n",
       "    <tr>\n",
       "      <th>5</th>\n",
       "      <td>DACA</td>\n",
       "      <td></td>\n",
       "      <td>-1</td>\n",
       "    </tr>\n",
       "    <tr>\n",
       "      <th>6</th>\n",
       "      <td>LA JOLLA</td>\n",
       "      <td></td>\n",
       "      <td>-1</td>\n",
       "    </tr>\n",
       "    <tr>\n",
       "      <th>14</th>\n",
       "      <td>JESUIT</td>\n",
       "      <td></td>\n",
       "      <td>-1</td>\n",
       "    </tr>\n",
       "    <tr>\n",
       "      <th>20</th>\n",
       "      <td>SAN MIGUEL</td>\n",
       "      <td></td>\n",
       "      <td>-1</td>\n",
       "    </tr>\n",
       "  </tbody>\n",
       "</table>\n",
       "</div>"
      ],
      "text/plain": [
       "     club_name match_name  match amount\n",
       "0      REGENCY                       -1\n",
       "5         DACA                       -1\n",
       "6     LA JOLLA                       -1\n",
       "14      JESUIT                       -1\n",
       "20  SAN MIGUEL                       -1"
      ]
     },
     "execution_count": 62,
     "metadata": {},
     "output_type": "execute_result"
    }
   ],
   "source": [
    "map2.head()"
   ]
  },
  {
   "cell_type": "code",
   "execution_count": 63,
   "metadata": {},
   "outputs": [],
   "source": [
    "correct_clubs = {'LA JOLLA':'LA JOLLA UNITED', 'LA JOLLA S':'LA JOLLA UNITED', 'SET':'SADDLEBACK EL TORO SET', \n",
    "                 'DIABLO':'DIABLO ALLIANCE', 'GULLIVER RIPTIDES':'MIAMI RIPTIDES', 'NSD STARS':'NORTH SAN DIEGO STARS', \n",
    "                 'SCV':'SANTA CLARA', 'CMAC ALL STARS':'COSTA MESA', 'SHAQ':'SLEEPY HOLLOW', 'BIG VALLEY':'UNIVERSITY PACIFIC',\n",
    "                'STOCKTON':'UNIVERSITY PACIFIC', 'SOAK':'SONORA', 'VIPER PIGEON':'WEST HOUSTON', 'NORTHWOOD':'NORTH IRVINE',\n",
    "                'SPARTAN':'SPARTAN MI', 'LWP':'LAMORINDA', 'SCOTS':'SAINT ANDREW\\'S', 'WEST SUB NAPERVILLE':'WEST SUBURBAN',\n",
    "                'HERIMAN':'SOUTH COUNTY-HERRIMAN', 'KAHUNA':'IRVINE KAHUNA', 'SD SHORES':'SAN DIEGO SHORES', 'CORONA DEL MAR':'CDM',\n",
    "                'SO PASADENA':'SOUTH PASADENA', 'ORWP':'OLIMPIAKAN RESERVNER ORWP', 'OLIMPIAKAN ORWP':'OLIMPIAKAN RESERVNER ORWP', \n",
    "                 '680 DRIVER':'680', 'TROJAN':'TROJAN CA', 'WEST SUBURBAN NAPERVILLE':'WEST SUBURBAN', 'ESCONDIDO RIPTIDES':'NORTH COUNTY RIPTIDES',\n",
    "                'THILLS':'TUALATIN HILLS', 'TM VEGASHENDERSON':'VEGAS', 'VEGASHENDERSON':'VEGAS', 'TM VEGAS HEND':'VEGAS',\n",
    "                'CC SHARKS':'SANTA CRUZ', 'CENTRAL COAST SHARKS':'SANTA CRUZ', 'GREENWICH WATER':'GREENWICH', 'MERCED':'209',\n",
    "                'ATWATERMERCED':'209', 'VIPER PIGEONS':'WEST HOUSTON', 'VIPER PIGEON SOUTH':'WEST HOUSTON', 'VIPER PIGEON NORTH':'WEST HOUSTON',\n",
    "                'VIPER PIGEON NORTH WEST':'WEST HOUSTON', 'VIPER PIGEON WEST':'WEST HOUSTON', 'VIPER PIGEON SOUTH EAST':'WEST HOUSTON',\n",
    "                'T HILLS':'TUALATIN HILLS', 'SB PREMIER':'SANTA BARBARA PREMIER', 'ORWP TITANS':'OLIMPIAKAN RESERVNER ORWP',\n",
    "                'HOUSTON STORM':'NORTH HOUSTON', 'SD SHROES':'SAN DIEGO SHORES', 'SB 805':'SANTA BARBARA 805', '680 DRIVERS':'680',\n",
    "                'ATWATER MERCED':'209', 'LA JOLLA   S':'LA JOLLA UNITED', 'W SUB NAPERVILLE':'WEST SUBURBAN', 'MODESTON STAN':'MODESTO/STANISLAUS',\n",
    "                'MODESTO STAN':'MODESTO/STANISLAUS', 'AM RIVER':'AMERICAN RIVER', 'AM RIV':'AMERICAN RIVER', 'HERRIMAN':'SOUTH COUNTY-HERRIMAN',\n",
    "                'REGENCU':'REGENCY', 'ORCUTT ASSOCIATIONONE WAY':'ORCUTT ASSOCIATION/ONE WAY', 'OLIMPIKIAN ORWP':'OLIMPIAKAN RESERVNER ORWP',\n",
    "                'ORCUTT':'ORCUTT ASSOCIATION/ONE WAY', 'NORTH DALLAS SPARTANS':'TRIDENT', 'DALLAS':'NORTH TEXAS THUNDER',\n",
    "                'ST MARKS LIONS':'TRIDENT', 'NORTH DALLAS SPARTAN':'TRIDENT', 'NORTH SHORE':'INGLEMOOR HIGH SCHOOL', 'HOUSTON':'WEST HOUSTON',\n",
    "                'IRVINE KAHUNAWEST COAST':'IRVINE KAHUNA', 'SOUTHSIDE':'SOUTHSIDE HONEY BADGERS', 'TROJAN CARDINAL':'TROJAN CA', \n",
    "                'ANN ARBOR':'WOLVERINE', 'NOTHERN ELITE':'ELITE', 'EAST VALE':'CIRCLE CITY', 'EASTVALE':'CIRCLE CITY', 'PALOS VERDES':'PV',\n",
    "                'HB':'HUNTINGTON BEACH', 'HUNTINGTON BEACH G':'HUNTINGTON BEACH', 'SHORES SOLANA':'SAN DIEGO SHORES', 'HBWPC':'HUNTINGTON BEACH',\n",
    "                '616':'WOLVERINE', 'OC RIPTIDE':'PACIFIC COAST RIPTIDE', 'WEST COAST AQAUTICS':'WEST COAST', 'ORCA':'VILLA PARK', 'CHULA VISTA':'SOL',\n",
    "                'ORCUTT ASSOCIATION':'ORCUTT ASSOCIATION/ONE WAY', 'EXPO SHARKS':'LOS ANGELES', 'SBWPC':'SANTA BARBARA 805',\n",
    "                'LOS AL':'LOS ALAMITOS', 'PRINCETON':'TIGER', 'LAGUNA':'LAGUNA BEACH', 'RIPTIDES':'MIAMI RIPTIDES', \n",
    "                'ALLIANCE':'CAPISTRANO VALLEY ALLIANCE', 'DACA':'222', 'ANTEATER':'IRVINE KAHUNA', 'CVAC':'CAPISTRANO VALLEY ALLIANCE',\n",
    "                'NORTHWOOD HS':'NORTH IRVINE', 'TPC SHARKS':'TPC', 'MVPOLO':'MID VALLEY', 'NAPA VALLEY':'NAPA PREMIER',\n",
    "                'NAPA':'NAPA PREMIER', 'SD SHORES 680':'SAN DIEGO SHORES', 'PLACER COUNTY':'NORTHERN SIERRA',\n",
    "                'SACTO':'SACRAMENTO', 'BRENTWOOD SEAWOLVES':'LAMORINDA BRENTWOOD', 'CMAC':'COSTA MESA', 'BALL':'BALL UNDER',\n",
    "                'VC PREMIER': 'GOLD COAST', 'SHARKS':'SANTA CRUZ', 'ST LOUIS AREA SLAP':'SLAP', 'SHARKS M':'SANTA CRUZ',\n",
    "                'SOAC':'SOAC UCLS', 'SOVA':'SOUTH VALLEY', 'LAWPC':'LOS ANGELES', 'ORANGECOUNTY RIPTIDE':'ORANGE COUNTY',\n",
    "                'THUNDER':'NORTH TEXAS THUNDER', 'VC UNITED':'GOLD COAST', 'NAPA VALLEY':'NAPA PREMIER', 'NORTH BEACH':'NORTH PALM BEACH',\n",
    "                'LA PREMIER':'LOS ANGELES PREMIER', 'COAST':'GOLD COAST', 'OCWPC':'ORANGE COUNTY', 'BIG VALLEY':'UNIVERSITY PACIFIC',\n",
    "                'SAN DIEGO INTERNATIONAL':'GREATER SAN DIEGO', 'CAPITAL PREMIER':'CAPITAL DC', 'NWPC':'NORTHWEST ORCAS', 'NORTHWEST':'NORTHWEST ORCAS',\n",
    "                'CAL':'CAL BEARS', 'CLOVIS BEARS':'CLOVIS', 'LAZERS':'LARPD', 'CENTRAL COAST':'SANTA ANA', 'HANFORD':'KINGS',\n",
    "                'SFWPC':'SAN FRANCISCO WARRIORS', 'WILLAMETTE':'WILLAMETTE VALLEY',\n",
    "                'NORCAL':'NORCAL - NORTHERN CALIFORNIA', 'PUGET':'PUGET SOUND', 'POWAY':'POWAY VALLEY', 'NO ILL PC':'NIPC', 'NO ILLINOIS':'NIPC',\n",
    "                'NORTHERN SAN DIEGO NEPTUNE':'NORTH SAN DIEGO STARS', 'CTRL COAST SHARKS':'SANTA CRUZ', 'CLOVIS COUGARS':'CLOVIS',\n",
    "                'WILAMETTE':'WILLAMETTE VALLEY', 'GILRS14':'', 'CRUSH':'NORTHWEST BLUE CRUSH', 'SJWPF':'SAN JOSE', 'BEND':'BEND WAVES',\n",
    "                'SARASOTA UNITED':'SOUTHWEST FLORIDA', 'VANGUARD SENIOR':'VANGUARD', 'SFLA HURRICANS':'SOUTH FLORIDA - HURRICANES',\n",
    "                'SFLA HURRICANES':'SOUTH FLORIDA - HURRICANES', 'CAPITAL AREA PREMIER CAP':'CAPITAL DC', 'VALLEY FALCONS OYS':'VALLEY FALCONS',\n",
    "                'SAN MIGUEL':'LA JOLLA UNITED', 'DIRTY BAY':'WEST HOUSTON', 'RENEGADES':'REDLANDS RENEGADES', 'SV OUTLAW':'SILICON VALLEY OUTLAWS',\n",
    "                'ONE WAY':'ORCUTT ASSOCIATION/ONE WAY', 'AGWP':'ARROYO GRANDE', 'AGWP NAVY':'ARROYO GRANDE', 'SOQUEL WAXEM':'SOQUEL', 'PNW UNITED':'PNW SHORES', \n",
    "                'ELITE RIVERSIDE':'RIVERSIDE', 'CAL REPUBLIC':'CALIFORNIA REPUBLIC SC','RANCHO SAN DIEGO NORSEMEN':'ODIN', 'PAC NW UNITED':'PNW SHORES', 'SAN MIGUEL WPF':'SAN DIEGO SHORES',\n",
    "                'SBWPF':'SANTA BARBARA 805', 'SONS OF ODIN':'ODIN', 'STARS STRIPES':'BRUIN', 'CHICAGO PARK':'CHICAGO PARK DISTRICT',\n",
    "                'LIGHTNING':'IRVINE KAHUNA', 'BANGARANG':'NAPA PREMIER', 'SBU':'SOUTH BAY UNITED', 'COLLEGE PARK S':'ACADEMY', 'LANCER':'SEASIDE',\n",
    "                'CERRITOS':'LOS ALAMITOS', 'ECWP':'EUGENE CITY', 'SJ WPF':'SAN JOSE', 'SJA':'SAN JOSE/ALMADEN', 'SJ ALMADEN':'SAN JOSE/ALMADEN',\n",
    "                'VIKINGS':'DYNAMO', 'CLOVIS NORTH':'CLOVIS', 'ARC':'AMERICAN RIVER', 'BLUECRUSH':'NORTHWEST BLUE CRUSH', 'ORLANDO':'ORLANDO UNITED',\n",
    "                'SOCAL FHS':'SOCAL', 'SEASIDE NAVY':'SEASIDE', 'THE SANTA BARBARA PALS':'SANTA BARBARA PREMIER', 'SALT LAKE POSEIDON':'UTAH EAST SIDE',\n",
    "                'BACK BAY KAHUNA':'BACK BAY', 'KAHUNA GREENWICH':'IRVINE KAHUNA', 'MICHIGAN':'MID-MICHIGAN RAPTOR', 'SO BAY PENIN':'SOUTH BAY UNITED',\n",
    "                'BAY AREA SUNSET':'BAY AREA', 'GIG HARBOR':'NARROWS', 'DWPC AGGIES':'DAVIS', 'GREAT LAKES':'MID-MICHIGAN RAPTOR', 'SOLANO':'SOLANO COUNTY',\n",
    "                'SCSC 18A':'SANTA CLARA', 'SCSC':'SANTA CLARA', 'NYAC':'NEW YORK ATHLETIC'}"
   ]
  },
  {
   "cell_type": "code",
   "execution_count": 64,
   "metadata": {},
   "outputs": [
    {
     "data": {
      "text/html": [
       "<div>\n",
       "<style scoped>\n",
       "    .dataframe tbody tr th:only-of-type {\n",
       "        vertical-align: middle;\n",
       "    }\n",
       "\n",
       "    .dataframe tbody tr th {\n",
       "        vertical-align: top;\n",
       "    }\n",
       "\n",
       "    .dataframe thead th {\n",
       "        text-align: right;\n",
       "    }\n",
       "</style>\n",
       "<table border=\"1\" class=\"dataframe\">\n",
       "  <thead>\n",
       "    <tr style=\"text-align: right;\">\n",
       "      <th></th>\n",
       "      <th>finish</th>\n",
       "      <th>club_name</th>\n",
       "      <th>age</th>\n",
       "      <th>sex</th>\n",
       "      <th>year</th>\n",
       "      <th>og_name</th>\n",
       "      <th>squad</th>\n",
       "      <th>tie</th>\n",
       "      <th>club_short</th>\n",
       "    </tr>\n",
       "  </thead>\n",
       "  <tbody>\n",
       "    <tr>\n",
       "      <th>390</th>\n",
       "      <td>35</td>\n",
       "      <td>LIGHTNING</td>\n",
       "      <td>16</td>\n",
       "      <td>Boys</td>\n",
       "      <td>2011</td>\n",
       "      <td>LIGHTNING</td>\n",
       "      <td>A</td>\n",
       "      <td>0.0</td>\n",
       "      <td>LIGHTNING</td>\n",
       "    </tr>\n",
       "    <tr>\n",
       "      <th>395</th>\n",
       "      <td>36</td>\n",
       "      <td>LIGHTNING</td>\n",
       "      <td>14</td>\n",
       "      <td>Boys</td>\n",
       "      <td>2011</td>\n",
       "      <td>LIGHTNING</td>\n",
       "      <td>A</td>\n",
       "      <td>0.0</td>\n",
       "      <td>LIGHTNING</td>\n",
       "    </tr>\n",
       "    <tr>\n",
       "      <th>480</th>\n",
       "      <td>47</td>\n",
       "      <td>LIGHTNING</td>\n",
       "      <td>18</td>\n",
       "      <td>Boys</td>\n",
       "      <td>2011</td>\n",
       "      <td>LIGHTNING</td>\n",
       "      <td>A</td>\n",
       "      <td>0.0</td>\n",
       "      <td>LIGHTNING</td>\n",
       "    </tr>\n",
       "  </tbody>\n",
       "</table>\n",
       "</div>"
      ],
      "text/plain": [
       "     finish  club_name  age   sex  year    og_name squad  tie club_short\n",
       "390      35  LIGHTNING   16  Boys  2011  LIGHTNING     A  0.0  LIGHTNING\n",
       "395      36  LIGHTNING   14  Boys  2011  LIGHTNING     A  0.0  LIGHTNING\n",
       "480      47  LIGHTNING   18  Boys  2011  LIGHTNING     A  0.0  LIGHTNING"
      ]
     },
     "execution_count": 64,
     "metadata": {},
     "output_type": "execute_result"
    }
   ],
   "source": [
    "rankings[rankings['club_short'].str.contains('LIGHTNING')]"
   ]
  },
  {
   "cell_type": "code",
   "execution_count": 65,
   "metadata": {},
   "outputs": [
    {
     "data": {
      "text/html": [
       "<div>\n",
       "<style scoped>\n",
       "    .dataframe tbody tr th:only-of-type {\n",
       "        vertical-align: middle;\n",
       "    }\n",
       "\n",
       "    .dataframe tbody tr th {\n",
       "        vertical-align: top;\n",
       "    }\n",
       "\n",
       "    .dataframe thead th {\n",
       "        text-align: right;\n",
       "    }\n",
       "</style>\n",
       "<table border=\"1\" class=\"dataframe\">\n",
       "  <thead>\n",
       "    <tr style=\"text-align: right;\">\n",
       "      <th></th>\n",
       "      <th>club_name</th>\n",
       "      <th>club_id</th>\n",
       "      <th>club_zone</th>\n",
       "      <th>og_loc</th>\n",
       "      <th>pool_name</th>\n",
       "      <th>address</th>\n",
       "      <th>state</th>\n",
       "      <th>city</th>\n",
       "      <th>zip</th>\n",
       "      <th>loc</th>\n",
       "      <th>club_short</th>\n",
       "    </tr>\n",
       "  </thead>\n",
       "  <tbody>\n",
       "  </tbody>\n",
       "</table>\n",
       "</div>"
      ],
      "text/plain": [
       "Empty DataFrame\n",
       "Columns: [club_name, club_id, club_zone, og_loc, pool_name, address, state, city, zip, loc, club_short]\n",
       "Index: []"
      ]
     },
     "execution_count": 65,
     "metadata": {},
     "output_type": "execute_result"
    }
   ],
   "source": [
    "clubs[clubs['club_name'].str.contains('LIGHTNING')]"
   ]
  },
  {
   "cell_type": "markdown",
   "metadata": {},
   "source": [
    "# Merge updated rankings table "
   ]
  },
  {
   "cell_type": "code",
   "execution_count": 66,
   "metadata": {},
   "outputs": [],
   "source": [
    "new_clubs = [pd.Series(['BALL UNDER', 0, 'Northeast Zone', 'Wakefield Swimming Pool, 4901 S. Chesterfield Road, Arlington, VA 22206', 'Wakefield Swimming Pool', '4901 S. Chesterfield Road', 'VA', 'Arlington', '22206', '4901 S Chesterfield Road, Arlington, VA 22206', 'BALL UNDER'], index=clubs.columns),\n",
    "            pd.Series(['ELLIS', 0, 'Central California Zone', 'Sierra High School, 1700 Thomas St, Manteca, CA 95337', 'Sierra High School', '1700 Thomas St', 'CA', 'Manteca', '95337', '1700 Thomas St, Manteca, CA 95337', 'ELLIS'], index=clubs.columns),\n",
    "            pd.Series(['BUENA', 0, 'Coastal California Zone', 'Buena High School, 5670 Telegraph Rd, Ventura, CA 93003', 'Buena High School', '5670 Telegraph Rd', 'CA', 'Ventura', '93003', '5670 Telegraph Rd, Ventura, CA 93003', 'BUENA'], index=clubs.columns),\n",
    "            pd.Series(['SLAP', 0, 'Midwest Zone', 'Chaminade High School, 425 S Lindbergh Blvd St. Louis, MO 63131', 'Chaminade High School', '425 S Lindbergh Blvd', 'MO', 'St Louis', '63131', '425 S Lindbergh Blvd, St Louis, MO 63131', 'SLAP'], index=clubs.columns),\n",
    "            pd.Series(['SOUTH PASADENA', 0, 'Coastal California Zone', 'South Pasadena High School, 1401 Fremont Ave, South Pasadena, CA 91030', 'South Pasadena High School', '1401 Fremont Ave', 'CA', 'South Pasadena', '91030', '1401 Fremont Ave, South Pasadena, CA 91030', 'SOUTH PASADENA'], index=clubs.columns),\n",
    "            pd.Series(['LODI', 0, 'Central California Zone', 'Lodi High School, 3 S Pacific Ave, Lodi, CA 95242', 'Lodi High School', '3 S Pacific Ave', 'CA', 'Lodi', '95242', '3 S Pacific Ave, Lodi, CA 95242', 'LODI'], index=clubs.columns),\n",
    "            pd.Series(['DESERT', 0, 'Southern Pacific Zone', '14048 Cobalt Rd, Victorville, CA 92392', 'Unknown', '14048 Cobalt Rd', 'CA', 'Victorville', '92392', '14048 Cobalt Rd, Victorville, CA 92392', 'DESERT'], index=clubs.columns),\n",
    "            pd.Series(['WEST COAST', 0, 'Pacific Zone', '1350 Bacchus Dr, San Jose, CA 95122', 'Unknown', '1350 Bacchus Dr', 'CA', 'San Jose', '95122', '1350 Bacchus Dr, San Jose, CA 95122', 'WEST COAST'], index=clubs.columns),\n",
    "            pd.Series(['XTREME', 0, 'Southern Pacific Zone', 'CBU, 8432 Magnolia Ave, Riverside, CA 92504', 'CBU', '8432 Magnolia Ave', 'CA', 'Riverside', '92504', '8432 Magnolia Ave, Riverside, CA 92504', 'XTREME'], index=clubs.columns),\n",
    "            pd.Series(['REGENCY', 0, 'Southern Pacific Zone', 'Mater Dei High, 1202 W Edinger Ave, Santa Ana, CA 92707', 'Mater Dei High', '1202 W Edinger Ave', 'CA', 'Santa Ana', '92707', '1202 W Edinger Ave, Santa Ana, CA 92707', 'REGENCY'], index=clubs.columns),\n",
    "            pd.Series(['STRAKE JESUIT', 0, 'Southwest Zone', 'Strake Jesuit College Preparatory, 8900 Bellaire Blvd, Houston, TX 77036', 'Strake Jesuit College Preparatory', '8900 Bellaire Blvd', 'TX', 'Houston', '77036', '8900 Bellaire Blvd, Houston, TX 77036', 'JESUIT'], index=clubs.columns),\n",
    "            pd.Series(['GOLDEN STATE', 0, 'Pacific Zone', '1700 W Hillsdale Blvd, San Mateo, CA 94402', 'Unknown', '1700 W Hillsdale Blvd', 'CA', 'San Mateo', '94402', '1700 W Hillsdale Blvd, San Mateo, CA 94402', 'GOLDEN STATE'], index=clubs.columns),\n",
    "            pd.Series(['SCRIPPS', 0, 'Pacific Southwest Zone', '10410 Falcon Way, San Diego, CA 92131', 'Unknown', '10410 Falcon Way', 'CA', 'San Diego', '92131', '10410 Falcon Way, San Diego, CA 92131', 'SCRIPPS'], index=clubs.columns),\n",
    "            pd.Series(['LAMORINDA BRENTWOOD', 0, 'Central California Zone', '101 American Ave, Brentwood, CA 94513', 'Unknown', '101 American Ave', 'CA', 'Brentwood', '94513', '101 American Ave, Brentwood, CA 94513', 'LAMORINDA BRENTWOOD'], index=clubs.columns),\n",
    "            pd.Series(['ROWLAND RACERS', 0, 'Coastal California Zone', 'Rowland, High School, 2000 S Otterbein Ave, Rowland Heights, CA 91748', 'Rowland High School', '2000 S Otterbein Ave', 'CA', 'Rowland Heights', '91748', '2000 S Otterbein Ave, Rowland Heights, CA 91748', 'RACERS'], index=clubs.columns), \n",
    "            pd.Series(['ACADEMY WATER POLO CLUB', 0, 'Pacific Zone', '147 Gregory Ln, Pleasant Hill, CA 94523', 'Unknown', '147 Gregory Ln', 'CA', 'Pleasant Hill', '94523', '147 Gregory Ln, Pleasant Hill, CA 94523', 'ACADEMY'], index=clubs.columns),\n",
    "            pd.Series(['OHLONE', 0, 'Pacific Zone', '43600 Mission Blvd, Fremont, CA 94539', 'Unknown', '43600 Mission Blvd', 'CA', 'Fremont', '94539', '43600 Mission Blvd, Fremont, CA 94539', 'OHLONE'], index=clubs.columns), \n",
    "            pd.Series(['VALLEY FALCONS', 0, 'Southern Pacific Zone', '1801 S Greenville St, Santa Ana, CA 92704', 'Unknown', '1801 S Greenville St', 'CA', 'Santa Ana', '92704', '1801 S Greenville St, Santa Ana, CA 92704', 'VALLEY FALCONS'], index=clubs.columns), \n",
    "            pd.Series(['FULLERTON HILLS', 0, 'Southern Pacific Zone', '1801 Lancer Way, Fullerton, CA 92833', 'Unknown', '1801 Lancer Way', 'CA', 'Fullerton', '92833', '1801 Lancer Way, Fullerton, CA 92833', 'FULLERTON HILLS'], index=clubs.columns),\n",
    "            pd.Series(['PALM SPRINGS', 0, 'Coastal California Zone', '2401 E Baristo Rd, Palm Springs, CA 92262', 'Palm Springs High School', '2401 E Baristo Rd', 'CA', 'Palm Springs', '92262', '2401 E Baristo Rd, Palm Springs, CA 92262', 'PALM SPRINGS'], index=clubs.columns),\n",
    "            pd.Series(['PIERCE COUNTY', 0, 'Pacific Northwest & Hawaii Zone', '5410 20th St E, Fife, WA 98424', 'Unknown', '5410 20th St E', 'WA', 'Fife', '98424', '5410 20th St E, Fife, WA 98424', 'PIERCE COUNTY'], index=clubs.columns),\n",
    "            pd.Series(['LA CANADA', 0, 'Southern Pacific Zone', '4463 Oak Grove Dr, La Canada Flintridge, CA 91011', 'Unknown', '4463 Oak Grove Dr', 'CA', 'La Canada Flintridge', '91011', '4463 Oak Grove Dr, La Canada Flintridge, CA 91011', 'LA CANADA'], index=clubs.columns),\n",
    "            pd.Series(['PNW SHORES', 0, 'Pacific Northwest & Hawaii Zone', '650 SW Campus Dr, Federal Way, WA 98023', 'Unknown', '650 SW Campus Dr', 'WA', 'Federal Way', '98023', '650 SW Campus Dr, Federal Way, WA 98023', 'PNW SHORES'], index=clubs.columns),\n",
    "            pd.Series(['SAN MARINO', 0, 'Southern Pacific Zone', '2701 Huntington Dr, San Marino, CA 91108', 'San Marino High School', '2701 Huntington Dr', 'CA', 'San Marino', '91108', '2701 Huntington Dr, San Marino, CA 91108', 'SAN MARINO'], index=clubs.columns),\n",
    "            pd.Series(['SANTA ANA', 0, 'Southern Pacific Zone', '520 West Walnut, Santa Ana, CA 92701', 'Santa Ana High School', '520 West Walnut', 'CA', 'Santa Ana', '92701', '520 West Walnut, Santa Ana, CA 92701', 'SANTA ANA'], index=clubs.columns),\n",
    "            pd.Series(['LOS ANGELES ATHLETIC LAAC', 0, 'Southern Pacific Zone', '431 W 7th St, Los Angeles, CA 90014', 'Unknown', '431 W 7th St', 'CA', 'Los Angeles', '90014', '431 W 7th St, Los Angeles, CA 90014', 'LOS ANGELES ATHLETIC LAAC'], index=clubs.columns),\n",
    "            pd.Series(['SOQUEL', 0, 'Pacific Zone', '401 Soquel San Jose Rd, Soquel, CA 95073', 'Unknown', '401 Soquel San Jose Rd', 'CA', 'Soquel', '95073', '401 Soquel San Jose Rd, Soquel, CA 95073', 'SOQUEL'], index=clubs.columns)]"
   ]
  },
  {
   "cell_type": "code",
   "execution_count": 67,
   "metadata": {},
   "outputs": [],
   "source": [
    "clubs = clubs.append(new_clubs, ignore_index=True) "
   ]
  },
  {
   "cell_type": "code",
   "execution_count": 68,
   "metadata": {},
   "outputs": [
    {
     "data": {
      "text/html": [
       "<div>\n",
       "<style scoped>\n",
       "    .dataframe tbody tr th:only-of-type {\n",
       "        vertical-align: middle;\n",
       "    }\n",
       "\n",
       "    .dataframe tbody tr th {\n",
       "        vertical-align: top;\n",
       "    }\n",
       "\n",
       "    .dataframe thead th {\n",
       "        text-align: right;\n",
       "    }\n",
       "</style>\n",
       "<table border=\"1\" class=\"dataframe\">\n",
       "  <thead>\n",
       "    <tr style=\"text-align: right;\">\n",
       "      <th></th>\n",
       "      <th>club_name</th>\n",
       "      <th>club_id</th>\n",
       "      <th>club_zone</th>\n",
       "      <th>og_loc</th>\n",
       "      <th>pool_name</th>\n",
       "      <th>address</th>\n",
       "      <th>state</th>\n",
       "      <th>city</th>\n",
       "      <th>zip</th>\n",
       "      <th>loc</th>\n",
       "      <th>club_short</th>\n",
       "    </tr>\n",
       "  </thead>\n",
       "  <tbody>\n",
       "    <tr>\n",
       "      <th>0</th>\n",
       "      <td>209 WATER POLO CLUB</td>\n",
       "      <td>31318</td>\n",
       "      <td>Central California Zone</td>\n",
       "      <td>Primary Pool:Buhach Colony High School1800 Buh...</td>\n",
       "      <td>Buhach Colony High School</td>\n",
       "      <td>1800 Buhach Road</td>\n",
       "      <td>CA</td>\n",
       "      <td>Atwater</td>\n",
       "      <td>95301</td>\n",
       "      <td>1800 Buhach Road, Atwater, CA 95301</td>\n",
       "      <td>209</td>\n",
       "    </tr>\n",
       "    <tr>\n",
       "      <th>1</th>\n",
       "      <td>A-TOWN WATER POLO CLUB</td>\n",
       "      <td>30234</td>\n",
       "      <td>Central California Zone</td>\n",
       "      <td>Primary Pool:Atascadero High School1 High Scho...</td>\n",
       "      <td>Atascadero High School</td>\n",
       "      <td>1 High School Hill</td>\n",
       "      <td>CA</td>\n",
       "      <td>Atascadero</td>\n",
       "      <td>93422</td>\n",
       "      <td>1 High School Hill, Atascadero, CA 93422</td>\n",
       "      <td>A-TOWN</td>\n",
       "    </tr>\n",
       "    <tr>\n",
       "      <th>2</th>\n",
       "      <td>ALUMNI WATER POLO CLUB</td>\n",
       "      <td>23883</td>\n",
       "      <td>Central California Zone</td>\n",
       "      <td>Primary Pool:Granite Bay High School Pool1 Gri...</td>\n",
       "      <td>Granite Bay High School Pool</td>\n",
       "      <td>1 Grizzly Way</td>\n",
       "      <td>CA</td>\n",
       "      <td>Granite Bay</td>\n",
       "      <td>95746</td>\n",
       "      <td>1 Grizzly Way, Granite Bay, CA 95746</td>\n",
       "      <td>ALUMNI</td>\n",
       "    </tr>\n",
       "    <tr>\n",
       "      <th>3</th>\n",
       "      <td>AMERICAN RIVER WATER POLO CLUB</td>\n",
       "      <td>85</td>\n",
       "      <td>Central California Zone</td>\n",
       "      <td>Primary Pool:Rio Americano High School4540 Ame...</td>\n",
       "      <td>Rio Americano High School</td>\n",
       "      <td>4540 American River Dr</td>\n",
       "      <td>CA</td>\n",
       "      <td>Sacramento</td>\n",
       "      <td>95864</td>\n",
       "      <td>4540 American River Dr, Sacramento, CA 95864</td>\n",
       "      <td>AMERICAN RIVER</td>\n",
       "    </tr>\n",
       "    <tr>\n",
       "      <th>4</th>\n",
       "      <td>ARROYO GRANDE WATER POLO</td>\n",
       "      <td>21063</td>\n",
       "      <td>Central California Zone</td>\n",
       "      <td>Primary Pool:Arroyo Grande High School495 Vall...</td>\n",
       "      <td>Arroyo Grande High School</td>\n",
       "      <td>495 Valley Rd</td>\n",
       "      <td>CA</td>\n",
       "      <td>Arroyo Grande</td>\n",
       "      <td>93420</td>\n",
       "      <td>495 Valley Rd, Arroyo Grande, CA 93420</td>\n",
       "      <td>ARROYO GRANDE</td>\n",
       "    </tr>\n",
       "  </tbody>\n",
       "</table>\n",
       "</div>"
      ],
      "text/plain": [
       "                        club_name club_id                club_zone  \\\n",
       "0             209 WATER POLO CLUB   31318  Central California Zone   \n",
       "1          A-TOWN WATER POLO CLUB   30234  Central California Zone   \n",
       "2          ALUMNI WATER POLO CLUB   23883  Central California Zone   \n",
       "3  AMERICAN RIVER WATER POLO CLUB      85  Central California Zone   \n",
       "4        ARROYO GRANDE WATER POLO   21063  Central California Zone   \n",
       "\n",
       "                                              og_loc  \\\n",
       "0  Primary Pool:Buhach Colony High School1800 Buh...   \n",
       "1  Primary Pool:Atascadero High School1 High Scho...   \n",
       "2  Primary Pool:Granite Bay High School Pool1 Gri...   \n",
       "3  Primary Pool:Rio Americano High School4540 Ame...   \n",
       "4  Primary Pool:Arroyo Grande High School495 Vall...   \n",
       "\n",
       "                      pool_name                 address state           city  \\\n",
       "0     Buhach Colony High School        1800 Buhach Road    CA        Atwater   \n",
       "1        Atascadero High School      1 High School Hill    CA     Atascadero   \n",
       "2  Granite Bay High School Pool           1 Grizzly Way    CA    Granite Bay   \n",
       "3     Rio Americano High School  4540 American River Dr    CA     Sacramento   \n",
       "4     Arroyo Grande High School           495 Valley Rd    CA  Arroyo Grande   \n",
       "\n",
       "     zip                                           loc      club_short  \n",
       "0  95301           1800 Buhach Road, Atwater, CA 95301             209  \n",
       "1  93422      1 High School Hill, Atascadero, CA 93422          A-TOWN  \n",
       "2  95746          1 Grizzly Way, Granite Bay, CA 95746          ALUMNI  \n",
       "3  95864  4540 American River Dr, Sacramento, CA 95864  AMERICAN RIVER  \n",
       "4  93420        495 Valley Rd, Arroyo Grande, CA 93420   ARROYO GRANDE  "
      ]
     },
     "execution_count": 68,
     "metadata": {},
     "output_type": "execute_result"
    }
   ],
   "source": [
    "clubs.head()"
   ]
  },
  {
   "cell_type": "code",
   "execution_count": 69,
   "metadata": {},
   "outputs": [],
   "source": [
    "map1 = map1.drop(['match amount'], axis=1)\n",
    "map1.set_index('club_name', inplace=True)"
   ]
  },
  {
   "cell_type": "code",
   "execution_count": 70,
   "metadata": {},
   "outputs": [],
   "source": [
    "map1_dict = map1.to_dict()\n",
    "map1_dict = map1_dict['match_name']"
   ]
  },
  {
   "cell_type": "code",
   "execution_count": 71,
   "metadata": {},
   "outputs": [],
   "source": [
    "del map1_dict['WEST COAST']\n",
    "del map1_dict['BEAST']\n",
    "del map1_dict['VIKINGS']\n",
    "del map1_dict['FRASER VALLEY']"
   ]
  },
  {
   "cell_type": "code",
   "execution_count": 72,
   "metadata": {},
   "outputs": [],
   "source": [
    "final_rankings = rankings.copy()\n",
    "final_rankings['club_short'] = final_rankings['club_short'].str.upper()\n",
    "final_rankings['club_short'] = final_rankings['club_short'].replace('\\s+', ' ', regex=True)\n",
    "final_rankings['club_short'].replace(correct_clubs, regex=False, inplace=True)\n",
    "final_rankings['club_short'].replace(map1_dict, regex=False, inplace=True)\n",
    "final_rankings['club_short'] = final_rankings['club_short'].str.strip()\n",
    "final_rankings['club_short'] = final_rankings['club_short'].replace('\\s+', ' ', regex=True)"
   ]
  },
  {
   "cell_type": "code",
   "execution_count": 73,
   "metadata": {},
   "outputs": [],
   "source": [
    "complete_rank = final_rankings.merge(clubs[['club_short', 'club_id', 'club_zone', 'address', 'city', 'zip', 'loc', 'state']], on='club_short', how='left')"
   ]
  },
  {
   "cell_type": "code",
   "execution_count": 74,
   "metadata": {},
   "outputs": [
    {
     "data": {
      "text/plain": [
       "(53, 16)"
      ]
     },
     "execution_count": 74,
     "metadata": {},
     "output_type": "execute_result"
    }
   ],
   "source": [
    "complete_rank[complete_rank['club_id'].isnull()].shape"
   ]
  },
  {
   "cell_type": "code",
   "execution_count": 75,
   "metadata": {},
   "outputs": [
    {
     "data": {
      "text/plain": [
       "(6255, 16)"
      ]
     },
     "execution_count": 75,
     "metadata": {},
     "output_type": "execute_result"
    }
   ],
   "source": [
    "complete_rank.shape"
   ]
  },
  {
   "cell_type": "code",
   "execution_count": 76,
   "metadata": {},
   "outputs": [
    {
     "data": {
      "text/plain": [
       "(6255, 9)"
      ]
     },
     "execution_count": 76,
     "metadata": {},
     "output_type": "execute_result"
    }
   ],
   "source": [
    "rankings.shape"
   ]
  },
  {
   "cell_type": "code",
   "execution_count": 77,
   "metadata": {
    "scrolled": false
   },
   "outputs": [
    {
     "data": {
      "text/plain": [
       "                    10\n",
       "NCA                  4\n",
       "RR                   4\n",
       "BEAR                 3\n",
       "A2                   3\n",
       "HOLA!                3\n",
       "SPRING               2\n",
       "LRP                  2\n",
       "ONE                  2\n",
       "FRASER VALLEY        2\n",
       "BYE                  1\n",
       "BEAST                1\n",
       "NXT                  1\n",
       "WOODCREEK            1\n",
       "TWWPMAROON           1\n",
       "ERHS                 1\n",
       "NORSE                1\n",
       "OCEANSIDE            1\n",
       "SERPENT WARRIORS     1\n",
       "TWWP                 1\n",
       "AVENGERS             1\n",
       "101                  1\n",
       "COPS                 1\n",
       "SPWPC                1\n",
       "SEASIDE ROYAL        1\n",
       "FORCE                1\n",
       "APACHE               1\n",
       "UNITED COZY          1\n",
       "Name: club_short, dtype: int64"
      ]
     },
     "execution_count": 77,
     "metadata": {},
     "output_type": "execute_result"
    }
   ],
   "source": [
    "complete_rank.loc[complete_rank['club_id'].isnull(), 'club_short'].value_counts()"
   ]
  },
  {
   "cell_type": "code",
   "execution_count": 78,
   "metadata": {},
   "outputs": [
    {
     "data": {
      "text/html": [
       "<div>\n",
       "<style scoped>\n",
       "    .dataframe tbody tr th:only-of-type {\n",
       "        vertical-align: middle;\n",
       "    }\n",
       "\n",
       "    .dataframe tbody tr th {\n",
       "        vertical-align: top;\n",
       "    }\n",
       "\n",
       "    .dataframe thead th {\n",
       "        text-align: right;\n",
       "    }\n",
       "</style>\n",
       "<table border=\"1\" class=\"dataframe\">\n",
       "  <thead>\n",
       "    <tr style=\"text-align: right;\">\n",
       "      <th></th>\n",
       "      <th>finish</th>\n",
       "      <th>club_name</th>\n",
       "      <th>age</th>\n",
       "      <th>sex</th>\n",
       "      <th>year</th>\n",
       "      <th>og_name</th>\n",
       "      <th>squad</th>\n",
       "      <th>tie</th>\n",
       "      <th>club_short</th>\n",
       "      <th>club_id</th>\n",
       "      <th>club_zone</th>\n",
       "      <th>address</th>\n",
       "      <th>city</th>\n",
       "      <th>zip</th>\n",
       "      <th>loc</th>\n",
       "      <th>state</th>\n",
       "    </tr>\n",
       "  </thead>\n",
       "  <tbody>\n",
       "    <tr>\n",
       "      <th>0</th>\n",
       "      <td>1</td>\n",
       "      <td>LAGUNA BEACH WATER POLO</td>\n",
       "      <td>10</td>\n",
       "      <td>Girls</td>\n",
       "      <td>2016</td>\n",
       "      <td>LAGUNA BEACH WATER POLO</td>\n",
       "      <td>A</td>\n",
       "      <td>0.0</td>\n",
       "      <td>LAGUNA BEACH</td>\n",
       "      <td>717</td>\n",
       "      <td>Southern Pacific Zone</td>\n",
       "      <td>625 Park Ave</td>\n",
       "      <td>Laguna Beach</td>\n",
       "      <td>92651</td>\n",
       "      <td>625 Park Ave, Laguna Beach, CA 92651</td>\n",
       "      <td>CA</td>\n",
       "    </tr>\n",
       "    <tr>\n",
       "      <th>1</th>\n",
       "      <td>1</td>\n",
       "      <td>VANGUARD AQUATICS</td>\n",
       "      <td>12</td>\n",
       "      <td>Boys</td>\n",
       "      <td>2016</td>\n",
       "      <td>VANGUARD AQUATICS</td>\n",
       "      <td>A</td>\n",
       "      <td>0.0</td>\n",
       "      <td>VANGUARD</td>\n",
       "      <td>17185</td>\n",
       "      <td>Southern Pacific Zone</td>\n",
       "      <td>2301 W Mac</td>\n",
       "      <td>Santa Ana</td>\n",
       "      <td>92704</td>\n",
       "      <td>2301 W Mac, Santa Ana, CA 92704</td>\n",
       "      <td>CA</td>\n",
       "    </tr>\n",
       "    <tr>\n",
       "      <th>2</th>\n",
       "      <td>1</td>\n",
       "      <td>LOS ANGELES PREMIER</td>\n",
       "      <td>14</td>\n",
       "      <td>Boys</td>\n",
       "      <td>2016</td>\n",
       "      <td>LOS ANGELES PREMIER</td>\n",
       "      <td>A</td>\n",
       "      <td>0.0</td>\n",
       "      <td>LOS ANGELES PREMIER</td>\n",
       "      <td>22230</td>\n",
       "      <td>Coastal California Zone</td>\n",
       "      <td>3700 Coldwater Cayon</td>\n",
       "      <td>Studio City</td>\n",
       "      <td>91604</td>\n",
       "      <td>3700 Coldwater Cayon, Studio City, CA 91604</td>\n",
       "      <td>CA</td>\n",
       "    </tr>\n",
       "    <tr>\n",
       "      <th>3</th>\n",
       "      <td>1</td>\n",
       "      <td>STANFORD WATER POLO FOUNDATION</td>\n",
       "      <td>16</td>\n",
       "      <td>Boys</td>\n",
       "      <td>2016</td>\n",
       "      <td>STANFORD WATER POLO FOUNDATION</td>\n",
       "      <td>A</td>\n",
       "      <td>0.0</td>\n",
       "      <td>STANFORD</td>\n",
       "      <td>570</td>\n",
       "      <td>Pacific Zone</td>\n",
       "      <td>Avery Aquatic Center</td>\n",
       "      <td>Stanford</td>\n",
       "      <td>94305</td>\n",
       "      <td>Avery Aquatic Center, Stanford, CA 94305</td>\n",
       "      <td>CA</td>\n",
       "    </tr>\n",
       "    <tr>\n",
       "      <th>4</th>\n",
       "      <td>1</td>\n",
       "      <td>REGENCY WATER POLO CLUB</td>\n",
       "      <td>18</td>\n",
       "      <td>Boys</td>\n",
       "      <td>2016</td>\n",
       "      <td>REGENCY WATER POLO CLUB</td>\n",
       "      <td>A</td>\n",
       "      <td>0.0</td>\n",
       "      <td>REGENCY</td>\n",
       "      <td>0</td>\n",
       "      <td>Southern Pacific Zone</td>\n",
       "      <td>1202 W Edinger Ave</td>\n",
       "      <td>Santa Ana</td>\n",
       "      <td>92707</td>\n",
       "      <td>1202 W Edinger Ave, Santa Ana, CA 92707</td>\n",
       "      <td>CA</td>\n",
       "    </tr>\n",
       "  </tbody>\n",
       "</table>\n",
       "</div>"
      ],
      "text/plain": [
       "   finish                       club_name  age    sex  year  \\\n",
       "0       1         LAGUNA BEACH WATER POLO   10  Girls  2016   \n",
       "1       1               VANGUARD AQUATICS   12   Boys  2016   \n",
       "2       1             LOS ANGELES PREMIER   14   Boys  2016   \n",
       "3       1  STANFORD WATER POLO FOUNDATION   16   Boys  2016   \n",
       "4       1         REGENCY WATER POLO CLUB   18   Boys  2016   \n",
       "\n",
       "                          og_name squad  tie           club_short club_id  \\\n",
       "0         LAGUNA BEACH WATER POLO     A  0.0         LAGUNA BEACH     717   \n",
       "1               VANGUARD AQUATICS     A  0.0             VANGUARD   17185   \n",
       "2             LOS ANGELES PREMIER     A  0.0  LOS ANGELES PREMIER   22230   \n",
       "3  STANFORD WATER POLO FOUNDATION     A  0.0             STANFORD     570   \n",
       "4         REGENCY WATER POLO CLUB     A  0.0              REGENCY       0   \n",
       "\n",
       "                 club_zone               address          city    zip  \\\n",
       "0    Southern Pacific Zone          625 Park Ave  Laguna Beach  92651   \n",
       "1    Southern Pacific Zone            2301 W Mac     Santa Ana  92704   \n",
       "2  Coastal California Zone  3700 Coldwater Cayon   Studio City  91604   \n",
       "3             Pacific Zone  Avery Aquatic Center      Stanford  94305   \n",
       "4    Southern Pacific Zone    1202 W Edinger Ave     Santa Ana  92707   \n",
       "\n",
       "                                           loc state  \n",
       "0         625 Park Ave, Laguna Beach, CA 92651    CA  \n",
       "1              2301 W Mac, Santa Ana, CA 92704    CA  \n",
       "2  3700 Coldwater Cayon, Studio City, CA 91604    CA  \n",
       "3     Avery Aquatic Center, Stanford, CA 94305    CA  \n",
       "4      1202 W Edinger Ave, Santa Ana, CA 92707    CA  "
      ]
     },
     "execution_count": 78,
     "metadata": {},
     "output_type": "execute_result"
    }
   ],
   "source": [
    "complete_rank.head()"
   ]
  },
  {
   "cell_type": "code",
   "execution_count": 79,
   "metadata": {},
   "outputs": [],
   "source": [
    "complete_rank.to_csv('complete_ranking.csv')"
   ]
  }
 ],
 "metadata": {
  "kernelspec": {
   "display_name": "usawp",
   "language": "python",
   "name": "usawp"
  },
  "language_info": {
   "codemirror_mode": {
    "name": "ipython",
    "version": 3
   },
   "file_extension": ".py",
   "mimetype": "text/x-python",
   "name": "python",
   "nbconvert_exporter": "python",
   "pygments_lexer": "ipython3",
   "version": "3.6.9"
  }
 },
 "nbformat": 4,
 "nbformat_minor": 2
}
