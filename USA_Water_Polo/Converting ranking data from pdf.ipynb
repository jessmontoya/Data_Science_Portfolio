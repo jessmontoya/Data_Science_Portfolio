{
 "cells": [
  {
   "cell_type": "markdown",
   "metadata": {},
   "source": [
    "# Importing and cleaning Junior Olympics ranking data\n",
    "\n",
    "\n",
    "How has the distribution of participating teams from across the country changed since 2010? \n",
    "How have non-california teams performed since 2010?\n",
    "Do the same teams dominate both girls and boys categories?"
   ]
  },
  {
   "cell_type": "code",
   "execution_count": 1,
   "metadata": {},
   "outputs": [],
   "source": [
    "from tabula import read_pdf\n",
    "import pandas as pd"
   ]
  },
  {
   "cell_type": "code",
   "execution_count": 2,
   "metadata": {},
   "outputs": [],
   "source": [
    "import PyPDF2"
   ]
  },
  {
   "cell_type": "code",
   "execution_count": 3,
   "metadata": {},
   "outputs": [],
   "source": [
    "import os"
   ]
  },
  {
   "cell_type": "code",
   "execution_count": 4,
   "metadata": {},
   "outputs": [],
   "source": [
    "import re\n",
    "import numpy as np"
   ]
  },
  {
   "cell_type": "code",
   "execution_count": 5,
   "metadata": {},
   "outputs": [],
   "source": [
    "pd.set_option('display.max_rows', None)"
   ]
  },
  {
   "cell_type": "markdown",
   "metadata": {},
   "source": [
    "## Import and clean pdf files\n",
    "Import and clean using a function that works with the format of the majority of the files."
   ]
  },
  {
   "cell_type": "code",
   "execution_count": 6,
   "metadata": {},
   "outputs": [],
   "source": [
    "folder_path = \"/home/jessie/Documents/Data\"\n",
    "\n",
    "files = os.listdir(folder_path)\n",
    "files = [x for x in files if ('.pdf' in x ) & ~('2018' in x) & (('Boys' in x) | ('Girls' in x)) & ~('2012 Girls' in x)]"
   ]
  },
  {
   "cell_type": "code",
   "execution_count": 7,
   "metadata": {},
   "outputs": [
    {
     "data": {
      "text/plain": [
       "['2016 Boys.pdf',\n",
       " '2013 Girls.pdf',\n",
       " '2012 Boys.pdf',\n",
       " '2013 Boys.pdf',\n",
       " '2017 Boys.pdf',\n",
       " '2015 Girls.pdf',\n",
       " '2014 Boys.pdf',\n",
       " '2017 Girls.pdf',\n",
       " '2014 Girls.pdf',\n",
       " '2015 Boys.pdf',\n",
       " '2016 Girls.pdf']"
      ]
     },
     "execution_count": 7,
     "metadata": {},
     "output_type": "execute_result"
    }
   ],
   "source": [
    "files"
   ]
  },
  {
   "cell_type": "code",
   "execution_count": 8,
   "metadata": {},
   "outputs": [],
   "source": [
    "def clean_df(df, filename):\n",
    "    df = df.set_index('Finish')\n",
    "\n",
    "    df = df.dropna(axis=0, how='all')\n",
    "\n",
    "    cols = df.columns.to_series()\n",
    "    cols = cols.dropna()\n",
    "    filtered_cols = cols[~cols.str.contains(r'unnamed', flags=re.I)]\n",
    "\n",
    "    df = df.dropna(axis=1, how='all')\n",
    "    df.columns = filtered_cols\n",
    "\n",
    "    #move second set of columns to top\n",
    "    grps = (df.index == 'Finish').cumsum()\n",
    "    dfs = []\n",
    "    for grp, dfg in df.groupby(grps):\n",
    "        if grp != 0:\n",
    "            dfg.columns = dfg.iloc[0].values\n",
    "            dfs.append(dfg)\n",
    "        else: dfs.append(dfg)\n",
    "\n",
    "    df_new = pd.concat(dfs, axis=1, sort=False)\n",
    "    df_new = df_new.drop('Finish', axis=0)\n",
    "    df_new = df_new.dropna(axis=0, how='all')\n",
    "\n",
    "    cols = df_new.columns.to_series()\n",
    "    cols = cols.dropna()\n",
    "    filtered_cols = cols[~cols.str.contains(r'unnamed', flags=re.I)]\n",
    "\n",
    "    df_new = df_new.loc[:, df_new.columns.notnull()]\n",
    "    df_new.columns = filtered_cols\n",
    "\n",
    "    df_new = df_new.apply(lambda col: col.str.upper())\n",
    "\n",
    "    df_stacked = df_new.stack().reset_index()\n",
    "    df_stacked = df_stacked.rename(columns = {'level_0':'Finish', 'level_1':'Category', 0:'Team'})\n",
    "    df_stacked['Age'] = df_stacked['Category'].str.extract(r'([0-9]{2})')\n",
    "    df_stacked['Sex'] = df_stacked['Category'].str.extract(r'\\b(\\w+)$')\n",
    "    df_stacked = df_stacked.drop('Category', axis=1)\n",
    "    df_stacked['Year'] = filename\n",
    "    df_stacked['Year'] = df_stacked['Year'].str.extract('^([\\w\\-]+)')\n",
    "    \n",
    "    return df_stacked"
   ]
  },
  {
   "cell_type": "code",
   "execution_count": 9,
   "metadata": {},
   "outputs": [],
   "source": [
    "data = pd.DataFrame(columns=['Finish', 'Team', 'Age', 'Sex', 'Year'])\n",
    "\n",
    "for pdf in files:\n",
    "    \n",
    "    df = read_pdf(pdf, stream=True, pages='all')\n",
    "    df_clean = clean_df(df,pdf)\n",
    "    data = pd.concat([data, df_clean], axis=0, sort=False)"
   ]
  },
  {
   "cell_type": "code",
   "execution_count": 10,
   "metadata": {
    "scrolled": true
   },
   "outputs": [
    {
     "data": {
      "text/plain": [
       "2015    704\n",
       "2017    699\n",
       "2016    642\n",
       "2014    589\n",
       "2013    558\n",
       "2012    300\n",
       "Name: Year, dtype: int64"
      ]
     },
     "execution_count": 10,
     "metadata": {},
     "output_type": "execute_result"
    }
   ],
   "source": [
    "data['Year'].value_counts()"
   ]
  },
  {
   "cell_type": "markdown",
   "metadata": {},
   "source": [
    "## Import and clean remaining pdf files\n",
    "A few of the files have a different format and required slightly different functions to import and clean."
   ]
  },
  {
   "cell_type": "code",
   "execution_count": 11,
   "metadata": {},
   "outputs": [],
   "source": [
    "other_files = ['2010.pdf', '2011.pdf', '2012 Girls.pdf']"
   ]
  },
  {
   "cell_type": "code",
   "execution_count": 12,
   "metadata": {},
   "outputs": [],
   "source": [
    "def clean_df_other(df, filename):\n",
    "    df = df.set_index('Finish')\n",
    "    grps = (df.index == 'Finish').cumsum()\n",
    "\n",
    "    dfs = []\n",
    "    for grp, dfg in df.groupby(grps):\n",
    "        if grp != 0:\n",
    "            dfg.columns = dfg.iloc[0].values\n",
    "            dfs.append(dfg)\n",
    "        else: dfs.append(dfg)\n",
    "        \n",
    "    df_new = pd.concat(dfs, axis=1, sort=False)\n",
    "    df_new = df_new.drop('Finish', axis=0)\n",
    "    df_new = df_new.dropna(axis=0, how='all')\n",
    "\n",
    "    cols = df_new.columns.to_series()\n",
    "    cols = cols.dropna()\n",
    "    filtered_cols = cols[~cols.str.contains(r'unnamed', flags=re.I)]\n",
    "    #filtered_cols = filtered_cols[~filtered_cols.str.contains(r'21', flags=re.I)]\n",
    "\n",
    "    df_new = df_new.dropna(axis=1, how='all')\n",
    "    df_new.columns = filtered_cols\n",
    "\n",
    "    df_new = df_new.apply(lambda col: col.str.upper())\n",
    "    \n",
    "    df_stacked = df_new.stack().reset_index()\n",
    "    df_stacked = df_stacked.rename(columns = {'level_0':'Finish', 'level_1':'Category', 0:'Team'})\n",
    "    df_stacked['Age'] = df_stacked['Category'].str.extract(r'([0-9]{2})')\n",
    "    df_stacked['Sex'] = df_stacked['Category'].str.extract(r'\\b(\\w+)$')\n",
    "    df_stacked = df_stacked.drop('Category', axis=1)\n",
    "    df_stacked['Year'] = filename\n",
    "    df_stacked['Year'] = df_stacked['Year'].str.extract('^([\\w\\-]+)')\n",
    "    return df_stacked"
   ]
  },
  {
   "cell_type": "code",
   "execution_count": 13,
   "metadata": {},
   "outputs": [],
   "source": [
    "for pdf in other_files:\n",
    "    \n",
    "    df = read_pdf(pdf, stream=True, pages='all')\n",
    "    df_clean = clean_df_other(df,pdf)\n",
    "    data = pd.concat([data, df_clean], axis=0, sort=False)"
   ]
  },
  {
   "cell_type": "code",
   "execution_count": 14,
   "metadata": {},
   "outputs": [
    {
     "data": {
      "text/plain": [
       "2015    704\n",
       "2017    699\n",
       "2016    642\n",
       "2014    589\n",
       "2012    559\n",
       "2013    558\n",
       "2011    512\n",
       "2010    352\n",
       "Name: Year, dtype: int64"
      ]
     },
     "execution_count": 14,
     "metadata": {},
     "output_type": "execute_result"
    }
   ],
   "source": [
    "data['Year'].value_counts()"
   ]
  },
  {
   "cell_type": "code",
   "execution_count": 15,
   "metadata": {},
   "outputs": [],
   "source": [
    "files_2018 = os.listdir(folder_path)\n",
    "files_2018 = [x for x in files_2018 if ('2018' in x)]"
   ]
  },
  {
   "cell_type": "code",
   "execution_count": 16,
   "metadata": {},
   "outputs": [
    {
     "data": {
      "text/plain": [
       "['2018JOresults-14UG.pdf',\n",
       " '2018JOresults-18uB.pdf',\n",
       " '2018JOresults-10UG.pdf',\n",
       " '2018JOresults-12UG.pdf',\n",
       " '2018JOresults-18UG.pdf',\n",
       " '2018JOresults-12uB.pdf',\n",
       " '2018JOresults-16UG.pdf',\n",
       " '2018JOresults-16uB.pdf',\n",
       " '2018JOresults-10UM.pdf',\n",
       " '2018JOresults-14uB.pdf']"
      ]
     },
     "execution_count": 16,
     "metadata": {},
     "output_type": "execute_result"
    }
   ],
   "source": [
    "files_2018"
   ]
  },
  {
   "cell_type": "code",
   "execution_count": 17,
   "metadata": {},
   "outputs": [],
   "source": [
    "df = read_pdf('2018JOresults-14uB.pdf', pages='all', lattice=True)"
   ]
  },
  {
   "cell_type": "code",
   "execution_count": 18,
   "metadata": {},
   "outputs": [
    {
     "data": {
      "text/html": [
       "<div>\n",
       "<style scoped>\n",
       "    .dataframe tbody tr th:only-of-type {\n",
       "        vertical-align: middle;\n",
       "    }\n",
       "\n",
       "    .dataframe tbody tr th {\n",
       "        vertical-align: top;\n",
       "    }\n",
       "\n",
       "    .dataframe thead th {\n",
       "        text-align: right;\n",
       "    }\n",
       "</style>\n",
       "<table border=\"1\" class=\"dataframe\">\n",
       "  <thead>\n",
       "    <tr style=\"text-align: right;\">\n",
       "      <th></th>\n",
       "      <th>14 &amp; Under Boys</th>\n",
       "      <th>Unnamed: 1</th>\n",
       "      <th>Unnamed: 2</th>\n",
       "    </tr>\n",
       "  </thead>\n",
       "  <tbody>\n",
       "    <tr>\n",
       "      <td>0</td>\n",
       "      <td>Flight</td>\n",
       "      <td>Team\\rFinish</td>\n",
       "      <td>Team Name</td>\n",
       "    </tr>\n",
       "    <tr>\n",
       "      <td>1</td>\n",
       "      <td>NaN</td>\n",
       "      <td>1</td>\n",
       "      <td>VANGUARD A</td>\n",
       "    </tr>\n",
       "    <tr>\n",
       "      <td>2</td>\n",
       "      <td>2</td>\n",
       "      <td>SOCAL BLACK A</td>\n",
       "      <td>NaN</td>\n",
       "    </tr>\n",
       "    <tr>\n",
       "      <td>3</td>\n",
       "      <td>3</td>\n",
       "      <td>LA PREMIER</td>\n",
       "      <td>NaN</td>\n",
       "    </tr>\n",
       "    <tr>\n",
       "      <td>4</td>\n",
       "      <td>4</td>\n",
       "      <td>STANFORD A</td>\n",
       "      <td>NaN</td>\n",
       "    </tr>\n",
       "  </tbody>\n",
       "</table>\n",
       "</div>"
      ],
      "text/plain": [
       "  14 & Under Boys     Unnamed: 1  Unnamed: 2\n",
       "0          Flight   Team\\rFinish   Team Name\n",
       "1             NaN              1  VANGUARD A\n",
       "2               2  SOCAL BLACK A         NaN\n",
       "3               3     LA PREMIER         NaN\n",
       "4               4     STANFORD A         NaN"
      ]
     },
     "execution_count": 18,
     "metadata": {},
     "output_type": "execute_result"
    }
   ],
   "source": [
    "df.head()"
   ]
  },
  {
   "cell_type": "code",
   "execution_count": 19,
   "metadata": {},
   "outputs": [],
   "source": [
    "def clean_df_2018(df, filename):\n",
    "    df.columns = ['Finish', 'Team', 'Blank']\n",
    "    df_new = df[~df['Finish'].str.contains('Flight', na=False)]\n",
    "    df_new = df_new[~df_new['Finish'].str.contains('Under', na=False)]\n",
    "    \n",
    "    new_finish = df_new.loc[df_new['Finish'].isnull(), 'Team']\n",
    "    new_team = df_new.loc[df_new['Finish'].isnull(), 'Blank']\n",
    "\n",
    "    df_new.loc[df_new['Finish'].isnull(), 'Team'] = new_team\n",
    "    df_new.loc[df_new['Finish'].isnull(), 'Finish'] = new_finish\n",
    "    df_new = df_new.drop('Blank', axis=1)\n",
    "    \n",
    "    df_new['Category'] = filename\n",
    "    df_new['Age'] = df_new['Category'].str.extract(r'-([0-9]{2})')\n",
    "    df_new['Sex'] = df_new['Category'].str.extract(r'[Uu]([GB]).')\n",
    "    df_new = df_new.drop('Category', axis=1)\n",
    "    df_new['Year'] = filename\n",
    "    df_new['Year'] = df_new['Year'].str.extract('^([\\w\\-]{4})')\n",
    "    \n",
    "    df_new.loc[df_new['Sex'] == 'G', 'Sex'] = 'Girls'\n",
    "    df_new.loc[df_new['Sex'] == 'B', 'Sex'] = 'Boys'\n",
    "    \n",
    "    return df_new"
   ]
  },
  {
   "cell_type": "code",
   "execution_count": 20,
   "metadata": {},
   "outputs": [],
   "source": [
    "for pdf in files_2018:\n",
    "    \n",
    "    df = read_pdf(pdf, pages='all', lattice=True)\n",
    "    df_clean = clean_df_2018(df,pdf)\n",
    "    data = pd.concat([data, df_clean], axis=0, sort=False)"
   ]
  },
  {
   "cell_type": "markdown",
   "metadata": {},
   "source": [
    "## Import and clean excel files\n",
    "The final files are excel and require a simpler function."
   ]
  },
  {
   "cell_type": "code",
   "execution_count": 21,
   "metadata": {},
   "outputs": [],
   "source": [
    "folder_path = \"/home/jessie/Documents/Data\"\n",
    "\n",
    "files_2019 = os.listdir(folder_path)\n",
    "files_2019 = [x for x in files_2019 if ('.xlsx' in x)]"
   ]
  },
  {
   "cell_type": "code",
   "execution_count": 22,
   "metadata": {},
   "outputs": [],
   "source": [
    "def df_from_csv(path):\n",
    "    df = read_csv(path, nrows=1) # read just first line for columns\n",
    "    columns = df.columns.tolist() # get the columns\n",
    "    cols_to_use = columns[:len(columns)-1] # drop the last one\n",
    "    df = read_csv(path, usecols=cols_to_use)\n",
    "    return df"
   ]
  },
  {
   "cell_type": "code",
   "execution_count": 23,
   "metadata": {},
   "outputs": [
    {
     "data": {
      "text/plain": [
       "['NJO 2019 Session 2 Final Placing.xlsx',\n",
       " 'NJO 2019 Session 1 Final Placing.xlsx']"
      ]
     },
     "execution_count": 23,
     "metadata": {},
     "output_type": "execute_result"
    }
   ],
   "source": [
    "files_2019"
   ]
  },
  {
   "cell_type": "code",
   "execution_count": 24,
   "metadata": {},
   "outputs": [],
   "source": [
    "def clean_excel(df, filename):\n",
    "    df_new = df.drop('Flight', axis=1)\n",
    "    df_new = df_new.set_index('Finish')\n",
    "    df_new = df_new.apply(lambda col: col.str.upper())\n",
    "\n",
    "    df_stacked = df_new.stack().reset_index()\n",
    "    df_stacked = df_stacked.rename(columns = {'level_1':'Category', 0:'Team'})\n",
    "    df_stacked['Age'] = df_stacked['Category'].str.extract(r'([0-9]{2})')\n",
    "    df_stacked['Sex'] = df_stacked['Category'].str.extract(r'\\b(\\w+)$')\n",
    "    df_stacked = df_stacked.drop('Category', axis=1)\n",
    "    df_stacked['Year'] = filename\n",
    "    df_stacked['Year'] = df_stacked['Year'].str.extract('([0-9]{4})')\n",
    "\n",
    "    return df_stacked"
   ]
  },
  {
   "cell_type": "code",
   "execution_count": 25,
   "metadata": {},
   "outputs": [],
   "source": [
    "for file in files_2019:\n",
    "    df = pd.read_excel(file)\n",
    "    df_clean = clean_excel(df, file)\n",
    "    data = pd.concat([data, df_clean], axis=0, sort=False)"
   ]
  },
  {
   "cell_type": "code",
   "execution_count": 26,
   "metadata": {},
   "outputs": [
    {
     "data": {
      "text/plain": [
       "2019    875\n",
       "2018    765\n",
       "2015    704\n",
       "2017    699\n",
       "2016    642\n",
       "2014    589\n",
       "2012    559\n",
       "2013    558\n",
       "2011    512\n",
       "2010    352\n",
       "Name: Year, dtype: int64"
      ]
     },
     "execution_count": 26,
     "metadata": {},
     "output_type": "execute_result"
    }
   ],
   "source": [
    "data['Year'].value_counts()"
   ]
  },
  {
   "cell_type": "code",
   "execution_count": 27,
   "metadata": {},
   "outputs": [
    {
     "data": {
      "text/html": [
       "<div>\n",
       "<style scoped>\n",
       "    .dataframe tbody tr th:only-of-type {\n",
       "        vertical-align: middle;\n",
       "    }\n",
       "\n",
       "    .dataframe tbody tr th {\n",
       "        vertical-align: top;\n",
       "    }\n",
       "\n",
       "    .dataframe thead th {\n",
       "        text-align: right;\n",
       "    }\n",
       "</style>\n",
       "<table border=\"1\" class=\"dataframe\">\n",
       "  <thead>\n",
       "    <tr style=\"text-align: right;\">\n",
       "      <th></th>\n",
       "      <th>Finish</th>\n",
       "      <th>Team</th>\n",
       "      <th>Age</th>\n",
       "      <th>Sex</th>\n",
       "      <th>Year</th>\n",
       "    </tr>\n",
       "  </thead>\n",
       "  <tbody>\n",
       "    <tr>\n",
       "      <td>0</td>\n",
       "      <td>1</td>\n",
       "      <td>LAGUNA BEACH WATER POLO</td>\n",
       "      <td>10</td>\n",
       "      <td>Girls</td>\n",
       "      <td>2016</td>\n",
       "    </tr>\n",
       "    <tr>\n",
       "      <td>1</td>\n",
       "      <td>1</td>\n",
       "      <td>VANGUARD AQUATICS</td>\n",
       "      <td>12</td>\n",
       "      <td>Boys</td>\n",
       "      <td>2016</td>\n",
       "    </tr>\n",
       "    <tr>\n",
       "      <td>2</td>\n",
       "      <td>1</td>\n",
       "      <td>LOS ANGELES PREMIER</td>\n",
       "      <td>14</td>\n",
       "      <td>Boys</td>\n",
       "      <td>2016</td>\n",
       "    </tr>\n",
       "    <tr>\n",
       "      <td>3</td>\n",
       "      <td>1</td>\n",
       "      <td>STANFORD WATER POLO FOUNDATION</td>\n",
       "      <td>16</td>\n",
       "      <td>Boys</td>\n",
       "      <td>2016</td>\n",
       "    </tr>\n",
       "    <tr>\n",
       "      <td>4</td>\n",
       "      <td>1</td>\n",
       "      <td>REGENCY WATER POLO CLUB</td>\n",
       "      <td>18</td>\n",
       "      <td>Boys</td>\n",
       "      <td>2016</td>\n",
       "    </tr>\n",
       "    <tr>\n",
       "      <td>5</td>\n",
       "      <td>2</td>\n",
       "      <td>SANTA BARBARA PREMIER</td>\n",
       "      <td>10</td>\n",
       "      <td>Girls</td>\n",
       "      <td>2016</td>\n",
       "    </tr>\n",
       "    <tr>\n",
       "      <td>6</td>\n",
       "      <td>2</td>\n",
       "      <td>CC UNITED</td>\n",
       "      <td>12</td>\n",
       "      <td>Boys</td>\n",
       "      <td>2016</td>\n",
       "    </tr>\n",
       "    <tr>\n",
       "      <td>7</td>\n",
       "      <td>2</td>\n",
       "      <td>SOCAL WATER POLO FOUNDATION</td>\n",
       "      <td>14</td>\n",
       "      <td>Boys</td>\n",
       "      <td>2016</td>\n",
       "    </tr>\n",
       "    <tr>\n",
       "      <td>8</td>\n",
       "      <td>2</td>\n",
       "      <td>SLEEPY HOLLOW AQUATICS</td>\n",
       "      <td>16</td>\n",
       "      <td>Boys</td>\n",
       "      <td>2016</td>\n",
       "    </tr>\n",
       "    <tr>\n",
       "      <td>9</td>\n",
       "      <td>2</td>\n",
       "      <td>680 WATER POLO</td>\n",
       "      <td>18</td>\n",
       "      <td>Boys</td>\n",
       "      <td>2016</td>\n",
       "    </tr>\n",
       "    <tr>\n",
       "      <td>10</td>\n",
       "      <td>3</td>\n",
       "      <td>SANTA BARBARA 805</td>\n",
       "      <td>10</td>\n",
       "      <td>Girls</td>\n",
       "      <td>2016</td>\n",
       "    </tr>\n",
       "    <tr>\n",
       "      <td>11</td>\n",
       "      <td>3</td>\n",
       "      <td>SHORE AQUATICS</td>\n",
       "      <td>12</td>\n",
       "      <td>Boys</td>\n",
       "      <td>2016</td>\n",
       "    </tr>\n",
       "    <tr>\n",
       "      <td>12</td>\n",
       "      <td>3</td>\n",
       "      <td>VANGUARD AQUATICS</td>\n",
       "      <td>14</td>\n",
       "      <td>Boys</td>\n",
       "      <td>2016</td>\n",
       "    </tr>\n",
       "    <tr>\n",
       "      <td>13</td>\n",
       "      <td>3</td>\n",
       "      <td>PRIDE WATER POLO ACADEMY</td>\n",
       "      <td>16</td>\n",
       "      <td>Boys</td>\n",
       "      <td>2016</td>\n",
       "    </tr>\n",
       "    <tr>\n",
       "      <td>14</td>\n",
       "      <td>3</td>\n",
       "      <td>LOS ANGELES PREMIER</td>\n",
       "      <td>18</td>\n",
       "      <td>Boys</td>\n",
       "      <td>2016</td>\n",
       "    </tr>\n",
       "    <tr>\n",
       "      <td>15</td>\n",
       "      <td>4</td>\n",
       "      <td>STANFORD WATER POLO FOUNDATION</td>\n",
       "      <td>10</td>\n",
       "      <td>Girls</td>\n",
       "      <td>2016</td>\n",
       "    </tr>\n",
       "    <tr>\n",
       "      <td>16</td>\n",
       "      <td>4</td>\n",
       "      <td>NORTH IRVINE WATER POLO CLUB</td>\n",
       "      <td>12</td>\n",
       "      <td>Boys</td>\n",
       "      <td>2016</td>\n",
       "    </tr>\n",
       "    <tr>\n",
       "      <td>17</td>\n",
       "      <td>4</td>\n",
       "      <td>STANFORD WATER POLO FOUNDATION</td>\n",
       "      <td>14</td>\n",
       "      <td>Boys</td>\n",
       "      <td>2016</td>\n",
       "    </tr>\n",
       "    <tr>\n",
       "      <td>18</td>\n",
       "      <td>4</td>\n",
       "      <td>SOCAL WATER POLO FOUNDATION</td>\n",
       "      <td>16</td>\n",
       "      <td>Boys</td>\n",
       "      <td>2016</td>\n",
       "    </tr>\n",
       "    <tr>\n",
       "      <td>19</td>\n",
       "      <td>4</td>\n",
       "      <td>VANGUARD AQUATICS</td>\n",
       "      <td>18</td>\n",
       "      <td>Boys</td>\n",
       "      <td>2016</td>\n",
       "    </tr>\n",
       "  </tbody>\n",
       "</table>\n",
       "</div>"
      ],
      "text/plain": [
       "   Finish                            Team Age    Sex  Year\n",
       "0       1         LAGUNA BEACH WATER POLO  10  Girls  2016\n",
       "1       1               VANGUARD AQUATICS  12   Boys  2016\n",
       "2       1             LOS ANGELES PREMIER  14   Boys  2016\n",
       "3       1  STANFORD WATER POLO FOUNDATION  16   Boys  2016\n",
       "4       1         REGENCY WATER POLO CLUB  18   Boys  2016\n",
       "5       2           SANTA BARBARA PREMIER  10  Girls  2016\n",
       "6       2                       CC UNITED  12   Boys  2016\n",
       "7       2     SOCAL WATER POLO FOUNDATION  14   Boys  2016\n",
       "8       2          SLEEPY HOLLOW AQUATICS  16   Boys  2016\n",
       "9       2                  680 WATER POLO  18   Boys  2016\n",
       "10      3               SANTA BARBARA 805  10  Girls  2016\n",
       "11      3                  SHORE AQUATICS  12   Boys  2016\n",
       "12      3               VANGUARD AQUATICS  14   Boys  2016\n",
       "13      3        PRIDE WATER POLO ACADEMY  16   Boys  2016\n",
       "14      3             LOS ANGELES PREMIER  18   Boys  2016\n",
       "15      4  STANFORD WATER POLO FOUNDATION  10  Girls  2016\n",
       "16      4    NORTH IRVINE WATER POLO CLUB  12   Boys  2016\n",
       "17      4  STANFORD WATER POLO FOUNDATION  14   Boys  2016\n",
       "18      4     SOCAL WATER POLO FOUNDATION  16   Boys  2016\n",
       "19      4               VANGUARD AQUATICS  18   Boys  2016"
      ]
     },
     "execution_count": 27,
     "metadata": {},
     "output_type": "execute_result"
    }
   ],
   "source": [
    "data.head(20)"
   ]
  },
  {
   "cell_type": "code",
   "execution_count": 28,
   "metadata": {},
   "outputs": [],
   "source": [
    "data['Team'] = data['Team'].str.strip(r'\\\\r')\n",
    "data['Team'] = data['Team'].str.replace('\\t\\r', '')\n",
    "data['Team'] = data['Team'].str.replace('\\r', ' ')"
   ]
  },
  {
   "cell_type": "code",
   "execution_count": 29,
   "metadata": {},
   "outputs": [],
   "source": [
    "data.to_csv('rankings.csv')"
   ]
  }
 ],
 "metadata": {
  "kernelspec": {
   "display_name": "Python 3",
   "language": "python",
   "name": "python3"
  },
  "language_info": {
   "codemirror_mode": {
    "name": "ipython",
    "version": 3
   },
   "file_extension": ".py",
   "mimetype": "text/x-python",
   "name": "python",
   "nbconvert_exporter": "python",
   "pygments_lexer": "ipython3",
   "version": "3.7.4"
  }
 },
 "nbformat": 4,
 "nbformat_minor": 2
}
